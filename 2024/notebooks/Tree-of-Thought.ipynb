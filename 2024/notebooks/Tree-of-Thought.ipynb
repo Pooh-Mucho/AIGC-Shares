{
 "cells": [
  {
   "cell_type": "code",
   "execution_count": 1,
   "id": "b1d3710f-23de-4ab6-bf36-69a19521affd",
   "metadata": {},
   "outputs": [],
   "source": [
    "import lxw\n",
    "import pandas as pd\n",
    "import re"
   ]
  },
  {
   "cell_type": "markdown",
   "id": "db021084-07b5-4d7b-8931-9eba98380b3c",
   "metadata": {},
   "source": [
    "# 1. 24点问题"
   ]
  },
  {
   "attachments": {},
   "cell_type": "markdown",
   "id": "efcea5ef-228d-40e4-aa49-ceae1c727c40",
   "metadata": {},
   "source": [
    "需要对Thought Decomposition、Thought Generator、State Evaluator进行精心的示例设计，泛化性低。"
   ]
  },
  {
   "cell_type": "code",
   "execution_count": 2,
   "id": "5cb3aca6-0956-4cb9-b027-bd384aec4faa",
   "metadata": {},
   "outputs": [],
   "source": [
    "# 5-shot\n",
    "standard_prompt = '''Use numbers and basic arithmetic operations (+ - * /) to obtain 24.\n",
    "Input: 4 4 6 8\n",
    "Answer: (4 + 8) * (6 - 4) = 24\n",
    "Input: 2 9 10 12\n",
    "Answer: 2 * 12 * (10 - 9) = 24\n",
    "Input: 4 9 10 13\n",
    "Answer: (13 - 9) * (10 - 4) = 24\n",
    "Input: 1 4 8 8\n",
    "Answer: (8 / 4 + 1) * 8 = 24\n",
    "Input: 5 5 5 9\n",
    "Answer: 5 + 5 + 5 + 9 = 24\n",
    "Input: {input}\n",
    "'''\n",
    "\n",
    "# 5-shot\n",
    "cot_prompt = '''Use numbers and basic arithmetic operations (+ - * /) to obtain 24. Each step, you are only allowed to choose two of the remaining numbers to obtain a new number.\n",
    "Input: 4 4 6 8\n",
    "Steps:\n",
    "4 + 8 = 12 (left: 4 6 12)\n",
    "6 - 4 = 2 (left: 2 12)\n",
    "2 * 12 = 24 (left: 24)\n",
    "Answer: (6 - 4) * (4 + 8) = 24\n",
    "Input: 2 9 10 12\n",
    "Steps:\n",
    "12 * 2 = 24 (left: 9 10 24)\n",
    "10 - 9 = 1 (left: 1 24)\n",
    "24 * 1 = 24 (left: 24)\n",
    "Answer: (12 * 2) * (10 - 9) = 24\n",
    "Input: 4 9 10 13\n",
    "Steps:\n",
    "13 - 10 = 3 (left: 3 4 9)\n",
    "9 - 3 = 6 (left: 4 6)\n",
    "4 * 6 = 24 (left: 24)\n",
    "Answer: 4 * (9 - (13 - 10)) = 24\n",
    "Input: 1 4 8 8\n",
    "Steps:\n",
    "8 / 4 = 2 (left: 1 2 8)\n",
    "1 + 2 = 3 (left: 3 8)\n",
    "3 * 8 = 24 (left: 24)\n",
    "Answer: (1 + 8 / 4) * 8 = 24\n",
    "Input: 5 5 5 9\n",
    "Steps:\n",
    "5 + 5 = 10 (left: 5 9 10)\n",
    "10 + 5 = 15 (left: 9 15)\n",
    "15 + 9 = 24 (left: 24)\n",
    "Answer: ((5 + 5) + 5) + 9 = 24\n",
    "Input: {input}\n",
    "'''\n",
    "\n",
    "# 1-shot\n",
    "propose_prompt = '''Input: 2 8 8 14\n",
    "Possible next steps:\n",
    "2 + 8 = 10 (left: 8 10 14)\n",
    "8 / 2 = 4 (left: 4 8 14)\n",
    "14 + 2 = 16 (left: 8 8 16)\n",
    "2 * 8 = 16 (left: 8 14 16)\n",
    "8 - 2 = 6 (left: 6 8 14)\n",
    "14 - 8 = 6 (left: 2 6 8)\n",
    "14 /  2 = 7 (left: 7 8 8)\n",
    "14 - 2 = 12 (left: 8 8 12)\n",
    "Input: {input}\n",
    "Possible next steps:\n",
    "'''\n",
    "\n",
    "value_prompt = '''Evaluate if given numbers can reach 24 (sure/likely/impossible)\n",
    "10 14\n",
    "10 + 14 = 24\n",
    "sure\n",
    "11 12\n",
    "11 + 12 = 23\n",
    "12 - 11 = 1\n",
    "11 * 12 = 132\n",
    "11 / 12 = 0.91\n",
    "impossible\n",
    "4 4 10\n",
    "4 + 4 + 10 = 8 + 10 = 18\n",
    "4 * 10 - 4 = 40 - 4 = 36\n",
    "(10 - 4) * 4 = 6 * 4 = 24\n",
    "sure\n",
    "4 9 11\n",
    "9 + 11 + 4 = 20 + 4 = 24\n",
    "sure\n",
    "5 7 8\n",
    "5 + 7 + 8 = 12 + 8 = 20\n",
    "(8 - 5) * 7 = 3 * 7 = 21\n",
    "I cannot obtain 24 now, but numbers are within a reasonable range\n",
    "likely\n",
    "5 6 6\n",
    "5 + 6 + 6 = 17\n",
    "(6 - 5) * 6 = 1 * 6 = 6\n",
    "I cannot obtain 24 now, but numbers are within a reasonable range\n",
    "likely\n",
    "10 10 11\n",
    "10 + 10 + 11 = 31\n",
    "(11 - 10) * 10 = 10\n",
    "10 10 10 are all too big\n",
    "impossible\n",
    "1 3 3\n",
    "1 * 3 * 3 = 9\n",
    "(1 + 3) * 3 = 12\n",
    "1 3 3 are all too small\n",
    "impossible\n",
    "{input}\n",
    "'''\n",
    "\n",
    "value_last_step_prompt = '''Use numbers and basic arithmetic operations (+ - * /) to obtain 24. Given an input and an answer, give a judgement (sure/impossible) if the answer is correct, i.e. it uses each input exactly once and no other numbers, and reach 24.\n",
    "Input: 4 4 6 8\n",
    "Answer: (4 + 8) * (6 - 4) = 24\n",
    "Judge: \n",
    "sure\n",
    "Input: 2 9 10 12\n",
    "Answer: 2 * 12 * (10 - 9) = 24\n",
    "Judge: \n",
    "sure\n",
    "Input: 4 9 10 13\n",
    "Answer: (13 - 9) * (10 - 4) = 24\n",
    "Judge: \n",
    "sure\n",
    "Input: 4 4 6 8\n",
    "Answer: (4 + 8) * (6 - 4) + 1 = 25\n",
    "Judge: \n",
    "impossible\n",
    "Input: 2 9 10 12\n",
    "Answer: 2 * (12 - 10) = 24\n",
    "Judge: \n",
    "impossible\n",
    "Input: 4 9 10 13\n",
    "Answer: (13 - 4) * (10 - 9) = 24\n",
    "Judge: \n",
    "impossible\n",
    "Input: {input}\n",
    "Answer: {answer}\n",
    "Judge:'''"
   ]
  },
  {
   "cell_type": "markdown",
   "id": "96d1f13d-2c97-47f6-ab7a-7ba5d453fd03",
   "metadata": {},
   "source": [
    "# 2. ToT Prompting"
   ]
  },
  {
   "cell_type": "markdown",
   "id": "9954cabd-5c6a-42dc-9895-f3465797e869",
   "metadata": {},
   "source": [
    "## 2.1 Prompts"
   ]
  },
  {
   "cell_type": "markdown",
   "id": "cfb6da7f-9463-4cc4-a687-16fda5930118",
   "metadata": {},
   "source": [
    "---"
   ]
  },
  {
   "cell_type": "markdown",
   "id": "88ea2102-5754-4be2-b6e9-19262a963685",
   "metadata": {},
   "source": [
    "Imagine three different experts are answering this question. All experts will write down 1 step of their thinking, then share it with the group. Then all experts will go on to the next step, etc. If any expert realises they're wrong at any point then they leave. The question is: <br>\n",
    "想象有三位不同的专家在回答这个问题。每位专家会写下他们思考的第一个步骤，然后与小组分享。接着，所有专家会继续进行下一个步骤，以此类推。只要大家发现有专家的步骤出错了，就让这位专家离开。问题是：\n"
   ]
  },
  {
   "cell_type": "markdown",
   "id": "8491708e-e2a4-4fad-9fa3-c9d921c70da4",
   "metadata": {},
   "source": [
    "---"
   ]
  },
  {
   "cell_type": "markdown",
   "id": "085f5919-cf91-4115-ba7d-a1e0a74e5804",
   "metadata": {},
   "source": [
    "Simulate three brilliant, logical experts collaboratively answering a question. Each one verbosely explains their thought process in real-time, considering the prior explanations of others and openly acknowledging mistakes. At each step, whenever possible, each expert refines and builds upon the thoughts of others, acknowledging their contributions. They continue until there is a definitive answer to the question. For clarity, your entire response should be in a markdown table. The question is... <br>\n",
    "模拟三位聪明且逻辑严谨的专家共同回答一个问题。每位专家都会详细解释他们的思考过程，考虑到他人之前的解释，并公开承认错误。在每一步中，每位专家都会在可能的情况下改进并基于他人的思路，认可他们的贡献。他们会一直继续，直到得出明确的答案。为了清晰起见，你的整个回答应以 Markdown 表格的形式呈现。问题是："
   ]
  },
  {
   "cell_type": "markdown",
   "id": "994906c8-e680-4265-aab4-22c7930d17ba",
   "metadata": {},
   "source": [
    "---"
   ]
  },
  {
   "cell_type": "markdown",
   "id": "5e5b70a4-25ba-4bce-aef1-b7df66d29bb8",
   "metadata": {},
   "source": [
    "Identify and behave as three different experts that are appropriate to answering this question.\n",
    "All experts will write down the step and their thinking about the step, then share it with the group.\n",
    "Then, all experts will go on to the next step, etc.\n",
    "At each step all experts will score their peers response between 1 and 5, 1 meaning it is highly unlikely, and 5 meaning it is highly likely.\n",
    "If any expert is judged to be wrong at any point then they leave.\n",
    "After all experts have provided their analysis, you then analyze all 3 analyses and provide either the consensus solution or your best guess solution.\n",
    "The question is... <br>\n",
    "确定并扮演三个适合回答此问题的专家。每位专家将写下步骤和他们对该步骤的思考，然后与小组分享。接着，所有专家会继续进行下一个步骤，以此类推。在每一步中，所有专家会对他们同伴的回答进行评分，评分范围为1到5分，1分表示非常不可能，5分表示非常可能。如果任何专家在某一时刻被认为是错误的，他们将退出。在所有专家提供他们的分析后，你需要分析这三份分析，并提供一致的解决方案或你认为最好的解决方案。问题是："
   ]
  },
  {
   "cell_type": "code",
   "execution_count": null,
   "id": "c0a3edaf-ff73-4415-9ef8-2bae60bc4f6a",
   "metadata": {},
   "outputs": [],
   "source": []
  },
  {
   "cell_type": "code",
   "execution_count": 4,
   "id": "acda2600-61ed-4c26-98db-53c2cee7e471",
   "metadata": {},
   "outputs": [],
   "source": [
    "def Direct_IO(question, model):\n",
    "    messages = [\n",
    "        {\n",
    "            \"role\": \"user\",\n",
    "            \"content\": question\n",
    "        }\n",
    "    ]\n",
    "\n",
    "    if not model:\n",
    "        model = lxw.gpt4_turbo_1106\n",
    "\n",
    "    client = lxw.new_client(model = model)\n",
    "\n",
    "    response = client.chat.completions.create(\n",
    "        model = model,\n",
    "        messages = messages\n",
    "    )\n",
    "    return response.choices[0].message.content"
   ]
  },
  {
   "cell_type": "code",
   "execution_count": 28,
   "id": "a41e06b8-4f31-42ca-9fce-8ebc38d5d6aa",
   "metadata": {},
   "outputs": [],
   "source": [
    "def ToT_Prompt_1(question, model = None):\n",
    "    prompt = (\n",
    "        'Imagine three different experts are answering this question. \\r\\n'\n",
    "        'All experts will write down 1 step of their thinking, then share it with the group. \\r\\n'\n",
    "        'Then all experts will go on to the next step, etc. \\r\\n'\n",
    "        'If any expert realises they are wrong at any point then they leave. \\r\\n'\n",
    "        'The question is: \\r\\n'\n",
    "    )\n",
    "        \n",
    "    messages = [\n",
    "        {\n",
    "            \"role\": \"user\",\n",
    "            \"content\": prompt + '```\\r\\n' + question + '\\r\\n```'\n",
    "        }\n",
    "    ]\n",
    "\n",
    "    if not model:\n",
    "        model = lxw.gpt4_turbo_1106\n",
    "\n",
    "    client = lxw.new_client(model = model)\n",
    "\n",
    "    response = client.chat.completions.create(\n",
    "        model = model,\n",
    "        messages = messages,\n",
    "        max_tokens = 4000,\n",
    "    )\n",
    "    return response.choices[0].message.content"
   ]
  },
  {
   "cell_type": "code",
   "execution_count": 38,
   "id": "8f467be7-3f83-436b-8795-7f8942cf5663",
   "metadata": {},
   "outputs": [],
   "source": [
    "def ToT_Prompt_1_CN(question, model = None):\n",
    "    prompt = (\n",
    "        '想象由三位不同的专家来共同回答这个问题的完整过程。\\r\\n'\n",
    "        '所有专家都写下他们思考这个问题的第1个步骤，然后与大家分享。\\r\\n'\n",
    "        '接下来，所有专家都写下他们思考的下一个步骤并分享。\\r\\n'\n",
    "        '以此类推，直到所有专家写完他们思考的所有步骤。\\r\\n'\n",
    "        '只要发现有专家的步骤出错了，就让这位专家离开。\\r\\n'\n",
    "        '问题是: \\r\\n'\n",
    "    )\n",
    "        \n",
    "    messages = [\n",
    "        {\n",
    "            \"role\": \"user\",\n",
    "            \"content\": prompt + '```\\r\\n' + question + '\\r\\n```'\n",
    "        }\n",
    "    ]\n",
    "\n",
    "    if not model:\n",
    "        model = lxw.gpt4_turbo_1106\n",
    "\n",
    "    client = lxw.new_client(model = model)\n",
    "\n",
    "    response = client.chat.completions.create(\n",
    "        model = model,\n",
    "        messages = messages\n",
    "    )\n",
    "    return response.choices[0].message.content"
   ]
  },
  {
   "cell_type": "code",
   "execution_count": 45,
   "id": "967adc2f-2fb5-42f5-9b38-264aa84d0464",
   "metadata": {},
   "outputs": [],
   "source": [
    "def ToT_Prompt_1_Final(question, model = None):\n",
    "    system_prompt = '''\n",
    "# Profile\n",
    "You simulate three brilliant logic experts collaborating to answer questions. The three experts are Expert1, Expert2, and Expert3\n",
    "\n",
    "# Workflow\n",
    "1. User input the question.\n",
    "2. All experts will write down 1 step of their thinking, then share it with the group.\n",
    "3. Then all experts will go on to the next step, etc.\n",
    "4. If any expert realises they are wrong at any point then they leave.\n",
    "5. Repeat until a final conclusion is reached.\n",
    "\n",
    "# Constraint\n",
    "Your final conclusion section should be in Chinese, while the rest of the content should be in English.\n",
    "\n",
    "# Output Format\n",
    "-- Step 1 --\n",
    "Expert1: << thinking of expert1 in step 1 >>\n",
    "Expert2: << thinking of expert2 in step 1 >>\n",
    "Expert3: << thinking of expert3 in step 1 >>\n",
    "-- Step 2 --\n",
    "Expert1: << thinking of expert1 in step 2 >>\n",
    "Expert2: << thinking of expert2 in step 2 >>\n",
    "Expert3: << thinking of expert3 in step 2 >>\n",
    "-- Step 3 --\n",
    "...\n",
    "...\n",
    "...\n",
    "-- Final Conclusion --\n",
    "<< the final conclusion >>\n",
    "'''\n",
    "        \n",
    "    messages = [\n",
    "        {\n",
    "            'role': 'system',\n",
    "            'content': system_prompt\n",
    "        },\n",
    "        {\n",
    "            \"role\": \"user\",\n",
    "            \"content\": question\n",
    "        }\n",
    "    ]\n",
    "\n",
    "    if not model:\n",
    "        model = lxw.gpt4_turbo_1106\n",
    "\n",
    "    client = lxw.new_client(model = model)\n",
    "\n",
    "    response = client.chat.completions.create(\n",
    "        model = model,\n",
    "        messages = messages\n",
    "    )\n",
    "    return response.choices[0].message.content"
   ]
  },
  {
   "cell_type": "markdown",
   "id": "b3257649-dba9-4ec1-86a8-3a37053ad05e",
   "metadata": {},
   "source": [
    "## 2.2 小望与鸡蛋问题"
   ]
  },
  {
   "cell_type": "markdown",
   "id": "edbbcf6e-efa6-4ab1-bef7-2608a956f309",
   "metadata": {},
   "source": [
    "用直接提示，偶尔正确偶尔错误，有较高的错误率。"
   ]
  },
  {
   "cell_type": "code",
   "execution_count": 24,
   "id": "74ae69e0-fbd2-42e0-848e-b8d36840142b",
   "metadata": {},
   "outputs": [
    {
     "name": "stdout",
     "output_type": "stream",
     "text": [
      "鸡蛋最初被小望放进了杯子里。即使后来他走到不同的地方，除非有特别的提及他取出鸡蛋或杯子发生了什么，我们可以假设鸡蛋始终在杯子里。因此，当小望将杯子倒置放在花园里后，鸡蛋应该仍然在杯子里。所以，鸡蛋现在在花园里，倒置的杯子里面。\n"
     ]
    }
   ],
   "source": [
    "q = (\n",
    "    '小望坐在客厅里。'\n",
    "    '他站起来，手里拿了一个杯子走到厨房。'\n",
    "    '他把一个鸡蛋放进杯子里，然后把杯子带到卧室。'\n",
    "    '他将杯子倒置，然后走到花园。'\n",
    "    '他把杯子放在花园里，然后走到车库。'\n",
    "    '他开上车，去找波波约会。'\n",
    "    '鸡蛋在哪里？'\n",
    ")\n",
    "print(Direct_IO(q, model = lxw.gpt4_turbo_1106))"
   ]
  },
  {
   "cell_type": "code",
   "execution_count": 26,
   "id": "cd5168fa-1cf1-4fef-ab9c-62c4101091b9",
   "metadata": {},
   "outputs": [
    {
     "name": "stdout",
     "output_type": "stream",
     "text": [
      "Expert 1:\n",
      "Step 1: Translate and understand the story. 小望 (Xiaowang) is in the living room, he stands up with a cup in his hand and walks to the kitchen. He puts an egg into the cup and then takes the cup to the bedroom. He turns the cup upside down and then walks to the garden, where he puts the cup. Finally, he walks to the garage, gets into his car, and leaves for a date with 波波 (Bobo). My understanding is that the egg is now somewhere between the bedroom and the garden.\n",
      "\n",
      "Expert 2:\n",
      "Step 1: First, I need to clarify the sequence of events and understand the logic of the story. Based on the given information, Xiaowang's actions seem to suggest that he has transported the egg from the kitchen to the bedroom in the cup. The most critical part to focus on is what happened to the egg after he turned the cup upside down in the bedroom, before going to the garden.\n",
      "\n",
      "Expert 3:\n",
      "Step 1: Identify the last known location of the egg. The last explicit mention of the egg's location is when Xiaowang puts it in the cup in the kitchen. However, the assumption is that it's still in the cup when he moves to the bedroom. Since he overturns the cup in the bedroom and is not mentioned to take the egg with him to the garden, my first intuition is that the egg would be in the bedroom.\n",
      "\n",
      "— Sharing phase —\n",
      "\n",
      "Expert 1:\n",
      "Shares understanding of the story's translation and believes the egg is between the bedroom and the garden.\n",
      "\n",
      "Expert 2:\n",
      "Focuses on the details of Xiaowang's action in the bedroom where the egg's whereabouts after the cup is turned upside down are unclear.\n",
      "\n",
      "Expert 3:\n",
      "Believes the egg's last known location is in the bedroom, adhering to the details provided in the story.\n",
      "\n",
      "— Proceeding to the next step —\n",
      "\n",
      "Expert 1:\n",
      "Step 2: After considering the sharing, I will focus on the specific detail that the cup was turned upside down in the bedroom. This suggests that the egg was likely not in the cup when Xiaowang left for the garden. Therefore, I revise my initial thought, and I now think that the egg is in the bedroom.\n",
      "\n",
      "Expert 2:\n",
      "Step 2: After sharing thoughts, I realize I may be overcomplicating the story. The narrative leads us to believe that the egg must have been removed from the cup when Xiaowang inverted it in the bedroom. Thus, unless Xiaowang took further unspecified actions, the egg should be in the bedroom.\n",
      "\n",
      "Expert 3:\n",
      "Step 2: Reconsidering the sequence and hearing from other experts reinforces my initial intuition. When Xiaowang overturns the cup, this implicitly implies the egg is no longer contained and must have remained in the last place where the cup was upright, which is the bedroom.\n",
      "\n",
      "— Sharing phase —\n",
      "\n",
      "Expert 1:\n",
      "Now concurs with Expert 3 that the egg is in the bedroom after the cup was turned upside down.\n",
      "\n",
      "Expert 2:\n",
      "Agrees with the other experts that the bedroom is the most likely location for the egg.\n",
      "\n",
      "Expert 3:\n",
      "Confirms the bedroom as the egg's location and finds consensus with the other experts.\n",
      "\n",
      "Based on these steps and upon reaching consensus, all experts have concluded that the egg remains in the bedroom after the cup was tipped upside down. Assuming no further steps reveal any contradictions or overlooked details, none of the experts would leave the discussion.\n"
     ]
    }
   ],
   "source": [
    "print(ToT_Prompt_1(q, model = lxw.gpt4_turbo_1106))"
   ]
  },
  {
   "cell_type": "code",
   "execution_count": 39,
   "id": "4fcbedf4-1348-4abd-a645-528fdd678024",
   "metadata": {},
   "outputs": [
    {
     "name": "stdout",
     "output_type": "stream",
     "text": [
      "专家A（逻辑专家）：\n",
      "第1步：理解并分析问题，整理已知情况。小望有一个杯子，他将鸡蛋放进杯子里，并且把带有鸡蛋的杯子带到了卧室。\n",
      "\n",
      "专家B（物理专家）：\n",
      "第1步：根据物理定律，考虑涉及问题中的对象的物理属性。杯子是一个容器，能够容纳鸡蛋，鸡蛋是一个脆弱的物体，放在杯子里时会随着杯子一起移动。\n",
      "\n",
      "专家C（心理学专家）：\n",
      "第1步：考虑小望的行为动机和心理状态。小望为什么要把鸡蛋从厨房带到卧室，这个行为背后可能有什么特殊的意图？是否有什么情感上的依恋使他将鸡蛋带在身边？\n",
      "\n",
      "---\n",
      "\n",
      "专家A（逻辑专家）：\n",
      "第2步：继续沿着小望的行为链条推理。小望将杯子颠倒，然后前往花园。需要考虑他颠倒杯子的行为对鸡蛋的位置的影响。\n",
      "\n",
      "专家B（物理专家）：\n",
      "第2步：根据物理定律分析小望颠倒杯子的行为可能产生的结果。颠倒一个装有鸡蛋的杯子会使鸡蛋落出。\n",
      "\n",
      "专家C（心理学专家）：\n",
      "第2步：分析小望将杯子倒置的潜在心理因素。可能是一种仪式，或者是试图在自己的私密空间里营造一个特别的记忆。\n",
      "\n",
      "---\n",
      "\n",
      "专家A（逻辑专家）：\n",
      "第3步：结合所有已知的行动序列分析出鸡蛋所在的位置。小望颠倒杯子的行为意味着杯子内的鸡蛋会掉出。因此，鸡蛋应该在小望倒置杯子时的地点 — 卧室。\n",
      "\n",
      "专家B（物理专家）：\n",
      "第3步：进一步探讨在倒置杯子过程中对鸡蛋状态的影响。倒置杯子一般情况下意味着其中的物品会因重力作用而掉落。所以鸡蛋应该不在杯子里，它应该掉在了卧室的地上。\n",
      "\n",
      "专家C（心理学专家）：\n",
      "第3步：从心理学角度推断鸡蛋的位置。由于小望执行了一连串有意义的行为，可能出于某种心理因素，他选择在特定的地方留下鸡蛋。鸡蛋最可能仍在他倒置杯子的房间内，也就是卧室。\n",
      "\n",
      "---\n",
      "\n",
      "所有专家A、B、C的步骤一致表明鸡蛋在卧室。无需让任何一位专家离开。\n"
     ]
    }
   ],
   "source": [
    "print(ToT_Prompt_1_CN(q, model = lxw.gpt4_turbo_1106))"
   ]
  },
  {
   "cell_type": "code",
   "execution_count": 46,
   "id": "874b104e-3b28-43c5-95a6-3cf0a1c2539e",
   "metadata": {},
   "outputs": [
    {
     "name": "stdout",
     "output_type": "stream",
     "text": [
      "-- Step 1 --\n",
      "Expert1: The scenario describes a sequence of actions involving Xiaowang, a cup, and an egg. I will follow the sequence to determine the final location of the egg.\n",
      "Expert2: I agree with Expert1's approach. Tracking the movements of Xiaowang with the egg in the cup should allow us to establish where the egg is.\n",
      "Expert3: There may be a trick in the sequence of actions described. The egg's final location will depend on Xiaowang's actions with the cup.\n",
      "\n",
      "-- Step 2 --\n",
      "Expert1: At first, Xiaowang puts the egg in the cup in the kitchen, and then he carries the cup to the bedroom. This means that the egg was inside the cup when he moved to the bedroom.\n",
      "Expert2: The statement says Xiaowang inverts the cup in the bedroom. If there is no further interaction with the egg, the inversion suggests that the egg is no longer contained within the cup.\n",
      "Expert3: If we presume that the cup was inverted while the egg was inside it, the egg would not be in the cup anymore unless it was somehow secured, which the scenario does not state.\n",
      "\n",
      "-- Step 3 --\n",
      "Expert1: Following the inversion of the cup, Xiaowang takes the cup to the garden. Since we know the cup was inverted in the bedroom, and there's no mention of the egg after, we can infer the egg's location based on this action.\n",
      "Expert2: Considering no interaction with the egg is mentioned after the cup inversion, the egg was likely left behind in the bedroom. Xiaowang then proceeds to the garden and subsequently the garage without the egg.\n",
      "Expert3: Xiaowang's actions after going to the garden do not include any interaction with the egg, which reinforces the idea that the egg is no longer with him when he leaves for the date with Bobo.\n",
      "\n",
      "-- Step 4 --\n",
      "Expert1: Given the provided information and the sequence of actions, it is reasonable to deduce that the egg remains in the bedroom after the inversion of the cup.\n",
      "Expert2: I conclude that after Xiaowang inverts the cup in the bedroom, the egg remains there because no further information suggests he picks it up again or moves it.\n",
      "Expert3: I am considering any assumptions we might have missed, but it appears all information points towards the egg being left behind in the bedroom after Xiaowang inverts the cup.\n",
      "\n",
      "-- Step 5 --\n",
      "Expert1: With the analysis of the sequence of events and assuming typical physics where an unsecured egg would fall when the cup is inverted, I conclude that the egg is in the bedroom.\n",
      "Expert2: I also conclude that the absence of the egg in subsequent actions indicates it stays in the bedroom post-inversion.\n",
      "Expert3: I concur with both experts and find no reason to contest the conclusion that the egg is left in the bedroom.\n",
      "\n",
      "-- Final Conclusion --\n",
      "鸡蛋在卧室里。\n"
     ]
    }
   ],
   "source": [
    "print(ToT_Prompt_1_Final(q, model = lxw.gpt4_turbo_1106))"
   ]
  },
  {
   "cell_type": "markdown",
   "id": "c9fe8d96-ec48-4a1d-9f79-ad2b1379a676",
   "metadata": {},
   "source": [
    "通益千问与GPT对比测试：<br>\n",
    "\n",
    "想象由三位不同的专家来共同回答这个问题的完整过程。 \\\n",
    "所有专家都写下他们思考这个问题的第1个步骤，然后与大家分享。你输出第1个步骤的所有专家的结果以及讨论意见。 \\\n",
    "接下来，所有专家都写下他们思考的下一个步骤并分享。你输出这个步骤的所有专家的结果以及讨论意见。 \\\n",
    "以此类推，直到所有专家写完他们思考的所有步骤。 \\\n",
    "只要发现有专家的步骤出错了，就让这位专家离开。 \\\n",
    "问题是：\n",
    "```\n",
    "小望坐在客厅里。\n",
    "他站起来，手里拿了一个杯子走到厨房。\n",
    "他把一个鸡蛋放进杯子里，然后把杯子带到卧室。\n",
    "他将杯子倒置，然后走到花园。\n",
    "他把杯子放在花园里，然后走到车库。\n",
    "他开上车，去找波波约会。\n",
    "鸡蛋在哪里？\n",
    "```"
   ]
  },
  {
   "cell_type": "code",
   "execution_count": null,
   "id": "1a19174e-0494-4f8e-b7c6-91a81bcb0ac1",
   "metadata": {},
   "outputs": [],
   "source": []
  }
 ],
 "metadata": {
  "kernelspec": {
   "display_name": "Python 3 (ipykernel)",
   "language": "python",
   "name": "python3"
  },
  "language_info": {
   "codemirror_mode": {
    "name": "ipython",
    "version": 3
   },
   "file_extension": ".py",
   "mimetype": "text/x-python",
   "name": "python",
   "nbconvert_exporter": "python",
   "pygments_lexer": "ipython3",
   "version": "3.11.5"
  }
 },
 "nbformat": 4,
 "nbformat_minor": 5
}
