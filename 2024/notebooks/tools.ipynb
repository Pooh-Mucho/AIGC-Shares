{
 "cells": [
  {
   "cell_type": "code",
   "execution_count": 1,
   "id": "1a1fb1eb-8209-4fcd-a32e-e66b059ac489",
   "metadata": {},
   "outputs": [],
   "source": [
    "import lxw\n",
    "import json"
   ]
  },
  {
   "cell_type": "markdown",
   "id": "fe01d357-9e41-4a3e-927b-c26231564957",
   "metadata": {},
   "source": [
    "# 1. Tool Call Sequence"
   ]
  },
  {
   "cell_type": "code",
   "execution_count": 56,
   "id": "1bb13e2d-a093-44c5-90fc-2febb636ae9d",
   "metadata": {},
   "outputs": [],
   "source": [
    "def List_Files(directory):\n",
    "    if directory == 'c:/':\n",
    "        return ['范利波.txt', '吕小望.txt', '安鑫.avi' ]\n",
    "    return []"
   ]
  },
  {
   "cell_type": "code",
   "execution_count": 57,
   "id": "c639b6de-6b37-4d50-8b65-9282b1dbbaf1",
   "metadata": {},
   "outputs": [],
   "source": [
    "def Get_File_Content(file_path):\n",
    "    if '范利波' in file_path:\n",
    "        return '范立波110031201301010250'\n",
    "    if '吕小望' in file_path:\n",
    "        return '吕小望13578781231'\n",
    "    return ''\n",
    "    "
   ]
  },
  {
   "cell_type": "code",
   "execution_count": 12,
   "id": "b6e134b6-377e-482b-a8d8-188013b9c609",
   "metadata": {},
   "outputs": [],
   "source": [
    "tools = [\n",
    "    {\n",
    "        'type': 'function',\n",
    "        'function': {\n",
    "            'name': 'List_Files',\n",
    "            'description': 'List all files in the specified directory.',\n",
    "            'parameters': {\n",
    "                'type': 'object',\n",
    "                'properties': {\n",
    "                    'directory': {\n",
    "                        'type': 'string',\n",
    "                        'description': 'the directory path, e.g. c:/abc/d'\n",
    "                    }\n",
    "                },\n",
    "                'required': ['directory']\n",
    "            }\n",
    "        }\n",
    "    },\n",
    "    {\n",
    "        'type': 'function',\n",
    "        'function': {\n",
    "            'name': 'Get_File_Content',\n",
    "            'description': 'Get the text content of specified file_path.',\n",
    "            'parameters': {\n",
    "                'type': 'object',\n",
    "                'properties': {\n",
    "                    'file_path': {\n",
    "                        'type': 'string',\n",
    "                        'description': 'the full file path, e.g. c:/abc/d.txt'\n",
    "                    }\n",
    "                },\n",
    "                'required': ['file_path']\n",
    "            }\n",
    "        }\n",
    "    },    \n",
    "]"
   ]
  },
  {
   "cell_type": "code",
   "execution_count": null,
   "id": "cfcc2983-67c0-4cfe-959a-ab82035b5f4c",
   "metadata": {},
   "outputs": [],
   "source": []
  },
  {
   "cell_type": "code",
   "execution_count": 60,
   "id": "f3ca5095-25f5-4dec-bf55-be681a8fb236",
   "metadata": {},
   "outputs": [],
   "source": [
    "messages = [\n",
    "    {\n",
    "        'role': 'system',\n",
    "        'content': 'Do not make assumptions about what values to plug into functions. Ask for clarification if a user request is ambiguous.',\n",
    "    },\n",
    "    {\n",
    "        \"role\": \"user\",\n",
    "        \"content\": '列出目录 c:/ 下，所有的文件',\n",
    "    }\n",
    "]"
   ]
  },
  {
   "cell_type": "code",
   "execution_count": null,
   "id": "d7126400-f55c-4460-ad5f-ed96d045e846",
   "metadata": {},
   "outputs": [],
   "source": []
  },
  {
   "cell_type": "code",
   "execution_count": 61,
   "id": "67742f6f-bd05-4e65-bc28-ff0b65879693",
   "metadata": {},
   "outputs": [],
   "source": [
    "model = lxw.gpt4_turbo_0125\n",
    "client = lxw.new_client(model = model)"
   ]
  },
  {
   "cell_type": "code",
   "execution_count": 62,
   "id": "64a57cc0-f20e-450a-89ee-0c9d563189a7",
   "metadata": {},
   "outputs": [],
   "source": [
    "response1 = client.chat.completions.create(\n",
    "    model = model,\n",
    "    messages = messages,\n",
    "    tools = tools\n",
    ")"
   ]
  },
  {
   "cell_type": "code",
   "execution_count": 63,
   "id": "1beb1ac0-6e95-46dc-9f3b-f4f7cda70f07",
   "metadata": {},
   "outputs": [
    {
     "name": "stdout",
     "output_type": "stream",
     "text": [
      "Choice(finish_reason='tool_calls', index=0, logprobs=None, message=ChatCompletionMessage(content=None, role='assistant', function_call=None, tool_calls=[ChatCompletionMessageToolCall(id='call_uclh8MeHPqpMMYZhdUQcoOo1', function=Function(arguments='{\"directory\":\"c:/\"}', name='List_Files'), type='function')]), content_filter_results={})\n"
     ]
    }
   ],
   "source": [
    "print(response1.choices[0])"
   ]
  },
  {
   "cell_type": "code",
   "execution_count": 64,
   "id": "79f4b664-0c67-4e06-ad7b-92f96b0fef9b",
   "metadata": {},
   "outputs": [],
   "source": [
    "message = response1.choices[0].message\n",
    "messages.append(message)\n",
    "files = '\\r\\n'.join(List_Files('c:/'))\n",
    "messages.append({\n",
    "    'role': 'tool',\n",
    "    'tool_call_id': message.tool_calls[0].id,\n",
    "    'name': message.tool_calls[0].function.name,\n",
    "    'content': files\n",
    "})\n",
    "response2 = client.chat.completions.create(\n",
    "    model = model,\n",
    "    messages = messages,\n",
    "    tools = tools\n",
    ")\n"
   ]
  },
  {
   "cell_type": "code",
   "execution_count": 65,
   "id": "e1c40be7-bcd4-4946-9273-eabc3919277c",
   "metadata": {},
   "outputs": [
    {
     "data": {
      "text/plain": [
       "[{'role': 'system',\n",
       "  'content': 'Do not make assumptions about what values to plug into functions. Ask for clarification if a user request is ambiguous.'},\n",
       " {'role': 'user', 'content': '列出目录 c:/ 下，所有的文件'},\n",
       " ChatCompletionMessage(content=None, role='assistant', function_call=None, tool_calls=[ChatCompletionMessageToolCall(id='call_uclh8MeHPqpMMYZhdUQcoOo1', function=Function(arguments='{\"directory\":\"c:/\"}', name='List_Files'), type='function')]),\n",
       " {'role': 'tool',\n",
       "  'tool_call_id': 'call_uclh8MeHPqpMMYZhdUQcoOo1',\n",
       "  'name': 'List_Files',\n",
       "  'content': '范利波.txt\\r\\n吕小望.txt\\r\\n安鑫.avi'}]"
      ]
     },
     "execution_count": 65,
     "metadata": {},
     "output_type": "execute_result"
    }
   ],
   "source": [
    "messages"
   ]
  },
  {
   "cell_type": "code",
   "execution_count": 67,
   "id": "ba9245c3-7b9b-4f65-a0ef-89cf5f90e829",
   "metadata": {},
   "outputs": [
    {
     "name": "stdout",
     "output_type": "stream",
     "text": [
      "在目录 `c:/` 下，找到的所有文件如下：\n",
      "\n",
      "1. 范利波.txt\n",
      "2. 吕小望.txt\n",
      "3. 安鑫.avi\n"
     ]
    }
   ],
   "source": [
    "print(response2.choices[0].message.content)"
   ]
  },
  {
   "cell_type": "code",
   "execution_count": 76,
   "id": "fb5bc977-57d5-4277-b877-542109aeb889",
   "metadata": {},
   "outputs": [
    {
     "data": {
      "text/plain": [
       "str"
      ]
     },
     "execution_count": 76,
     "metadata": {},
     "output_type": "execute_result"
    }
   ],
   "source": [
    "type(response1.choices[0].message.tool_calls[0].function.arguments)"
   ]
  },
  {
   "cell_type": "markdown",
   "id": "0122b8ae-6b2c-4bf1-a596-a93669c88e09",
   "metadata": {},
   "source": [
    "# 2. Tool Call"
   ]
  },
  {
   "cell_type": "code",
   "execution_count": 86,
   "id": "79395201-1bc2-4ee9-a548-e2cacfa9ba93",
   "metadata": {},
   "outputs": [],
   "source": [
    "def chat_completion_with_tools_call(prompt):\n",
    "    messages = [\n",
    "        {\n",
    "            'role': 'system',\n",
    "            'content': 'Do not make assumptions about what values to plug into functions. Ask for clarification if a user request is ambiguous.',\n",
    "        },\n",
    "        {\n",
    "            \"role\": \"user\",\n",
    "            \"content\": prompt,\n",
    "        }\n",
    "    ]\n",
    "    \n",
    "    model = lxw.gpt4_turbo_0125\n",
    "    client = lxw.new_client(model = model)\n",
    "\n",
    "    response = client.chat.completions.create(\n",
    "        model = model,\n",
    "        messages = messages,\n",
    "        tools = tools\n",
    "    )\n",
    "    \n",
    "    while response.choices[0].finish_reason == 'tool_calls':\n",
    "        messages.append(response.choices[0].message)\n",
    "        for tool_call in response.choices[0].message.tool_calls:\n",
    "            function_name = tool_call.function.name\n",
    "            function_args = json.loads(tool_call.function.arguments)\n",
    "            print(function_name, function_args)\n",
    "            if function_name == 'List_Files':\n",
    "                directory = function_args.get('directory')\n",
    "                function_result = '\\r\\n'.join(List_Files(directory))\n",
    "            elif function_name == 'Get_File_Content':\n",
    "                file_path = function_args.get('file_path')\n",
    "                function_result = Get_File_Content(file_path)\n",
    "            else:\n",
    "                raise ValueError('invalid function ' + function_name)\n",
    "            messages.append({\n",
    "                'role': 'tool',\n",
    "                'tool_call_id': tool_call.id,\n",
    "                'name': function_name,\n",
    "                'content': function_result,\n",
    "            })\n",
    "        response = client.chat.completions.create(\n",
    "            model = model,\n",
    "            messages = messages,\n",
    "            tools = tools\n",
    "        )\n",
    "    return response.choices[0].message.content"
   ]
  },
  {
   "cell_type": "code",
   "execution_count": 83,
   "id": "658e6b65-819b-48fb-afcf-a4308abdc4d9",
   "metadata": {},
   "outputs": [
    {
     "name": "stdout",
     "output_type": "stream",
     "text": [
      "List_Files {'directory': 'c:/'}\n",
      "在 `c:/` 目录下，存在以下文件：\n",
      "\n",
      "1. 范利波.txt\n",
      "2. 吕小望.txt\n",
      "3. 安鑫.avi\n"
     ]
    }
   ],
   "source": [
    "print(chat_completion_with_tools_call('列举 c:/ 下所有文件'))"
   ]
  },
  {
   "cell_type": "code",
   "execution_count": 84,
   "id": "daf18ee5-8b48-40ae-8587-2f655683a764",
   "metadata": {},
   "outputs": [
    {
     "name": "stdout",
     "output_type": "stream",
     "text": [
      "List_Files {'directory': 'c:/'}\n",
      "在目录 `c:/` 下找到的视频文件为：\n",
      "- 安鑫.avi\n"
     ]
    }
   ],
   "source": [
    "print(chat_completion_with_tools_call('列举 c:/ 下所有视频文件'))"
   ]
  },
  {
   "cell_type": "code",
   "execution_count": 89,
   "id": "18d583dd-c6b6-49f4-a7d1-fe4ca0b37580",
   "metadata": {},
   "outputs": [
    {
     "name": "stdout",
     "output_type": "stream",
     "text": [
      "List_Files {'directory': 'c:/'}\n",
      "Get_File_Content {'file_path': 'c:/范利波.txt'}\n",
      "Get_File_Content {'file_path': 'c:/吕小望.txt'}\n",
      "Get_File_Content {'file_path': 'c:/安鑫.avi'}\n",
      "在 `c:/` 路径下，包含18位身份证号的文件为:\n",
      "\n",
      "- `范利波.txt` 其内容包含18位身份证号 `110031201301010250`\n"
     ]
    }
   ],
   "source": [
    "print(chat_completion_with_tools_call('搜索 c:/ 下所有内容包含18位身份证号的文件'))"
   ]
  },
  {
   "cell_type": "markdown",
   "id": "f1b21e8e-78f6-4277-8201-1f0bcc5ddbab",
   "metadata": {},
   "source": [
    "# 3. 万能工具"
   ]
  },
  {
   "cell_type": "code",
   "execution_count": 2,
   "id": "e11d561a-9b95-4afc-8abb-e730cf42f6bb",
   "metadata": {},
   "outputs": [],
   "source": [
    "python_script_tool = {\n",
    "    'type': 'function',\n",
    "    'function': {\n",
    "        'name': 'Execute_Python_Script',\n",
    "        'description': 'Run a Python script and return the output of the execution. In the script, use Python print() function to produce the output.',\n",
    "        'parameters': {\n",
    "            'type': 'object',\n",
    "            'properties': {\n",
    "                'script': {\n",
    "                    'type': 'string',\n",
    "                    'description': 'The Python script to be executed.'\n",
    "                }\n",
    "            },\n",
    "            'required': ['script']\n",
    "        }\n",
    "    }\n",
    "}"
   ]
  },
  {
   "cell_type": "code",
   "execution_count": 3,
   "id": "7c2f6348-e05c-48c2-8f50-31e30e94febf",
   "metadata": {},
   "outputs": [],
   "source": [
    "def Execute_Python_Script(script):\n",
    "    import sys\n",
    "    import io\n",
    "    print_hook = io.StringIO()\n",
    "    print_save = sys.stdout\n",
    "    sys.stdout = print_hook\n",
    "    try:\n",
    "        local_env = {}\n",
    "        exec(script, local_env)\n",
    "    finally:\n",
    "        sys.stdout = print_save\n",
    "    print_hook.seek(0)\n",
    "    return print_hook.read()\n"
   ]
  },
  {
   "cell_type": "code",
   "execution_count": 4,
   "id": "26422526-2e81-4a2a-8ded-5e7c242546de",
   "metadata": {},
   "outputs": [],
   "source": [
    "def chat_completion_with_python_call(prompt):\n",
    "    messages = [\n",
    "        {\n",
    "            'role': 'system',\n",
    "            'content': 'Where possible, try to use the Execute_Python_Script tool to provide an answer. You can use Python [requests] package to fetch content from the internet.',\n",
    "        },\n",
    "        {\n",
    "            \"role\": \"user\",\n",
    "            \"content\": prompt,\n",
    "        }\n",
    "    ]\n",
    "    \n",
    "    model = lxw.gpt4_turbo_0125\n",
    "    client = lxw.new_client(model = model)\n",
    "\n",
    "    response = client.chat.completions.create(\n",
    "        model = model,\n",
    "        messages = messages,\n",
    "        tools = [python_script_tool]\n",
    "    )\n",
    "    \n",
    "    while response.choices[0].finish_reason == 'tool_calls':\n",
    "        messages.append(response.choices[0].message)\n",
    "        for tool_call in response.choices[0].message.tool_calls:\n",
    "            function_name = tool_call.function.name\n",
    "            function_args = json.loads(tool_call.function.arguments)\n",
    "            print(function_name)\n",
    "            if function_name == 'Execute_Python_Script':\n",
    "                script = function_args.get('script')\n",
    "                print('script: \\r\\n', script)\n",
    "                function_result = Execute_Python_Script(script)\n",
    "            else:\n",
    "                raise ValueError('invalid function ' + function_name)\n",
    "            print('result:\\r\\n', function_result)\n",
    "            messages.append({\n",
    "                'role': 'tool',\n",
    "                'tool_call_id': tool_call.id,\n",
    "                'name': function_name,\n",
    "                'content': function_result,\n",
    "            })\n",
    "        response = client.chat.completions.create(\n",
    "            model = model,\n",
    "            messages = messages,\n",
    "            tools = tools\n",
    "        )\n",
    "    return response.choices[0].message.content"
   ]
  },
  {
   "cell_type": "code",
   "execution_count": 128,
   "id": "9073854c-2e0f-4730-992a-ca348843cae8",
   "metadata": {},
   "outputs": [
    {
     "name": "stdout",
     "output_type": "stream",
     "text": [
      "Execute_Python_Script\n",
      "script: \n",
      " print('12ABC'.lower())\n",
      "result:\n",
      " 12abc\n",
      "\n",
      "将 \"12ABC\" 转换为小写后结果为 \"12abc\"。\n"
     ]
    }
   ],
   "source": [
    "print(chat_completion_with_python_call('将 12ABC 转为小写'))"
   ]
  },
  {
   "cell_type": "code",
   "execution_count": 129,
   "id": "810d6f85-d8af-4fa4-b4aa-397932ef0711",
   "metadata": {},
   "outputs": [
    {
     "name": "stdout",
     "output_type": "stream",
     "text": [
      "Execute_Python_Script\n",
      "script: \n",
      " def is_prime(n):\n",
      "    if n <= 1:\n",
      "        return False\n",
      "    for i in range(2, int(n**0.5) + 1):\n",
      "        if n % i == 0:\n",
      "            return False\n",
      "    return True\n",
      "\n",
      "max_prime = 2\n",
      "for i in range(3, 1001, 2):\n",
      "    if is_prime(i):\n",
      "        max_prime = i\n",
      "\n",
      "print(max_prime)\n",
      "result:\n",
      " 997\n",
      "\n",
      "1000以内最大的质数是997。\n"
     ]
    }
   ],
   "source": [
    "print(chat_completion_with_python_call('1000以内，最大的质数是多少'))"
   ]
  },
  {
   "cell_type": "code",
   "execution_count": 130,
   "id": "888f4d75-875c-4a4b-80b7-d8c91f93aec8",
   "metadata": {},
   "outputs": [
    {
     "name": "stdout",
     "output_type": "stream",
     "text": [
      "Execute_Python_Script\n",
      "script: \n",
      " from datetime import datetime\n",
      "\n",
      "# Get today's date\n",
      "today = datetime.now()\n",
      "\n",
      "# Get the day of the week\n",
      "weekday = today.strftime('%A')\n",
      "\n",
      "print(weekday)\n",
      "result:\n",
      " Tuesday\n",
      "\n",
      "今天是星期二。\n"
     ]
    }
   ],
   "source": [
    "print(chat_completion_with_python_call('今天是星期几'))"
   ]
  },
  {
   "cell_type": "code",
   "execution_count": 131,
   "id": "2ea4f47e-d4c3-48e7-8de6-41a5e76c7b0a",
   "metadata": {},
   "outputs": [
    {
     "name": "stdout",
     "output_type": "stream",
     "text": [
      "Execute_Python_Script\n",
      "script: \n",
      " import hashlib\n",
      "\n",
      "# 文字串 'abcd'\n",
      "string = 'abcd'\n",
      "\n",
      "# 计算 SHA1 哈希值\n",
      "hash_object = hashlib.sha1(string.encode())\n",
      "hash_hex = hash_object.hexdigest()\n",
      "\n",
      "print(hash_hex)\n",
      "result:\n",
      " 81fe8bfe87576c3ecb22426f8e57847382917acf\n",
      "\n",
      "字符串 'abcd' 的 SHA1 哈希值是 `81fe8bfe87576c3ecb22426f8e57847382917acf`。\n"
     ]
    }
   ],
   "source": [
    "print(chat_completion_with_python_call('字符串\\'abcd\\'的sha1哈希值是多少'))"
   ]
  },
  {
   "cell_type": "code",
   "execution_count": 137,
   "id": "cb429f79-2813-47e7-a561-d4a70c331f40",
   "metadata": {},
   "outputs": [
    {
     "name": "stdout",
     "output_type": "stream",
     "text": [
      "Execute_Python_Script\n",
      "script: \n",
      " import requests\n",
      "from bs4 import BeautifulSoup\n",
      "\n",
      "# Define the header to mimic a browser request\n",
      "headers = {\n",
      "    'User-Agent': 'Mozilla/5.0 (Windows NT 10.0; Win64; x64) AppleWebKit/537.36 (KHTML, like Gecko) Chrome/58.0.3029.110 Safari/537.3'}\n",
      "\n",
      "# Define the search URL for Baidu\n",
      "search_url = 'https://www.baidu.com/s?wd=龙湖'\n",
      "\n",
      "# Sending the GET request\n",
      "response = requests.get(search_url, headers=headers)\n",
      "\n",
      "# Parsing the response content\n",
      "soup = BeautifulSoup(response.text, 'html.parser')\n",
      "\n",
      "# Extracting and printing the main content\n",
      "for item in soup.find_all('div', class_='c-container')[:5]: # Limiting to the first 5 results\n",
      "    title = item.find('h3').get_text()\n",
      "    summary = item.find('div', class_='c-abstract').get_text() if item.find('div', class_='c-abstract') else 'No summary available'\n",
      "    print(f'Title: {title}\\nSummary: {summary}\\n')\n",
      "\n",
      "result:\n",
      " Title: 北京丰台区龙湖建工九里熙宸售楼处-2024房价走势\n",
      "Summary: 龙湖龙湖建工九里熙宸售楼处,打造品质生活!洋房、别墅两相宜,价格实惠.购房新选择,龙湖龙湖建工九里熙宸售楼处,专业房产中介为您服务!\n",
      "\n",
      "Title: 龙湖自贡高新区-售楼中心-楼盘详情\n",
      "Summary: 2024自贡龙湖高新区 招商引资优惠信息,为企业提供自贡龙湖高新区 为企业提供园区工业用地信息,具体政策扶持等咨询服务.\n",
      "\n",
      "Title: 龙湖招商 协同招商引资,全力促进产业发展和区域交流\n",
      "Summary: 省级扶持,地方经济实力保障,奖励及时,扶持到位,对入驻企业根据经营贡献给予奖励,支持跨档补差,立即咨询扶持金...\n",
      "\n",
      "Title: 龙湖集团 - 善待你一生\n",
      "Summary: No summary available\n",
      "\n",
      "Title: 龙湖集团 - 善待你一生\n",
      "Summary: No summary available\n",
      "\n",
      "\n",
      "根据百度搜索的结果，关于“龙湖”的最主要结果涉及以下几个方面：\n",
      "\n",
      "1. **房地产项目**：首先，搜索结果显示了一些与龙湖集团旗下的房地产项目相关的信息。比如，“北京丰台区龙湖建工九里熙宸售楼处-2024房价走势” 和 “龙湖自贡高新区-售楼中心-楼盘详情” 都突显了龙湖集团的住宅和商业地产项目，包括洋房、别墅以及提供具体政策扶持和园区工业用地信息的项目。\n",
      "\n",
      "2. **招商引资**：“龙湖招商 协同招商引资,全力促进产业发展和区域交流” 这个结果表明龙湖集团也积极参与招商引资活动，致力于促进产业发展和区域经济交流，包括提供省级扶持和地方经济实力保障。\n",
      "\n",
      "3. **企业文化和品牌形象**：两个相同的结果 “龙湖集团 - 善待你一生” 暗示着龙湖集团的企业文化和品牌形象建设，尽管这些搜索结果没有提供具体的摘要，但是标题本身展现了龙湖集团希望传达的积极、关注客户的品牌信息。\n",
      "\n",
      "综上所述, “龙湖”主要与房地产开发、招商引资以及其品牌形象构建相关联。\n"
     ]
    }
   ],
   "source": [
    "print(chat_completion_with_python_call('用百度搜索一下有关龙湖的内容，总结一下最主要的结果'))"
   ]
  },
  {
   "cell_type": "code",
   "execution_count": 140,
   "id": "e7905f01-e8c5-4aec-88fe-227b4859346d",
   "metadata": {},
   "outputs": [
    {
     "name": "stdout",
     "output_type": "stream",
     "text": [
      "Execute_Python_Script\n",
      "script: \n",
      " import requests\n",
      "\n",
      "# 汇率查询的API URL\n",
      "url = 'https://api.exchangerate-api.com/v4/latest/HKD'\n",
      "\n",
      "# 发送GET请求\n",
      "response = requests.get(url)\n",
      "# 将响应的内容解析成JSON\n",
      "rates = response.json().get('rates', {})\n",
      "\n",
      "# 打印美元和人民币的汇率\n",
      "print(f\"港币兑美元汇率是: {rates.get('USD', '无法获取')}\")\n",
      "print(f\"港币兑人民币汇率是: {rates.get('CNY', '无法获取')}\")\n",
      "result:\n",
      " 港币兑美元汇率是: 0.128\n",
      "港币兑人民币汇率是: 0.927\n",
      "\n",
      "目前港币的汇率如下：\n",
      "- 港币兑美元汇率是：0.128\n",
      "- 港币兑人民币汇率是：0.927\n"
     ]
    }
   ],
   "source": [
    "print(chat_completion_with_python_call('目前港币的汇率是多少？'))"
   ]
  },
  {
   "cell_type": "code",
   "execution_count": 7,
   "id": "d9ac58dc-d906-4bf0-a804-58bb3a2bfde9",
   "metadata": {},
   "outputs": [
    {
     "name": "stdout",
     "output_type": "stream",
     "text": [
      "Execute_Python_Script\n",
      "script: \n",
      " import requests\n",
      "\n",
      "# Define the API URL\n",
      "url = 'http://api.openweathermap.org/data/2.5/weather?q=Beijing&appid=YOUR_API_KEY&units=metric'\n",
      "\n",
      "# Send GET request to the API\n",
      "response = requests.get(url)\n",
      "\n",
      "# Parse the JSON response\n",
      "weather_data = response.json()\n",
      "\n",
      "# Extract relevant information\n",
      "temperature = weather_data['main']['temp']\n",
      "description = weather_data['weather'][0]['description']\n",
      "\n",
      "# Print the weather details\n",
      "print(f'The current temperature in Beijing is {temperature}°C and the weather is described as {description}.')\n"
     ]
    },
    {
     "ename": "KeyError",
     "evalue": "'main'",
     "output_type": "error",
     "traceback": [
      "\u001b[1;31m---------------------------------------------------------------------------\u001b[0m",
      "\u001b[1;31mKeyError\u001b[0m                                  Traceback (most recent call last)",
      "Cell \u001b[1;32mIn[7], line 1\u001b[0m\n\u001b[1;32m----> 1\u001b[0m \u001b[38;5;28mprint\u001b[39m(chat_completion_with_python_call(\u001b[38;5;124m'\u001b[39m\u001b[38;5;124m今天北京的天气怎么样？\u001b[39m\u001b[38;5;124m'\u001b[39m))\n",
      "Cell \u001b[1;32mIn[4], line 31\u001b[0m, in \u001b[0;36mchat_completion_with_python_call\u001b[1;34m(prompt)\u001b[0m\n\u001b[0;32m     29\u001b[0m     script \u001b[38;5;241m=\u001b[39m function_args\u001b[38;5;241m.\u001b[39mget(\u001b[38;5;124m'\u001b[39m\u001b[38;5;124mscript\u001b[39m\u001b[38;5;124m'\u001b[39m)\n\u001b[0;32m     30\u001b[0m     \u001b[38;5;28mprint\u001b[39m(\u001b[38;5;124m'\u001b[39m\u001b[38;5;124mscript: \u001b[39m\u001b[38;5;130;01m\\r\u001b[39;00m\u001b[38;5;130;01m\\n\u001b[39;00m\u001b[38;5;124m'\u001b[39m, script)\n\u001b[1;32m---> 31\u001b[0m     function_result \u001b[38;5;241m=\u001b[39m Execute_Python_Script(script)\n\u001b[0;32m     32\u001b[0m \u001b[38;5;28;01melse\u001b[39;00m:\n\u001b[0;32m     33\u001b[0m     \u001b[38;5;28;01mraise\u001b[39;00m \u001b[38;5;167;01mValueError\u001b[39;00m(\u001b[38;5;124m'\u001b[39m\u001b[38;5;124minvalid function \u001b[39m\u001b[38;5;124m'\u001b[39m \u001b[38;5;241m+\u001b[39m function_name)\n",
      "Cell \u001b[1;32mIn[3], line 9\u001b[0m, in \u001b[0;36mExecute_Python_Script\u001b[1;34m(script)\u001b[0m\n\u001b[0;32m      7\u001b[0m \u001b[38;5;28;01mtry\u001b[39;00m:\n\u001b[0;32m      8\u001b[0m     local_env \u001b[38;5;241m=\u001b[39m {}\n\u001b[1;32m----> 9\u001b[0m     exec(script, local_env)\n\u001b[0;32m     10\u001b[0m \u001b[38;5;28;01mfinally\u001b[39;00m:\n\u001b[0;32m     11\u001b[0m     sys\u001b[38;5;241m.\u001b[39mstdout \u001b[38;5;241m=\u001b[39m print_save\n",
      "File \u001b[1;32m<string>:13\u001b[0m\n",
      "\u001b[1;31mKeyError\u001b[0m: 'main'"
     ]
    }
   ],
   "source": [
    "print(chat_completion_with_python_call('今天北京的天气怎么样？'))"
   ]
  },
  {
   "cell_type": "code",
   "execution_count": 143,
   "id": "8cdd8d25-7f37-4860-85cc-898698b71774",
   "metadata": {},
   "outputs": [
    {
     "name": "stdout",
     "output_type": "stream",
     "text": [
      "Execute_Python_Script\n",
      "script: \n",
      " import requests\n",
      "response = requests.get('http://fund.eastmoney.com/js/fundcode_search.js')\n",
      "all_funds = eval(response.text.strip().replace('var r = ', '').replace(';', ''))\n",
      "for fund in all_funds:\n",
      "    if fund[2] == '华夏成长混合':\n",
      "        fund_code = fund[0]\n",
      "        break\n",
      "\n",
      "fund_info_url = f'http://fundgz.1234567.com.cn/js/{fund_code}.js?rt=1463558676006'\n",
      "response = requests.get(fund_info_url)\n",
      "json_data = eval(response.text.strip().replace('jsonpgz(', '').replace(');', ''))\n",
      "print(json_data['gsz'])\n",
      "result:\n",
      " 0.7696\n",
      "\n",
      "华夏成长混合基金的当前净值大约是 0.7696。\n"
     ]
    }
   ],
   "source": [
    "print(chat_completion_with_python_call('基金 华夏成长混合 的当前净值是多少？'))"
   ]
  },
  {
   "cell_type": "code",
   "execution_count": null,
   "id": "de0b5546-bb30-449b-9f15-e1e1070b6d09",
   "metadata": {},
   "outputs": [],
   "source": []
  }
 ],
 "metadata": {
  "kernelspec": {
   "display_name": "Python 3 (ipykernel)",
   "language": "python",
   "name": "python3"
  },
  "language_info": {
   "codemirror_mode": {
    "name": "ipython",
    "version": 3
   },
   "file_extension": ".py",
   "mimetype": "text/x-python",
   "name": "python",
   "nbconvert_exporter": "python",
   "pygments_lexer": "ipython3",
   "version": "3.11.5"
  }
 },
 "nbformat": 4,
 "nbformat_minor": 5
}
