{
 "cells": [
  {
   "cell_type": "code",
   "execution_count": 2,
   "id": "f35d106c-f134-4ac5-a29f-9bbbd78ffb18",
   "metadata": {},
   "outputs": [],
   "source": [
    "import lxw\n",
    "import pandas as pd\n",
    "import re"
   ]
  },
  {
   "cell_type": "markdown",
   "id": "7b4563f9-b0db-41c4-b5a5-6ab44b68ce2a",
   "metadata": {},
   "source": [
    "## 1. 翻译任务 (开放式）"
   ]
  },
  {
   "cell_type": "markdown",
   "id": "3c5b14a9-8c53-438b-b20b-35e2b5d096f3",
   "metadata": {},
   "source": [
    "### 1.1 单阶段"
   ]
  },
  {
   "cell_type": "code",
   "execution_count": 3,
   "id": "5e692ad5-7d3e-4be8-b4cc-457663f39a65",
   "metadata": {},
   "outputs": [
    {
     "name": "stdout",
     "output_type": "stream",
     "text": [
      "--------1--------\n",
      "\n",
      "[步骤1-结果1]\n",
      "花费大量时间思考不同可能的未来场景及其概率可能很吸引人，但我建议采取完全不同的方法——尝试亲自建立你的原型。首先，这相当具有挑战性和乐趣。其次，这将帮助我们以更有条理的方式审视我们的工作。第三，这将给我们一个机会在实践中尝试最前沿的方法之一——LLM agents。\n",
      "\n",
      "[步骤1-结果2]\n",
      "花费大量时间考虑不同可能的未来场景及其概率可能很吸引人，但我建议采取完全不同的方式——亲自尝试建立你的原型。首先，这相当具有挑战性和乐趣。其次，这将帮助我们以更有条理的方式审视我们的工作。第三，这将给我们一个机会在实践中尝试最前沿的方法之一——LLM agents。\n",
      "\n",
      "[步骤1-结果3]\n",
      "花费大量时间思考不同可能的未来场景及其概率可能很吸引人，但我建议采取绝对不同的方法——尝试亲自建立你的原型。首先，这相当具有挑战性和乐趣。其次，这将帮助我们以更有条理的方式审视我们的工作。第三，这将给我们一个机会在实践中尝试最前沿的方法之一——LLM agents。\n",
      "\n",
      "[步骤2-结果1]\n",
      "花费大量时间思考不同未来可能场景及其概率可能很吸引人，但我建议采取完全不同的方法——亲自尝试建立你的原型。首先，这相当具有挑战性和乐趣。其次，这将帮助我们更有条理地审视我们的工作。第三，这将给我们一个机会在实践中尝试最前沿的方法之一——LLM agents。\n",
      "\n",
      "[步骤2-结果2]\n",
      "花费大量时间思考不同可能的未来场景及其概率可能很吸引人，但我建议采取完全不同的方式——亲自尝试建立你的原型。首先，这相当具有挑战性和乐趣。其次，这将帮助我们以更有条理的方式审视我们的工作。第三，这将给我们一个机会在实践中尝试最前沿的方法之一——LLM agents。\n",
      "\n",
      "[步骤2-结果3]\n",
      "花费大量时间思考不同可能的未来场景及其概率可能很吸引人，但我建议采取绝对不同的方式——亲自尝试建立你的原型。首先，这相当具有挑战性和乐趣。其次，这将帮助我们更有条理地审视我们的工作。第三，这将给我们一个机会在实践中尝试最前沿的方法之一——LLM agents。\n",
      "\n",
      "[步骤3-最终结果]\n",
      "花费大量时间思考不同未来可能场景及其概率可能很吸引人，但我建议采取完全不同的方式——亲自尝试建立你的原型。首先，这相当具有挑战性和乐趣。其次，这将帮助我们更有条理地审视我们的工作。第三，这将给我们一个机会在实践中尝试最前沿的方法之一——LLM agents。\n",
      "\n",
      "\n"
     ]
    }
   ],
   "source": [
    "client = lxw.new_client()\n",
    "\n",
    "messages = [\n",
    "    {\n",
    "        \"role\": \"user\",\n",
    "        \"content\": \"\"\"\n",
    "[Profile]\n",
    "你是一个擅长中文和英文的数据科学家，擅长中文和英文相关的技术文章编写和翻译。\n",
    "\n",
    "[Workflow]\n",
    "你需要3个步骤来执行翻译任务：\n",
    "步骤1. 采用直译的方式，将英文直接翻译为中文，主要考虑意思表达的准确性，给出3个结果。\n",
    "步骤2. 分别将'步骤1' 直译的3个中文结果，润色为更简洁优雅通顺的中文，考虑中文的语言表达习惯。\n",
    "步骤3. 审视'步骤2' 提供的 3 个结果，整合出一个最好的结果，作为最终结果输出。要求语言生动活泼，简洁优雅，容易阅读与理解。\n",
    "\n",
    "[Output]\n",
    "分别输出'步骤1'的 3 个结果、'步骤2' 的 3 个结果，和'步骤3' 的最终结果\n",
    "\n",
    "[Task]\n",
    "需要翻译的英文：\n",
    "Spending lots of time thinking about different possible future scenarios and their probabilities might be captivating, but I suggest an absolutely different approach — to try to build your prototype yourself. First, it’s rather challenging and fun. Second, it will help us to look at our work in a more structured way. Third, it will give us an opportunity to try in practice one of the most cutting-edge approaches — LLM agents.\n",
    "\"\"\"\n",
    "    }\n",
    "]\n",
    "\n",
    "response = client.chat.completions.create(\n",
    "    model = lxw.gpt35_turbo,\n",
    "    messages = messages,\n",
    "    temperature = 1.0,\n",
    "    n=1\n",
    ")\n",
    "\n",
    "lxw.print_response(response)\n",
    " "
   ]
  },
  {
   "cell_type": "markdown",
   "id": "06f25511-4888-4305-84f3-af26af20a8fd",
   "metadata": {},
   "source": [
    "### 1.2 多阶段"
   ]
  },
  {
   "cell_type": "code",
   "execution_count": 2,
   "id": "d9bc305a-a1a7-46b9-baf7-476873934dac",
   "metadata": {},
   "outputs": [],
   "source": [
    "english_sentence = \"Spending lots of time thinking about different possible future scenarios and their probabilities might be captivating, but I suggest an absolutely different approach — to try to build your prototype yourself. First, it’s rather challenging and fun. Second, it will help us to look at our work in a more structured way. Third, it will give us an opportunity to try in practice one of the most cutting-edge approaches — LLM agents.\""
   ]
  },
  {
   "cell_type": "markdown",
   "id": "b304c83f-4da8-48ce-85f7-ff0ce9326c69",
   "metadata": {},
   "source": [
    "#### 1.2.1 先直译"
   ]
  },
  {
   "cell_type": "code",
   "execution_count": 10,
   "id": "391308d2-8e86-42e3-99a4-e55a98d476ab",
   "metadata": {},
   "outputs": [],
   "source": [
    "def step1_literal_translation(english_sentence, n):\n",
    "    client = lxw.new_client()\n",
    "    prompt_template = \"\"\"采用直译的方式，将英文直接翻译为中文，主要考虑表达的准确性与通顺。需要翻译的英文：\n",
    "{0}\"\"\"\n",
    "    messages = [\n",
    "        {\n",
    "            \"role\": \"user\",\n",
    "            \"content\": prompt_template.format(english_sentence)\n",
    "        }\n",
    "    ]\n",
    "    response = client.chat.completions.create(\n",
    "        model = lxw.gpt35_turbo,\n",
    "        messages = messages,\n",
    "        n=n\n",
    "    )\n",
    "    return [x.message.content for x in response.choices]"
   ]
  },
  {
   "cell_type": "code",
   "execution_count": 19,
   "id": "e8200bab-7f1c-4bed-9410-6f7777e9e797",
   "metadata": {},
   "outputs": [
    {
     "data": {
      "text/plain": [
       "['花费大量时间思考不同可能的未来场景及其概率可能会引人入胜，但我建议采用绝对不同的方法——尝试自己建立原型。首先，这相当具有挑战性和乐趣。其次，这将帮助我们以更有条理的方式审视我们的工作。第三，这将为我们提供一个机会来实践最尖端的方法之一——LLM代理。',\n",
       " '花费大量时间思考不同可能的未来情景及其概率可能很吸引人，但我建议采取完全不同的方法 — 尝试亲自构建你的原型。首先，这是相当具有挑战性和有趣的。其次，它将帮助我们更有条理地看待我们的工作。第三，这将给我们一个机会去实践最尖端的方法之一 — LLM代理。',\n",
       " '花费大量的时间思考不同可能的未来情景及其概率可能会很吸引人，但我建议采用完全不同的方式——尝试亲自构建您的原型。首先，这相当具有挑战性和乐趣。其次，这将帮助我们更有条理地看待我们的工作。第三，这将使我们有机会在实践中尝试最前沿的方法之一——LLM代理。']"
      ]
     },
     "execution_count": 19,
     "metadata": {},
     "output_type": "execute_result"
    }
   ],
   "source": [
    "literal_translations = step1_literal_translation(english_sentence, 3)\n",
    "literal_translations"
   ]
  },
  {
   "cell_type": "markdown",
   "id": "409ea746-641c-41a0-a605-d06d1a0ab3d3",
   "metadata": {},
   "source": [
    "#### 1.2.2 再进行润色"
   ]
  },
  {
   "cell_type": "code",
   "execution_count": 21,
   "id": "0e1768a7-8c7e-4def-a278-0cf45c2961ba",
   "metadata": {},
   "outputs": [],
   "source": [
    "def step2_refine(literal_translations):\n",
    "    client = lxw.new_client()\n",
    "    prompt_template = \"\"\"将以下中文译文内容进行修订。要求文字通顺，容易阅读与理解，符合中文的表达习惯。\n",
    "英文原文：{0}\n",
    "中文译文：{1}\"\"\"\n",
    "    refines = []\n",
    "    for s in literal_translations:\n",
    "        messages = [\n",
    "            {\n",
    "                \"role\": \"user\",\n",
    "                \"content\": prompt_template.format(english_sentence, s)\n",
    "            }\n",
    "        ]\n",
    "        response = client.chat.completions.create(\n",
    "            model = lxw.gpt4_turbo,\n",
    "            messages = messages,\n",
    "            top_p = 0.95,\n",
    "        )\n",
    "        refines.append(response.choices[0].message.content)\n",
    "    return refines"
   ]
  },
  {
   "cell_type": "code",
   "execution_count": 22,
   "id": "9af86955-2133-4a28-b5f2-784222925fd4",
   "metadata": {},
   "outputs": [
    {
     "data": {
      "text/plain": [
       "['花费大量时间去思考各种可能的未来情景及其发生的概率虽然颇有吸引力，但我在这里推荐一种截然不同的做法——亲手尝试构建自己的原型。第一，这个过程不仅挑战性十足，而且充满乐趣。第二，它能帮助我们更有系统地看待我们的工作。第三，它让我们有机会亲自尝试一种极具前沿性的方法——即LLM代理。',\n",
       " '沉浸在对不同潜在未来场景及其可能性的深思熟虑中或许令人着迷，但我在这里提出一个全然不同的策略 — 动手尝试构建你自己的原型。首先，这个过程既充满挑战又极富乐趣。其次，它能让我们以更加有序的方式审视我们的工作。再者，这还能让我们亲身尝试其中一个最前沿的技术 — LLM代理。',\n",
       " '花费许多时间去思索各种可能的未来情景及其发生的可能性虽然令人着迷，但我在这里推荐一种截然不同的方法——亲手尝试构建你的原型。首先，这个过程既充满挑战又充满乐趣。其次，它将帮助我们以更加有结构性的方式审视我们的工作。第三，它将为我们提供亲身实践其中一种最尖端技术——LLM代理的机会。']"
      ]
     },
     "execution_count": 22,
     "metadata": {},
     "output_type": "execute_result"
    }
   ],
   "source": [
    "refines = step2_refine(literal_translations)\n",
    "refines"
   ]
  },
  {
   "cell_type": "markdown",
   "id": "02f89100-8d9a-401f-bf97-d8e2e95733f4",
   "metadata": {},
   "source": [
    "#### 1.2.3 最后多数投票（本示例中用的简单融合）"
   ]
  },
  {
   "cell_type": "code",
   "execution_count": 29,
   "id": "bf58688e-f80c-43b5-9cf4-a2737f46de4c",
   "metadata": {},
   "outputs": [],
   "source": [
    "def step3_majority_vote(english_sentence, tranlations):\n",
    "    prompt_template = \"\"\"\n",
    "[Profile]\n",
    "你是一个擅长中文和英文的数据科学家，擅长中文和英文相关的AI技术文章编写和翻译。\n",
    "\n",
    "[Origin-English]\n",
    "{0}\n",
    "\n",
    "[Translated-Chinese]\n",
    "{1}\n",
    "\n",
    "[Workflow]\n",
    "你参考英文原文[Origin-English]，以及其他人翻译的中文译文[Translated-Chinese]，对中文译文[Translated-Chinese]进行润色。\n",
    "要求润色后的内容语言通俗易懂，简洁优雅，文字通顺，容易阅读与理解，符合中文的表达习惯。\n",
    "\"\"\"\n",
    "    client = lxw.new_client()\n",
    "    translated_chinese = \"\"\n",
    "    for i in range(len(tranlations)):\n",
    "        translated_chinese += \"译文{0} - {1}\\r\\n\".format(i + 1, tranlations[i])\n",
    "    \n",
    "    messages = [\n",
    "        {\n",
    "            \"role\": \"user\",\n",
    "            \"content\": prompt_template.format(english_sentence, translated_chinese)\n",
    "        }\n",
    "    ]\n",
    "    response = client.chat.completions.create(\n",
    "        model = lxw.gpt4_turbo,\n",
    "        messages = messages,\n",
    "    )\n",
    "    print(translated_chinese)\n",
    "    return response.choices[0].message.content"
   ]
  },
  {
   "cell_type": "code",
   "execution_count": 30,
   "id": "ef9580f2-069b-4e84-832b-dae9e27fbca2",
   "metadata": {},
   "outputs": [
    {
     "name": "stdout",
     "output_type": "stream",
     "text": [
      "译文1 - 花费大量时间去思考各种可能的未来情景及其发生的概率虽然颇有吸引力，但我在这里推荐一种截然不同的做法——亲手尝试构建自己的原型。第一，这个过程不仅挑战性十足，而且充满乐趣。第二，它能帮助我们更有系统地看待我们的工作。第三，它让我们有机会亲自尝试一种极具前沿性的方法——即LLM代理。\n",
      "译文2 - 沉浸在对不同潜在未来场景及其可能性的深思熟虑中或许令人着迷，但我在这里提出一个全然不同的策略 — 动手尝试构建你自己的原型。首先，这个过程既充满挑战又极富乐趣。其次，它能让我们以更加有序的方式审视我们的工作。再者，这还能让我们亲身尝试其中一个最前沿的技术 — LLM代理。\n",
      "译文3 - 花费许多时间去思索各种可能的未来情景及其发生的可能性虽然令人着迷，但我在这里推荐一种截然不同的方法——亲手尝试构建你的原型。首先，这个过程既充满挑战又充满乐趣。其次，它将帮助我们以更加有结构性的方式审视我们的工作。第三，它将为我们提供亲身实践其中一种最尖端技术——LLM代理的机会。\n",
      "\n"
     ]
    },
    {
     "data": {
      "text/plain": [
       "'经过思考，我认为以下这种翻译可以很好地满足要求，确保内容的优雅、通顺，也便于阅读理解：\\n\\n沉心去预测未来可能的情境及其出现可能性固然迷人，但我要提倡一种全新的实践方式 — 亲自动手打造你的原型。首先，这个过程极具挑战性且令人兴奋。其次，它能引导我们更加系统地对待我们的工作。最后，它让我们有机会直接应用最前沿的技术 — 大型语言模型(LLM)代理。'"
      ]
     },
     "execution_count": 30,
     "metadata": {},
     "output_type": "execute_result"
    }
   ],
   "source": [
    "voted = step3_majority_vote(english_sentence, refines)\n",
    "voted"
   ]
  },
  {
   "cell_type": "code",
   "execution_count": null,
   "id": "1c90eb5b-5e6b-490f-85bc-dde2a3f71583",
   "metadata": {},
   "outputs": [],
   "source": []
  },
  {
   "cell_type": "code",
   "execution_count": null,
   "id": "b03f170a-71d6-4d3f-808e-110529591487",
   "metadata": {},
   "outputs": [],
   "source": []
  },
  {
   "cell_type": "markdown",
   "id": "53be9471-d191-4818-8cd6-80a05e628efb",
   "metadata": {},
   "source": [
    "# 2. 封闭式"
   ]
  },
  {
   "cell_type": "markdown",
   "id": "8ccdbc9c-356d-4539-8430-a99d50d5f1a1",
   "metadata": {},
   "source": [
    "## 2.1 CoT-SC 采样"
   ]
  },
  {
   "cell_type": "code",
   "execution_count": 4,
   "id": "b384e7aa-4dd8-4fb4-8bdc-002b93d4d855",
   "metadata": {},
   "outputs": [],
   "source": [
    "def CoT_SC_Sampling(question, n, model = ''):\n",
    "    system_prompt = '''\n",
    "# Profile\n",
    "You are a versatile expert capable of solving all kinds of problems.\n",
    "\n",
    "# Constraint\n",
    "Your output language should be Chinese.\n",
    "\n",
    "# Workflow\n",
    "1. User input question.\n",
    "2. You carefully understand and analyze the problem, then think step by step.\n",
    "3. You generate the output specified by [Output Format].\n",
    "\n",
    "# Output Format\n",
    "思考过程: \n",
    "<< detailed steps of analyze and calculation process >>\n",
    "因此最终答案是:\n",
    "<< Just output the clean final answer without including any other content >>\n",
    "'''\n",
    "\n",
    "    messages = [\n",
    "        {\n",
    "            'role': 'system',\n",
    "            'content': system_prompt\n",
    "        },\n",
    "        {\n",
    "            \"role\": \"user\",\n",
    "            \"content\": question\n",
    "        }\n",
    "    ]\n",
    "\n",
    "    if not model:\n",
    "        model = lxw.gpt4_turbo\n",
    "        \n",
    "    client = lxw.new_client(model = model)\n",
    "\n",
    "    response = client.chat.completions.create(\n",
    "        model = model,\n",
    "        messages = messages,\n",
    "        n=n,\n",
    "    )\n",
    "    contents = [x.message.content for x in response.choices]\n",
    "    samples = pd.DataFrame(columns = {'FINAL_ANSWER': str, 'CONTENT': str})\n",
    "    for content in contents:\n",
    "        match = re.search(r'最终答案是[:：]\\s*(.*)', content, re.DOTALL)\n",
    "        row = ['', content]\n",
    "        if match:\n",
    "            row[0] = match.group(1).strip()\n",
    "        samples.loc[len(samples)] = row\n",
    "    return samples\n",
    "\n"
   ]
  },
  {
   "cell_type": "markdown",
   "id": "d477cfa8-9c4a-47b0-9739-4a0d98ee4bea",
   "metadata": {},
   "source": [
    "## 2.2 CoT-SC 汇总"
   ]
  },
  {
   "cell_type": "code",
   "execution_count": 5,
   "id": "f951b629-121d-4b8a-8a96-eb825315207e",
   "metadata": {},
   "outputs": [],
   "source": [
    "def CoT_SC_Counts(answers, model = ''):\n",
    "    system_prompt = '''\n",
    "# Profile\n",
    "You are in charge of tallying the answers. Several students have given different answers to the same question. Your duty is to summarize and count the frequency of these answers.\n",
    "\n",
    "# Output Format\n",
    "You should generate output use a python dict format as the data for DataFrame. For example:\n",
    "Example 1\n",
    "{'ANSWER': ['A','B','C'], 'TIMES': [3,2,1]}\n",
    "Example 2\n",
    "{'ANSWER': ['Cat','Dog','Pig'], 'TIMES': [3,2,1]}\n",
    "\n",
    "# Workflow\n",
    "1. User input the answers of students.\n",
    "2. You combine sentences with the same meaning but different phrasing. For example, 'The answer is 3.50' same as 'Answer 3.5'.\n",
    "3. You generate the output specified by [Output Format].\n",
    "'''\n",
    "    N = 1\n",
    "    user_prompt = ''\n",
    "    for answer in answers:\n",
    "        user_prompt += 'No #' + str(N) + ':\\r\\n' + answer + '\\r\\n'\n",
    "        N += 1\n",
    "\n",
    "    messages = [\n",
    "        {\n",
    "            \"role\": \"system\",\n",
    "            \"content\": system_prompt\n",
    "        },\n",
    "        {\n",
    "            \"role\": \"user\",\n",
    "            \"content\": user_prompt\n",
    "        },        \n",
    "    ]\n",
    "\n",
    "    client = lxw.new_client(model = model)\n",
    "    if not model:\n",
    "        model = lxw.gpt4_turbo\n",
    "    response = client.chat.completions.create(\n",
    "        model = model,\n",
    "        messages = messages\n",
    "    )\n",
    "\n",
    "    content = response.choices[0].message.content\n",
    "    local_env = {}\n",
    "    code = 'data = ' + content\n",
    "    exec(code, local_env)\n",
    "    counts = pd.DataFrame(data = local_env['data'])\n",
    "    counts = counts.sort_values(by='TIMES', ascending=False)\n",
    "    return counts"
   ]
  },
  {
   "cell_type": "code",
   "execution_count": null,
   "id": "6ac34a16-c36e-4fab-9a25-6a7ccc7e4728",
   "metadata": {},
   "outputs": [],
   "source": []
  },
  {
   "cell_type": "markdown",
   "id": "dbe7e350-a7f8-4ca2-b28e-74aa10e06233",
   "metadata": {},
   "source": [
    "## 2.3 问题示例"
   ]
  },
  {
   "cell_type": "markdown",
   "id": "9b010cf3-e30b-470a-bc1c-bfe6b2c19dab",
   "metadata": {},
   "source": [
    "以下问题选自《2024龙湖春招算法类笔试题》"
   ]
  },
  {
   "cell_type": "markdown",
   "id": "c0aaacdb-0ad4-403a-9f34-438899c7a255",
   "metadata": {},
   "source": [
    "### 2.3.1 掷骰子问题"
   ]
  },
  {
   "cell_type": "markdown",
   "id": "eca7df3a-328f-4ded-b4d7-e355d7713563",
   "metadata": {},
   "source": [
    "**问题：**<br>\n",
    "投掷两个6面的骰子，取最高的点数，点数的数学期望是多少？<br>\n",
    "**解答：**<br>\n",
    "$n$个$6$面骰子点数都小于等于$a$的概率是： \n",
    "$$\\left ( \\frac{a}{6}\\right )^{n}$$\n",
    "$n$个$6$面骰子点数都小于$a$的概率是： \n",
    "$$\\left ( \\frac{a-1}{6}\\right )^{n}$$\n",
    "所以$n$个$6$面骰子点数最大点数等于$a$的概率是:\n",
    "$$P_{n,max=a} = \\left ( \\frac{a}{6}\\right )^{n} - \\left ( \\frac{a-1}{6}\\right )^{n}$$\n",
    "所以有期望值：\n",
    "$$ E_{n} = \\sum_{a=1}^{6} \\left [ \\left ( \\frac{a}{6}\\right )^{n} - \\left ( \\frac{a-1}{6}\\right )^{n} \\right ] $$\n",
    "所以当 $n=2$ 时：\n",
    "$$ E_{2} = \\frac{161}{36} \\approx 4.47 $$"
   ]
  },
  {
   "cell_type": "markdown",
   "id": "64d6e772-7e0c-4e82-88a0-77d53573c407",
   "metadata": {},
   "source": [
    "#### GPT 3.5"
   ]
  },
  {
   "cell_type": "code",
   "execution_count": 61,
   "id": "e8f8bc8e-219d-4cff-a223-195e90e1a2a3",
   "metadata": {},
   "outputs": [],
   "source": [
    "q = \"\"\"\n",
    "投掷两个6面的骰子，取最高的点数，点数的数学期望是多少(保留2位小数)？\n",
    "\"\"\"\n",
    "samples = CoT_SC_Sampling(q, 10, model=lxw.gpt35_turbo)"
   ]
  },
  {
   "cell_type": "code",
   "execution_count": 62,
   "id": "d03deae2-71b3-4023-953a-5bd879a03098",
   "metadata": {},
   "outputs": [
    {
     "name": "stdout",
     "output_type": "stream",
     "text": [
      "思考过程: \n",
      "我们知道两个6面的骰子，每个骰子点数的数学期望是(1+2+3+4+5+6)/6=3.5。因为我们取两个骰子中较大的点数，所以可以分情况讨论：\n",
      "1. 如果投掷的两个骰子的点数相同，那么取最大点数的期望就是这个点数本身。\n",
      "2. 如果投掷的两个骰子的点数不同，那么取最大点数的期望就是max(点数1, 点数2)，其中点数1和点数2分别是两个骰子的点数。\n",
      "\n",
      "我们可以列出两个骰子点数的组合情况，然后计算对应的期望：\n",
      "(1, 1) -> max(1, 1) = 1\n",
      "(1, 2) -> max(1, 2) = 2\n",
      "(1, 3) -> max(1, 3) = 3\n",
      "(1, 4) -> max(1, 4) = 4\n",
      "(1, 5) -> max(1, 5) = 5\n",
      "(1, 6) -> max(1, 6) = 6\n",
      "(2, 1) -> max(2, 1) = 2\n",
      "(2, 2) -> max(2, 2) = 2\n",
      "(2, 3) -> max(2, 3) = 3\n",
      "(2, 4) -> max(2, 4) = 4\n",
      "(2, 5) -> max(2, 5) = 5\n",
      "(2, 6) -> max(2, 6) = 6\n",
      "(3, 1) -> max(3, 1) = 3\n",
      "(3, 2) -> max(3, 2) = 3\n",
      "(3, 3) -> max(3, 3) = 3\n",
      "(3, 4) -> max(3, 4) = 4\n",
      "(3, 5) -> max(3, 5) = 5\n",
      "(3, 6) -> max(3, 6) = 6\n",
      "(4, 1) -> max(4, 1) = 4\n",
      "(4, 2) -> max(4, 2) = 4\n",
      "(4, 3) -> max(4, 3) = 4\n",
      "(4, 4) -> max(4, 4) = 4\n",
      "(4, 5) -> max(4, 5) = 5\n",
      "(4, 6) -> max(4, 6) = 6\n",
      "(5, 1) -> max(5, 1) = 5\n",
      "(5, 2) -> max(5, 2) = 5\n",
      "(5, 3) -> max(5, 3) = 5\n",
      "(5, 4) -> max(5, 4) = 5\n",
      "(5, 5) -> max(5, 5) = 5\n",
      "(5, 6) -> max(5, 6) = 6\n",
      "(6, 1) -> max(6, 1) = 6\n",
      "(6, 2) -> max(6, 2) = 6\n",
      "(6, 3) -> max(6, 3) = 6\n",
      "(6, 4) -> max(6, 4) = 6\n",
      "(6, 5) -> max(6, 5) = 6\n",
      "(6, 6) -> max(6, 6) = 6\n",
      "\n",
      "因此最终答案是:\n",
      "3.58\n"
     ]
    }
   ],
   "source": [
    "print(samples.loc[0]['CONTENT'])"
   ]
  },
  {
   "cell_type": "code",
   "execution_count": 64,
   "id": "5b5d75ef-ac6c-49bf-bb6b-770a7781100c",
   "metadata": {},
   "outputs": [
    {
     "data": {
      "text/html": [
       "<div>\n",
       "<style scoped>\n",
       "    .dataframe tbody tr th:only-of-type {\n",
       "        vertical-align: middle;\n",
       "    }\n",
       "\n",
       "    .dataframe tbody tr th {\n",
       "        vertical-align: top;\n",
       "    }\n",
       "\n",
       "    .dataframe thead th {\n",
       "        text-align: right;\n",
       "    }\n",
       "</style>\n",
       "<table border=\"1\" class=\"dataframe\">\n",
       "  <thead>\n",
       "    <tr style=\"text-align: right;\">\n",
       "      <th></th>\n",
       "      <th>FINAL_ANSWER</th>\n",
       "      <th>CONTENT</th>\n",
       "    </tr>\n",
       "  </thead>\n",
       "  <tbody>\n",
       "    <tr>\n",
       "      <th>0</th>\n",
       "      <td>3.58</td>\n",
       "      <td>思考过程: \\n我们知道两个6面的骰子，每个骰子点数的数学期望是(1+2+3+4+5+6)/...</td>\n",
       "    </tr>\n",
       "    <tr>\n",
       "      <th>1</th>\n",
       "      <td>2.53</td>\n",
       "      <td>思考过程: \\n首先，我们知道每个骰子投掷出1-6的点数的概率是相等的，都是1/6。\\n然后...</td>\n",
       "    </tr>\n",
       "    <tr>\n",
       "      <th>2</th>\n",
       "      <td>2.53</td>\n",
       "      <td>思考过程: \\n首先我们知道，一个6面的骰子，每个点数出现的概率都是1/6。\\n对于两个骰子...</td>\n",
       "    </tr>\n",
       "    <tr>\n",
       "      <th>3</th>\n",
       "      <td>2.53</td>\n",
       "      <td>思考过程:\\n首先，我们知道投掷一个6面的骰子，每个面出现的概率都是1/6。\\n\\n然后，投...</td>\n",
       "    </tr>\n",
       "    <tr>\n",
       "      <th>4</th>\n",
       "      <td>1.28</td>\n",
       "      <td>思考过程:\\n首先，我们知道两个6面的骰子投掷，每个骰子的点数范围是1到6。\\n我们需要求取...</td>\n",
       "    </tr>\n",
       "    <tr>\n",
       "      <th>5</th>\n",
       "      <td>数学期望为4.47</td>\n",
       "      <td>思考过程: \\n首先，我们知道每个骰子投掷出的点数是1到6之间的整数，因此要计算点数的数学期...</td>\n",
       "    </tr>\n",
       "    <tr>\n",
       "      <th>6</th>\n",
       "      <td>4.47</td>\n",
       "      <td>思考过程: \\n首先，我们知道每个骰子的点数是1到6之间的整数，而我们取最高的点数，也就是说...</td>\n",
       "    </tr>\n",
       "    <tr>\n",
       "      <th>7</th>\n",
       "      <td>4.47</td>\n",
       "      <td>思考过程:\\n1. 骰子是6面的，所以点数的可能取值为1到6。\\n2. 我们需要计算每个点数...</td>\n",
       "    </tr>\n",
       "    <tr>\n",
       "      <th>8</th>\n",
       "      <td>2.53</td>\n",
       "      <td>思考过程: \\n首先，我们知道每个骰子的点数从1到6，因为我们取两个骰子中较大的点数，所以最...</td>\n",
       "    </tr>\n",
       "    <tr>\n",
       "      <th>9</th>\n",
       "      <td>3.58</td>\n",
       "      <td>思考过程:\\n1. 骰子的点数范围是1到6，我们要求两次投掷中的最大值。\\n2. 让我们计算...</td>\n",
       "    </tr>\n",
       "  </tbody>\n",
       "</table>\n",
       "</div>"
      ],
      "text/plain": [
       "  FINAL_ANSWER                                            CONTENT\n",
       "0         3.58  思考过程: \\n我们知道两个6面的骰子，每个骰子点数的数学期望是(1+2+3+4+5+6)/...\n",
       "1         2.53  思考过程: \\n首先，我们知道每个骰子投掷出1-6的点数的概率是相等的，都是1/6。\\n然后...\n",
       "2         2.53  思考过程: \\n首先我们知道，一个6面的骰子，每个点数出现的概率都是1/6。\\n对于两个骰子...\n",
       "3         2.53  思考过程:\\n首先，我们知道投掷一个6面的骰子，每个面出现的概率都是1/6。\\n\\n然后，投...\n",
       "4         1.28  思考过程:\\n首先，我们知道两个6面的骰子投掷，每个骰子的点数范围是1到6。\\n我们需要求取...\n",
       "5    数学期望为4.47  思考过程: \\n首先，我们知道每个骰子投掷出的点数是1到6之间的整数，因此要计算点数的数学期...\n",
       "6         4.47  思考过程: \\n首先，我们知道每个骰子的点数是1到6之间的整数，而我们取最高的点数，也就是说...\n",
       "7         4.47  思考过程:\\n1. 骰子是6面的，所以点数的可能取值为1到6。\\n2. 我们需要计算每个点数...\n",
       "8         2.53  思考过程: \\n首先，我们知道每个骰子的点数从1到6，因为我们取两个骰子中较大的点数，所以最...\n",
       "9         3.58  思考过程:\\n1. 骰子的点数范围是1到6，我们要求两次投掷中的最大值。\\n2. 让我们计算..."
      ]
     },
     "execution_count": 64,
     "metadata": {},
     "output_type": "execute_result"
    }
   ],
   "source": [
    "samples"
   ]
  },
  {
   "cell_type": "code",
   "execution_count": 66,
   "id": "1e124bf0-8f78-48f8-b4f5-b2eca736ccd7",
   "metadata": {},
   "outputs": [
    {
     "data": {
      "text/plain": [
       "FINAL_ANSWER\n",
       "2.53         4\n",
       "3.58         2\n",
       "4.47         2\n",
       "1.28         1\n",
       "数学期望为4.47    1\n",
       "Name: count, dtype: int64"
      ]
     },
     "execution_count": 66,
     "metadata": {},
     "output_type": "execute_result"
    }
   ],
   "source": [
    "counts = samples['FINAL_ANSWER'].value_counts()\n",
    "counts"
   ]
  },
  {
   "cell_type": "code",
   "execution_count": 67,
   "id": "ff6eff34-f488-4764-b192-b9a7c3e85c78",
   "metadata": {},
   "outputs": [
    {
     "data": {
      "text/html": [
       "<div>\n",
       "<style scoped>\n",
       "    .dataframe tbody tr th:only-of-type {\n",
       "        vertical-align: middle;\n",
       "    }\n",
       "\n",
       "    .dataframe tbody tr th {\n",
       "        vertical-align: top;\n",
       "    }\n",
       "\n",
       "    .dataframe thead th {\n",
       "        text-align: right;\n",
       "    }\n",
       "</style>\n",
       "<table border=\"1\" class=\"dataframe\">\n",
       "  <thead>\n",
       "    <tr style=\"text-align: right;\">\n",
       "      <th></th>\n",
       "      <th>ANSWER</th>\n",
       "      <th>TIMES</th>\n",
       "    </tr>\n",
       "  </thead>\n",
       "  <tbody>\n",
       "    <tr>\n",
       "      <th>0</th>\n",
       "      <td>2.53</td>\n",
       "      <td>5</td>\n",
       "    </tr>\n",
       "    <tr>\n",
       "      <th>2</th>\n",
       "      <td>4.47</td>\n",
       "      <td>3</td>\n",
       "    </tr>\n",
       "    <tr>\n",
       "      <th>1</th>\n",
       "      <td>3.58</td>\n",
       "      <td>2</td>\n",
       "    </tr>\n",
       "    <tr>\n",
       "      <th>3</th>\n",
       "      <td>1.28</td>\n",
       "      <td>1</td>\n",
       "    </tr>\n",
       "  </tbody>\n",
       "</table>\n",
       "</div>"
      ],
      "text/plain": [
       "   ANSWER  TIMES\n",
       "0    2.53      5\n",
       "2    4.47      3\n",
       "1    3.58      2\n",
       "3    1.28      1"
      ]
     },
     "execution_count": 67,
     "metadata": {},
     "output_type": "execute_result"
    }
   ],
   "source": [
    "counts = CoT_SC_Counts(samples['FINAL_ANSWER'])\n",
    "counts"
   ]
  },
  {
   "cell_type": "markdown",
   "id": "85542c92-a343-4bf3-94fe-3527cf7b20a0",
   "metadata": {},
   "source": [
    "#### GPT 4 Turbo"
   ]
  },
  {
   "cell_type": "code",
   "execution_count": 68,
   "id": "dc118c05-d848-4685-bc87-5e8edd0ec250",
   "metadata": {},
   "outputs": [],
   "source": [
    "q = \"\"\"\n",
    "投掷两个6面的骰子，取最高的点数，点数的数学期望是多少(保留2位小数)？\n",
    "\"\"\"\n",
    "samples = CoT_SC_Sampling(q, 10, model=lxw.gpt4_turbo)"
   ]
  },
  {
   "cell_type": "code",
   "execution_count": 69,
   "id": "0bd46bd0-d1c9-4d41-9669-30468cea4ddd",
   "metadata": {},
   "outputs": [
    {
     "name": "stdout",
     "output_type": "stream",
     "text": [
      "思考过程:\n",
      "我们需要计算当两个骰子掷出时，取其中点数较大的一个作为结果，所有可能结果的平均值。\n",
      "\n",
      "设两个骰子分别为A和B，它们的点数范围都是1至6。我们需要列出所有可能的点数组合，然后计算平均值。\n",
      "\n",
      "当A掷出i点，B掷出j点时，我们取i和j中较大的一个。不妨设i >= j。\n",
      "\n",
      "对于任何i点，A掷出i点且B掷出不超过i点的情况共有i种（即B掷出1至i）。因此，点数i出现的概率为i/36。\n",
      "\n",
      "点数i的期望贡献就是i乘以点数i出现的概率。\n",
      "\n",
      "$$E = \\sum_{i=1}^{6} i \\times \\frac{i}{36}$$\n",
      "\n",
      "这里由于每个点数出现的概率是不同的，我们需要进行加权平均：\n",
      "\n",
      "$$E = \\frac{1}{36} (1 \\times 1 + 2 \\times 2 + 3 \\times 3 + 4 \\times 4 + 5 \\times 5 + 6 \\times 6)$$\n",
      "$$E = \\frac{1 + 4 + 9 + 16 + 25 + 36}{36}$$\n",
      "$$E = \\frac{91}{36}$$\n",
      "\n",
      "我们将这个值计算出来并保留两位小数：\n",
      "\n",
      "$$E = \\frac{91}{36} ≈ 2.5278 ≈ 2.53$$\n",
      "\n",
      "因此最终答案是:\n",
      "2.53\n"
     ]
    }
   ],
   "source": [
    "print(samples.loc[0]['CONTENT'])"
   ]
  },
  {
   "cell_type": "code",
   "execution_count": 70,
   "id": "ebf62de8-fa27-4189-bb5b-ac75ce86df55",
   "metadata": {},
   "outputs": [
    {
     "data": {
      "text/html": [
       "<div>\n",
       "<style scoped>\n",
       "    .dataframe tbody tr th:only-of-type {\n",
       "        vertical-align: middle;\n",
       "    }\n",
       "\n",
       "    .dataframe tbody tr th {\n",
       "        vertical-align: top;\n",
       "    }\n",
       "\n",
       "    .dataframe thead th {\n",
       "        text-align: right;\n",
       "    }\n",
       "</style>\n",
       "<table border=\"1\" class=\"dataframe\">\n",
       "  <thead>\n",
       "    <tr style=\"text-align: right;\">\n",
       "      <th></th>\n",
       "      <th>FINAL_ANSWER</th>\n",
       "      <th>CONTENT</th>\n",
       "    </tr>\n",
       "  </thead>\n",
       "  <tbody>\n",
       "    <tr>\n",
       "      <th>0</th>\n",
       "      <td>2.53</td>\n",
       "      <td>思考过程:\\n我们需要计算当两个骰子掷出时，取其中点数较大的一个作为结果，所有可能结果的平均...</td>\n",
       "    </tr>\n",
       "    <tr>\n",
       "      <th>1</th>\n",
       "      <td>4.47</td>\n",
       "      <td>思考过程:\\n我们首先明确题目意思，我们需要计算的是在投掷两个六面骰子时，取两者中较大的那个...</td>\n",
       "    </tr>\n",
       "    <tr>\n",
       "      <th>2</th>\n",
       "      <td>4.47</td>\n",
       "      <td>思考过程:\\n这个问题可以通过两种方式来分析：一种是直接计算的方式，另一种是利用等概率分布的...</td>\n",
       "    </tr>\n",
       "    <tr>\n",
       "      <th>3</th>\n",
       "      <td>4.47</td>\n",
       "      <td>思考过程: \\n当我们投掷两个六面骰子时，每个骰子有1至6号之间的点数，所以共有6x6=36...</td>\n",
       "    </tr>\n",
       "    <tr>\n",
       "      <th>4</th>\n",
       "      <td>4.47</td>\n",
       "      <td>思考过程:\\n设两个骰子分别为骰子A和骰子B。\\n\\n我们需要计算的是在所有可能的点数组合中...</td>\n",
       "    </tr>\n",
       "    <tr>\n",
       "      <th>5</th>\n",
       "      <td>4.47</td>\n",
       "      <td>思考过程:\\n两个6面骰子的可能结果共有6*6=36种，下面列出所有可能的结果以及最高点数：...</td>\n",
       "    </tr>\n",
       "    <tr>\n",
       "      <th>6</th>\n",
       "      <td>4.47</td>\n",
       "      <td>思考过程:\\n要计算两个六面骰子投掷后取最高点数的数学期望，我们可以分步骤来计算。\\n\\n首...</td>\n",
       "    </tr>\n",
       "    <tr>\n",
       "      <th>7</th>\n",
       "      <td>4.47</td>\n",
       "      <td>思考过程:\\n我们可以通过求每个点数出现的概率，再乘以该点数，最后求和的方式来计算这个数学期...</td>\n",
       "    </tr>\n",
       "    <tr>\n",
       "      <th>8</th>\n",
       "      <td>1.97</td>\n",
       "      <td>思考过程: \\n设两个骰子分别为A和B，每个骰子的结果有6种可能，分别为1,2,3,4,5,...</td>\n",
       "    </tr>\n",
       "    <tr>\n",
       "      <th>9</th>\n",
       "      <td>4.47</td>\n",
       "      <td>思考过程:\\n每次掷两个骰子，我们可以取得的点数范围为1到6。我们需要计算在所有可能掷出的结...</td>\n",
       "    </tr>\n",
       "  </tbody>\n",
       "</table>\n",
       "</div>"
      ],
      "text/plain": [
       "  FINAL_ANSWER                                            CONTENT\n",
       "0         2.53  思考过程:\\n我们需要计算当两个骰子掷出时，取其中点数较大的一个作为结果，所有可能结果的平均...\n",
       "1         4.47  思考过程:\\n我们首先明确题目意思，我们需要计算的是在投掷两个六面骰子时，取两者中较大的那个...\n",
       "2         4.47  思考过程:\\n这个问题可以通过两种方式来分析：一种是直接计算的方式，另一种是利用等概率分布的...\n",
       "3         4.47  思考过程: \\n当我们投掷两个六面骰子时，每个骰子有1至6号之间的点数，所以共有6x6=36...\n",
       "4         4.47  思考过程:\\n设两个骰子分别为骰子A和骰子B。\\n\\n我们需要计算的是在所有可能的点数组合中...\n",
       "5         4.47  思考过程:\\n两个6面骰子的可能结果共有6*6=36种，下面列出所有可能的结果以及最高点数：...\n",
       "6         4.47  思考过程:\\n要计算两个六面骰子投掷后取最高点数的数学期望，我们可以分步骤来计算。\\n\\n首...\n",
       "7         4.47  思考过程:\\n我们可以通过求每个点数出现的概率，再乘以该点数，最后求和的方式来计算这个数学期...\n",
       "8         1.97  思考过程: \\n设两个骰子分别为A和B，每个骰子的结果有6种可能，分别为1,2,3,4,5,...\n",
       "9         4.47  思考过程:\\n每次掷两个骰子，我们可以取得的点数范围为1到6。我们需要计算在所有可能掷出的结..."
      ]
     },
     "execution_count": 70,
     "metadata": {},
     "output_type": "execute_result"
    }
   ],
   "source": [
    "samples"
   ]
  },
  {
   "cell_type": "code",
   "execution_count": 71,
   "id": "d4771b98-7317-4212-9953-47cf51fcf3c4",
   "metadata": {},
   "outputs": [
    {
     "data": {
      "text/plain": [
       "FINAL_ANSWER\n",
       "4.47    8\n",
       "2.53    1\n",
       "1.97    1\n",
       "Name: count, dtype: int64"
      ]
     },
     "execution_count": 71,
     "metadata": {},
     "output_type": "execute_result"
    }
   ],
   "source": [
    "counts = samples['FINAL_ANSWER'].value_counts()\n",
    "counts"
   ]
  },
  {
   "cell_type": "code",
   "execution_count": 72,
   "id": "49a33e50-fb20-420e-b6d0-1567672edc2d",
   "metadata": {},
   "outputs": [
    {
     "data": {
      "text/html": [
       "<div>\n",
       "<style scoped>\n",
       "    .dataframe tbody tr th:only-of-type {\n",
       "        vertical-align: middle;\n",
       "    }\n",
       "\n",
       "    .dataframe tbody tr th {\n",
       "        vertical-align: top;\n",
       "    }\n",
       "\n",
       "    .dataframe thead th {\n",
       "        text-align: right;\n",
       "    }\n",
       "</style>\n",
       "<table border=\"1\" class=\"dataframe\">\n",
       "  <thead>\n",
       "    <tr style=\"text-align: right;\">\n",
       "      <th></th>\n",
       "      <th>ANSWER</th>\n",
       "      <th>TIMES</th>\n",
       "    </tr>\n",
       "  </thead>\n",
       "  <tbody>\n",
       "    <tr>\n",
       "      <th>0</th>\n",
       "      <td>4.47</td>\n",
       "      <td>8</td>\n",
       "    </tr>\n",
       "    <tr>\n",
       "      <th>1</th>\n",
       "      <td>2.53</td>\n",
       "      <td>1</td>\n",
       "    </tr>\n",
       "    <tr>\n",
       "      <th>2</th>\n",
       "      <td>1.97</td>\n",
       "      <td>1</td>\n",
       "    </tr>\n",
       "  </tbody>\n",
       "</table>\n",
       "</div>"
      ],
      "text/plain": [
       "  ANSWER  TIMES\n",
       "0   4.47      8\n",
       "1   2.53      1\n",
       "2   1.97      1"
      ]
     },
     "execution_count": 72,
     "metadata": {},
     "output_type": "execute_result"
    }
   ],
   "source": [
    "counts = CoT_SC_Counts(samples['FINAL_ANSWER'])\n",
    "counts"
   ]
  },
  {
   "cell_type": "markdown",
   "id": "c16731cd-4701-454c-a72c-ab4066c6703a",
   "metadata": {},
   "source": [
    "### 2.3.2 母函数问题"
   ]
  },
  {
   "cell_type": "markdown",
   "id": "66e48791-7d10-4a53-b376-cc606fe9fd26",
   "metadata": {},
   "source": [
    "已知序列 $ \\{C^3_3,C^4_3,C^5_3,\\ldots,C_3^{n+3},\\ldots\\} $ ，那么，它的母函数是?"
   ]
  },
  {
   "cell_type": "markdown",
   "id": "451a6106-63ee-44b8-95d9-f15a9ff88e72",
   "metadata": {},
   "source": [
    "序列 $ \\{C^3_3,C^4_3,\\ldots,C_3^{n+3},\\ldots\\} $ <br>\n",
    "母函数为 $ \\sum_{n=0}^{\\infty} C_{n+3}^{n} x^n $\n",
    "由二项式定理：<br>\n",
    "$$\\left ( 1-x \\right ) ^ {-n}$$\n",
    "$$=\\sum _{k=0} ^{\\infty} C _{-n} ^{k} \\left (-x \\right ) ^k$$\n",
    "$$=\\sum _{k=0} ^{\\infty} C _{n+k-1} ^k x ^k$$\n",
    "因此，母函数为：$$ \\left ( 1-x \\right ) ^{-4} $$"
   ]
  },
  {
   "cell_type": "markdown",
   "id": "08da424a-a0bc-4139-a458-26f665d11962",
   "metadata": {},
   "source": [
    "#### GPT 4 Turbo"
   ]
  },
  {
   "cell_type": "code",
   "execution_count": 36,
   "id": "67ce86ea-7d4f-423e-a00f-72cdef33694d",
   "metadata": {},
   "outputs": [],
   "source": [
    "q = \"已知序列 $ \\{C^3_3,C^4_3,C^5_3,\\ldots,C_3^{n+3},\\ldots\\} $ ，那么，它的母函数是?\"\n",
    "samples = CoT_SC_Sampling(q, 5, model=lxw.gpt4_turbo_0125)"
   ]
  },
  {
   "cell_type": "code",
   "execution_count": 37,
   "id": "edf769e6-a234-485c-887c-2bfc9a74c03d",
   "metadata": {},
   "outputs": [
    {
     "data": {
      "text/html": [
       "<div>\n",
       "<style scoped>\n",
       "    .dataframe tbody tr th:only-of-type {\n",
       "        vertical-align: middle;\n",
       "    }\n",
       "\n",
       "    .dataframe tbody tr th {\n",
       "        vertical-align: top;\n",
       "    }\n",
       "\n",
       "    .dataframe thead th {\n",
       "        text-align: right;\n",
       "    }\n",
       "</style>\n",
       "<table border=\"1\" class=\"dataframe\">\n",
       "  <thead>\n",
       "    <tr style=\"text-align: right;\">\n",
       "      <th></th>\n",
       "      <th>FINAL_ANSWER</th>\n",
       "      <th>CONTENT</th>\n",
       "    </tr>\n",
       "  </thead>\n",
       "  <tbody>\n",
       "    <tr>\n",
       "      <th>0</th>\n",
       "      <td>$x^3\\cdot\\frac{1}{(1-x)^4}$</td>\n",
       "      <td>思考过程:\\n我们首先要理解题目中的序列是由组合数构成的，即 ${C^3_3,C^4_3,C...</td>\n",
       "    </tr>\n",
       "    <tr>\n",
       "      <th>1</th>\n",
       "      <td>\\[ \\frac{1+3x+3x^2+x^3}{1-x} \\]</td>\n",
       "      <td>思考过程:\\n首先，我们需要理解序列的组成和母函数的概念。\\n序列 $ \\{C^3_3,C^...</td>\n",
       "    </tr>\n",
       "    <tr>\n",
       "      <th>2</th>\n",
       "      <td>对不起，我之前的解释存在误导。实际上，生成函数的问题往往需要具体分析给定序列的规律以及应用恰...</td>\n",
       "      <td>思考过程:\\n首先, 我们知道组合数$C_n^m$的母函数是: $(1+x)^n$。对于题目...</td>\n",
       "    </tr>\n",
       "    <tr>\n",
       "      <th>3</th>\n",
       "      <td>这个问题的提法在于寻找一个序列的母函数，但根据序列的特性，它不符合有一个固定形式母函数的标准...</td>\n",
       "      <td>思考过程:\\n首先，我们需要知道组合数的标准形式和性质。组合数 $C^n_m$ 表示从n个元...</td>\n",
       "    </tr>\n",
       "    <tr>\n",
       "      <th>4</th>\n",
       "      <td>$(1+x)^3$</td>\n",
       "      <td>思考过程:\\n首先我们需要了解序列的母函数是什么。序列的母函数是一种生成函数，它通过一定的代...</td>\n",
       "    </tr>\n",
       "  </tbody>\n",
       "</table>\n",
       "</div>"
      ],
      "text/plain": [
       "                                        FINAL_ANSWER  \\\n",
       "0                        $x^3\\cdot\\frac{1}{(1-x)^4}$   \n",
       "1                    \\[ \\frac{1+3x+3x^2+x^3}{1-x} \\]   \n",
       "2  对不起，我之前的解释存在误导。实际上，生成函数的问题往往需要具体分析给定序列的规律以及应用恰...   \n",
       "3  这个问题的提法在于寻找一个序列的母函数，但根据序列的特性，它不符合有一个固定形式母函数的标准...   \n",
       "4                                          $(1+x)^3$   \n",
       "\n",
       "                                             CONTENT  \n",
       "0  思考过程:\\n我们首先要理解题目中的序列是由组合数构成的，即 ${C^3_3,C^4_3,C...  \n",
       "1  思考过程:\\n首先，我们需要理解序列的组成和母函数的概念。\\n序列 $ \\{C^3_3,C^...  \n",
       "2  思考过程:\\n首先, 我们知道组合数$C_n^m$的母函数是: $(1+x)^n$。对于题目...  \n",
       "3  思考过程:\\n首先，我们需要知道组合数的标准形式和性质。组合数 $C^n_m$ 表示从n个元...  \n",
       "4  思考过程:\\n首先我们需要了解序列的母函数是什么。序列的母函数是一种生成函数，它通过一定的代...  "
      ]
     },
     "execution_count": 37,
     "metadata": {},
     "output_type": "execute_result"
    }
   ],
   "source": [
    "samples"
   ]
  },
  {
   "cell_type": "code",
   "execution_count": null,
   "id": "49a837df-da81-4a3d-af2d-6859423116c4",
   "metadata": {},
   "outputs": [],
   "source": []
  },
  {
   "cell_type": "code",
   "execution_count": 39,
   "id": "b668a23a-36f9-4d74-9069-547d38fe2759",
   "metadata": {},
   "outputs": [
    {
     "data": {
      "text/html": [
       "<div>\n",
       "<style scoped>\n",
       "    .dataframe tbody tr th:only-of-type {\n",
       "        vertical-align: middle;\n",
       "    }\n",
       "\n",
       "    .dataframe tbody tr th {\n",
       "        vertical-align: top;\n",
       "    }\n",
       "\n",
       "    .dataframe thead th {\n",
       "        text-align: right;\n",
       "    }\n",
       "</style>\n",
       "<table border=\"1\" class=\"dataframe\">\n",
       "  <thead>\n",
       "    <tr style=\"text-align: right;\">\n",
       "      <th></th>\n",
       "      <th>ANSWER</th>\n",
       "      <th>TIMES</th>\n",
       "    </tr>\n",
       "  </thead>\n",
       "  <tbody>\n",
       "    <tr>\n",
       "      <th>2</th>\n",
       "      <td>Unable to provide a standard generating function</td>\n",
       "      <td>3</td>\n",
       "    </tr>\n",
       "    <tr>\n",
       "      <th>0</th>\n",
       "      <td>$x^3\\cdot\\frac{1}{(1-x)^4}$</td>\n",
       "      <td>1</td>\n",
       "    </tr>\n",
       "    <tr>\n",
       "      <th>1</th>\n",
       "      <td>$(1+x)^3$</td>\n",
       "      <td>1</td>\n",
       "    </tr>\n",
       "  </tbody>\n",
       "</table>\n",
       "</div>"
      ],
      "text/plain": [
       "                                             ANSWER  TIMES\n",
       "2  Unable to provide a standard generating function      3\n",
       "0                       $x^3\\cdot\\frac{1}{(1-x)^4}$      1\n",
       "1                                         $(1+x)^3$      1"
      ]
     },
     "execution_count": 39,
     "metadata": {},
     "output_type": "execute_result"
    }
   ],
   "source": [
    "counts = CoT_SC_Counts(samples['FINAL_ANSWER'])\n",
    "counts"
   ]
  },
  {
   "cell_type": "code",
   "execution_count": null,
   "id": "2eab0e22-8431-40c1-a00d-0a6d6afc0c52",
   "metadata": {},
   "outputs": [],
   "source": []
  },
  {
   "cell_type": "markdown",
   "id": "b0fee33c-2c2e-48b5-be92-6264a4457c94",
   "metadata": {},
   "source": [
    "### 2.3.3 安全性评估"
   ]
  },
  {
   "cell_type": "markdown",
   "id": "70c6a20f-46c1-482e-8c96-60182facc847",
   "metadata": {},
   "source": [
    "在抽样的n=65个独立服务样本中，发现有10个服务存在越权漏洞。真实的服务越权漏洞率大于90%的置信区间（双侧的，Z90 = 1.64）是（保留3位小数）<br>"
   ]
  },
  {
   "cell_type": "markdown",
   "id": "b33dbdc2-7bd4-4c9e-920c-666e60836db4",
   "metadata": {},
   "source": [
    "$n=65$ 的独立抽取样本上出现 $r=10$ 个错误，因此样本错误率为 $error\\left ( h \\right ) = \\frac{10}{65}$ ，则其在$N\\%$上的置信区间为 <br>\n",
    "$$error \\left ( h \\right ) \\pm Z _{n}\\sqrt{\\frac{error \\left ( h \\right ) \\left ( 1 - error \\left ( h \\right ) \\right )}{n}}$$\n",
    "$$ \\approx 0.1538 \\pm 0.0733 $$\n",
    "$$ = \\left ( 0.0805, 0.2271 \\right ) $$\n",
    "\n"
   ]
  },
  {
   "cell_type": "markdown",
   "id": "215889b4-cc9b-4955-a5f4-0775df351e54",
   "metadata": {},
   "source": [
    "#### GPT 4 Turbo"
   ]
  },
  {
   "cell_type": "code",
   "execution_count": 44,
   "id": "b61f97df-e851-4fb4-aea2-f191308e5cc1",
   "metadata": {},
   "outputs": [],
   "source": [
    "q = \"在抽样的n=65个独立服务样本中，发现有10个服务存在越权漏洞。真实的服务越权漏洞率大于90%的置信区间（双侧的，Z90 = 1.64）是（保留3位小数）?\"\n",
    "samples = CoT_SC_Sampling(q, 5, model=lxw.gpt4_turbo_0125)"
   ]
  },
  {
   "cell_type": "code",
   "execution_count": 45,
   "id": "6fe30bb3-467b-45af-94c7-afed0689b770",
   "metadata": {},
   "outputs": [
    {
     "data": {
      "text/html": [
       "<div>\n",
       "<style scoped>\n",
       "    .dataframe tbody tr th:only-of-type {\n",
       "        vertical-align: middle;\n",
       "    }\n",
       "\n",
       "    .dataframe tbody tr th {\n",
       "        vertical-align: top;\n",
       "    }\n",
       "\n",
       "    .dataframe thead th {\n",
       "        text-align: right;\n",
       "    }\n",
       "</style>\n",
       "<table border=\"1\" class=\"dataframe\">\n",
       "  <thead>\n",
       "    <tr style=\"text-align: right;\">\n",
       "      <th></th>\n",
       "      <th>FINAL_ANSWER</th>\n",
       "      <th>CONTENT</th>\n",
       "    </tr>\n",
       "  </thead>\n",
       "  <tbody>\n",
       "    <tr>\n",
       "      <th>0</th>\n",
       "      <td>(0.080, 0.227)</td>\n",
       "      <td>思考过程:\\n首先，我们需要理解题目要求计算的是什么类型的统计量。题目让我们计算的是一个具体...</td>\n",
       "    </tr>\n",
       "    <tr>\n",
       "      <th>1</th>\n",
       "      <td>(0.087, 0.220)</td>\n",
       "      <td>思考过程:\\n首先，我们需要明确这是一个比例置信区间的问题。给定样本量\\(n=65\\), 存...</td>\n",
       "    </tr>\n",
       "    <tr>\n",
       "      <th>2</th>\n",
       "      <td>(0.080, 0.227)</td>\n",
       "      <td>思考过程:\\n首先，我们需要根据给定的信息计算样本中的服务越权漏洞率（p），这可以通过将存在...</td>\n",
       "    </tr>\n",
       "    <tr>\n",
       "      <th>3</th>\n",
       "      <td>(0.080, 0.227)</td>\n",
       "      <td>思考过程:\\n首先，我们使用二项分布来估计参数（即服务越权漏洞率）的置信区间。由于样本量相对...</td>\n",
       "    </tr>\n",
       "    <tr>\n",
       "      <th>4</th>\n",
       "      <td>(0.078, 0.230)</td>\n",
       "      <td>思考过程:\\n首先，我们使用两侧置信区间的公式来计算真实的服务越权漏洞率的置信区间。这个问题...</td>\n",
       "    </tr>\n",
       "  </tbody>\n",
       "</table>\n",
       "</div>"
      ],
      "text/plain": [
       "     FINAL_ANSWER                                            CONTENT\n",
       "0  (0.080, 0.227)  思考过程:\\n首先，我们需要理解题目要求计算的是什么类型的统计量。题目让我们计算的是一个具体...\n",
       "1  (0.087, 0.220)  思考过程:\\n首先，我们需要明确这是一个比例置信区间的问题。给定样本量\\(n=65\\), 存...\n",
       "2  (0.080, 0.227)  思考过程:\\n首先，我们需要根据给定的信息计算样本中的服务越权漏洞率（p），这可以通过将存在...\n",
       "3  (0.080, 0.227)  思考过程:\\n首先，我们使用二项分布来估计参数（即服务越权漏洞率）的置信区间。由于样本量相对...\n",
       "4  (0.078, 0.230)  思考过程:\\n首先，我们使用两侧置信区间的公式来计算真实的服务越权漏洞率的置信区间。这个问题..."
      ]
     },
     "execution_count": 45,
     "metadata": {},
     "output_type": "execute_result"
    }
   ],
   "source": [
    "samples"
   ]
  },
  {
   "cell_type": "code",
   "execution_count": 47,
   "id": "aa28029d-fa3a-4c62-a867-8f92f78b57c6",
   "metadata": {},
   "outputs": [
    {
     "data": {
      "text/html": [
       "<div>\n",
       "<style scoped>\n",
       "    .dataframe tbody tr th:only-of-type {\n",
       "        vertical-align: middle;\n",
       "    }\n",
       "\n",
       "    .dataframe tbody tr th {\n",
       "        vertical-align: top;\n",
       "    }\n",
       "\n",
       "    .dataframe thead th {\n",
       "        text-align: right;\n",
       "    }\n",
       "</style>\n",
       "<table border=\"1\" class=\"dataframe\">\n",
       "  <thead>\n",
       "    <tr style=\"text-align: right;\">\n",
       "      <th></th>\n",
       "      <th>ANSWER</th>\n",
       "      <th>TIMES</th>\n",
       "    </tr>\n",
       "  </thead>\n",
       "  <tbody>\n",
       "    <tr>\n",
       "      <th>0</th>\n",
       "      <td>(0.080, 0.227)</td>\n",
       "      <td>3</td>\n",
       "    </tr>\n",
       "    <tr>\n",
       "      <th>1</th>\n",
       "      <td>(0.087, 0.220)</td>\n",
       "      <td>1</td>\n",
       "    </tr>\n",
       "    <tr>\n",
       "      <th>2</th>\n",
       "      <td>(0.078, 0.230)</td>\n",
       "      <td>1</td>\n",
       "    </tr>\n",
       "  </tbody>\n",
       "</table>\n",
       "</div>"
      ],
      "text/plain": [
       "           ANSWER  TIMES\n",
       "0  (0.080, 0.227)      3\n",
       "1  (0.087, 0.220)      1\n",
       "2  (0.078, 0.230)      1"
      ]
     },
     "execution_count": 47,
     "metadata": {},
     "output_type": "execute_result"
    }
   ],
   "source": [
    "counts = CoT_SC_Counts(samples['FINAL_ANSWER'], model=lxw.gpt35_turbo)\n",
    "counts"
   ]
  },
  {
   "cell_type": "code",
   "execution_count": null,
   "id": "c77d20d8-504f-4b44-9fe1-26fd897200ae",
   "metadata": {},
   "outputs": [],
   "source": []
  },
  {
   "cell_type": "markdown",
   "id": "1f921828-5f2e-487c-940a-d56d7f337fd0",
   "metadata": {},
   "source": [
    "### 2.3.4 Bigram 问题"
   ]
  },
  {
   "cell_type": "markdown",
   "id": "d4e83d46-36ec-4e72-9fc4-12f6e1cf6896",
   "metadata": {},
   "source": [
    "N-gram是一种简单有效的统计语言模型，通常n采用1-3之间的值。现有给定训练语料合计3个文档(D1, D2, D3)如下：<br>\n",
    "D1: John read Moby Dick <br>\n",
    "D2: Mary read a different book <br>\n",
    "D3: She read a book by Cher <br>\n",
    "利用Bigram(n=2)求出句子 \"John read a book\" 的概率是(保留2位小数)"
   ]
  },
  {
   "cell_type": "markdown",
   "id": "40494f84-9682-4445-a67b-06842471b6ae",
   "metadata": {},
   "source": [
    "P(\\<SOS> | John) * P(read | John) * P(a | read) * P(book | a) * P(\\<EOS> | book) <br>\n",
    "$ \\frac{1}{3} \\times \\frac{1}{1} \\times \\frac{2}{3} \\times \\frac {1}{2} \\times \\frac {1}{2} \\approx 0.06 $"
   ]
  },
  {
   "cell_type": "markdown",
   "id": "3038040d-893a-4db2-8809-129174cdfe61",
   "metadata": {},
   "source": [
    "#### GPT 4 Turbo"
   ]
  },
  {
   "cell_type": "code",
   "execution_count": 6,
   "id": "d64188e0-88c8-45d4-8f9e-33444abcd624",
   "metadata": {},
   "outputs": [
    {
     "data": {
      "text/html": [
       "<div>\n",
       "<style scoped>\n",
       "    .dataframe tbody tr th:only-of-type {\n",
       "        vertical-align: middle;\n",
       "    }\n",
       "\n",
       "    .dataframe tbody tr th {\n",
       "        vertical-align: top;\n",
       "    }\n",
       "\n",
       "    .dataframe thead th {\n",
       "        text-align: right;\n",
       "    }\n",
       "</style>\n",
       "<table border=\"1\" class=\"dataframe\">\n",
       "  <thead>\n",
       "    <tr style=\"text-align: right;\">\n",
       "      <th></th>\n",
       "      <th>FINAL_ANSWER</th>\n",
       "      <th>CONTENT</th>\n",
       "    </tr>\n",
       "  </thead>\n",
       "  <tbody>\n",
       "    <tr>\n",
       "      <th>0</th>\n",
       "      <td>0.03</td>\n",
       "      <td>思考过程: \\n\\n首先，要计算句子 \"John read a book\" 在Bigram模...</td>\n",
       "    </tr>\n",
       "    <tr>\n",
       "      <th>1</th>\n",
       "      <td>0.06</td>\n",
       "      <td>思考过程: \\n首先需要理解Bigram模型，即二元模型，这种模型是按照序列中相邻的两个项计...</td>\n",
       "    </tr>\n",
       "    <tr>\n",
       "      <th>2</th>\n",
       "      <td>0.33</td>\n",
       "      <td>思考过程: \\n首先，我们需要从给定的文档中提取出bigram的概率。Bigram是指文本中...</td>\n",
       "    </tr>\n",
       "    <tr>\n",
       "      <th>3</th>\n",
       "      <td>0.67</td>\n",
       "      <td>思考过程:\\n首先应该基于给定的三个文档(D1, D2, D3)，提取出所有的Bigram(...</td>\n",
       "    </tr>\n",
       "    <tr>\n",
       "      <th>4</th>\n",
       "      <td>0.5</td>\n",
       "      <td>思考过程: \\n首先，我们需要根据给定的训练语料（D1, D2, D3）来计算所有需要的Bi...</td>\n",
       "    </tr>\n",
       "  </tbody>\n",
       "</table>\n",
       "</div>"
      ],
      "text/plain": [
       "  FINAL_ANSWER                                            CONTENT\n",
       "0         0.03  思考过程: \\n\\n首先，要计算句子 \"John read a book\" 在Bigram模...\n",
       "1         0.06  思考过程: \\n首先需要理解Bigram模型，即二元模型，这种模型是按照序列中相邻的两个项计...\n",
       "2         0.33  思考过程: \\n首先，我们需要从给定的文档中提取出bigram的概率。Bigram是指文本中...\n",
       "3         0.67  思考过程:\\n首先应该基于给定的三个文档(D1, D2, D3)，提取出所有的Bigram(...\n",
       "4          0.5  思考过程: \\n首先，我们需要根据给定的训练语料（D1, D2, D3）来计算所有需要的Bi..."
      ]
     },
     "execution_count": 6,
     "metadata": {},
     "output_type": "execute_result"
    }
   ],
   "source": [
    "q = '''N-gram是一种简单有效的统计语言模型，通常n采用1-3之间的值。现有给定训练语料合计3个文档(D1, D2, D3)如下：\n",
    "D1: John read Moby Dick\n",
    "D2: Mary read a different book\n",
    "D3: She read a book by Cher\n",
    "利用Bigram(n=2)求出句子 \"John read a book\" 的概率是(保留2位小数)\n",
    "'''\n",
    "samples = CoT_SC_Sampling(q, 5, model=lxw.gpt4_turbo_0125)\n",
    "samples"
   ]
  },
  {
   "cell_type": "code",
   "execution_count": 7,
   "id": "8058250c-ae23-4912-828b-952b027b9b52",
   "metadata": {},
   "outputs": [
    {
     "data": {
      "text/html": [
       "<div>\n",
       "<style scoped>\n",
       "    .dataframe tbody tr th:only-of-type {\n",
       "        vertical-align: middle;\n",
       "    }\n",
       "\n",
       "    .dataframe tbody tr th {\n",
       "        vertical-align: top;\n",
       "    }\n",
       "\n",
       "    .dataframe thead th {\n",
       "        text-align: right;\n",
       "    }\n",
       "</style>\n",
       "<table border=\"1\" class=\"dataframe\">\n",
       "  <thead>\n",
       "    <tr style=\"text-align: right;\">\n",
       "      <th></th>\n",
       "      <th>ANSWER</th>\n",
       "      <th>TIMES</th>\n",
       "    </tr>\n",
       "  </thead>\n",
       "  <tbody>\n",
       "    <tr>\n",
       "      <th>0</th>\n",
       "      <td>0.03</td>\n",
       "      <td>1</td>\n",
       "    </tr>\n",
       "    <tr>\n",
       "      <th>1</th>\n",
       "      <td>0.06</td>\n",
       "      <td>1</td>\n",
       "    </tr>\n",
       "    <tr>\n",
       "      <th>2</th>\n",
       "      <td>0.33</td>\n",
       "      <td>1</td>\n",
       "    </tr>\n",
       "    <tr>\n",
       "      <th>3</th>\n",
       "      <td>0.67</td>\n",
       "      <td>1</td>\n",
       "    </tr>\n",
       "    <tr>\n",
       "      <th>4</th>\n",
       "      <td>0.5</td>\n",
       "      <td>1</td>\n",
       "    </tr>\n",
       "  </tbody>\n",
       "</table>\n",
       "</div>"
      ],
      "text/plain": [
       "  ANSWER  TIMES\n",
       "0   0.03      1\n",
       "1   0.06      1\n",
       "2   0.33      1\n",
       "3   0.67      1\n",
       "4    0.5      1"
      ]
     },
     "execution_count": 7,
     "metadata": {},
     "output_type": "execute_result"
    }
   ],
   "source": [
    "counts = CoT_SC_Counts(samples['FINAL_ANSWER'])\n",
    "counts"
   ]
  },
  {
   "cell_type": "code",
   "execution_count": null,
   "id": "6e5dd71f-52f0-406f-b99b-deeb8058dfd0",
   "metadata": {},
   "outputs": [],
   "source": []
  },
  {
   "cell_type": "markdown",
   "id": "c112ea07-de6c-4f53-963a-c133b79e7f39",
   "metadata": {},
   "source": [
    "### 2.3.5 位移问题"
   ]
  },
  {
   "cell_type": "markdown",
   "id": "193eea89-285c-4788-8f72-0342ba418834",
   "metadata": {},
   "source": [
    "小明先向东走2米，接着向西走6米，最后向南走3米。则他在这段运动中的位移大小和路程分别是？"
   ]
  },
  {
   "cell_type": "markdown",
   "id": "e6bc32ba-ec1c-469f-b82e-106e1d815182",
   "metadata": {},
   "source": [
    "小明开始位置为 $(0, 0)$ 。向东走2米后，位置为 $(2, 0)$。再向西走6米后，位置为 $(4, 0)$。最后向南走3米后，位置为 $(4,-3)$。<br>\n",
    "根据毕达哥拉斯定理，位移大小为 $$ c = \\sqrt{a ^2 + b ^2} = \\sqrt{4 ^2 + (-3) ^2} = 5 $$"
   ]
  },
  {
   "cell_type": "markdown",
   "id": "f9f301dd-759e-4985-a67b-c6a2804f4110",
   "metadata": {},
   "source": [
    "#### GPT 4 Turbo"
   ]
  },
  {
   "cell_type": "code",
   "execution_count": 15,
   "id": "559ffbf1-e6cf-4677-be63-65b06ece187d",
   "metadata": {},
   "outputs": [
    {
     "data": {
      "text/html": [
       "<div>\n",
       "<style scoped>\n",
       "    .dataframe tbody tr th:only-of-type {\n",
       "        vertical-align: middle;\n",
       "    }\n",
       "\n",
       "    .dataframe tbody tr th {\n",
       "        vertical-align: top;\n",
       "    }\n",
       "\n",
       "    .dataframe thead th {\n",
       "        text-align: right;\n",
       "    }\n",
       "</style>\n",
       "<table border=\"1\" class=\"dataframe\">\n",
       "  <thead>\n",
       "    <tr style=\"text-align: right;\">\n",
       "      <th></th>\n",
       "      <th>FINAL_ANSWER</th>\n",
       "      <th>CONTENT</th>\n",
       "    </tr>\n",
       "  </thead>\n",
       "  <tbody>\n",
       "    <tr>\n",
       "      <th>0</th>\n",
       "      <td>位移大小: 5 米\\n路程: 11 米</td>\n",
       "      <td>思考过程:\\n小明的运动可以简化为两个垂直方向上的运动。此处，位移定义为向量，它有方向和大小...</td>\n",
       "    </tr>\n",
       "    <tr>\n",
       "      <th>1</th>\n",
       "      <td>位移大小是5米，路程是11米。</td>\n",
       "      <td>思考过程: \\n小明的运动可以分解为三个部分:\\n1. 向东走2米\\n2. 向西走6米\\n3...</td>\n",
       "    </tr>\n",
       "    <tr>\n",
       "      <th>2</th>\n",
       "      <td>位移大小：5米\\n路程：11米</td>\n",
       "      <td>思考过程: \\n小明的运动可以分解为三个部分。\\n1. 向东走2米。\\n2. 向西走6米。由...</td>\n",
       "    </tr>\n",
       "    <tr>\n",
       "      <th>3</th>\n",
       "      <td>位移大小是5米，路程是11米。</td>\n",
       "      <td>思考过程: \\n1. 小明向东走2米再向西走6米，他在东西方向的合成位移是向西走6米减去向东...</td>\n",
       "    </tr>\n",
       "    <tr>\n",
       "      <th>4</th>\n",
       "      <td>位移大小是5米，路程是11米。</td>\n",
       "      <td>思考过程:\\n小明的运动可以分解为东西方向和南北方向的两部分。\\n1. 东西方向:\\n   ...</td>\n",
       "    </tr>\n",
       "  </tbody>\n",
       "</table>\n",
       "</div>"
      ],
      "text/plain": [
       "          FINAL_ANSWER                                            CONTENT\n",
       "0  位移大小: 5 米\\n路程: 11 米  思考过程:\\n小明的运动可以简化为两个垂直方向上的运动。此处，位移定义为向量，它有方向和大小...\n",
       "1      位移大小是5米，路程是11米。  思考过程: \\n小明的运动可以分解为三个部分:\\n1. 向东走2米\\n2. 向西走6米\\n3...\n",
       "2      位移大小：5米\\n路程：11米  思考过程: \\n小明的运动可以分解为三个部分。\\n1. 向东走2米。\\n2. 向西走6米。由...\n",
       "3      位移大小是5米，路程是11米。  思考过程: \\n1. 小明向东走2米再向西走6米，他在东西方向的合成位移是向西走6米减去向东...\n",
       "4      位移大小是5米，路程是11米。  思考过程:\\n小明的运动可以分解为东西方向和南北方向的两部分。\\n1. 东西方向:\\n   ..."
      ]
     },
     "execution_count": 15,
     "metadata": {},
     "output_type": "execute_result"
    }
   ],
   "source": [
    "q = '''小明先向东走2米，接着向西走6米，最后向南走3米。则他在这段运动中的位移大小和路程分别是？'''\n",
    "samples = CoT_SC_Sampling(q, 5, model=lxw.gpt4_turbo_1106)\n",
    "samples"
   ]
  },
  {
   "cell_type": "code",
   "execution_count": 14,
   "id": "7b5f9cb3-3ac0-438b-a2a3-1196b4bd7f94",
   "metadata": {},
   "outputs": [
    {
     "data": {
      "text/html": [
       "<div>\n",
       "<style scoped>\n",
       "    .dataframe tbody tr th:only-of-type {\n",
       "        vertical-align: middle;\n",
       "    }\n",
       "\n",
       "    .dataframe tbody tr th {\n",
       "        vertical-align: top;\n",
       "    }\n",
       "\n",
       "    .dataframe thead th {\n",
       "        text-align: right;\n",
       "    }\n",
       "</style>\n",
       "<table border=\"1\" class=\"dataframe\">\n",
       "  <thead>\n",
       "    <tr style=\"text-align: right;\">\n",
       "      <th></th>\n",
       "      <th>ANSWER</th>\n",
       "      <th>TIMES</th>\n",
       "    </tr>\n",
       "  </thead>\n",
       "  <tbody>\n",
       "    <tr>\n",
       "      <th>0</th>\n",
       "      <td>位移大小是5米，路程是11米</td>\n",
       "      <td>5</td>\n",
       "    </tr>\n",
       "  </tbody>\n",
       "</table>\n",
       "</div>"
      ],
      "text/plain": [
       "           ANSWER  TIMES\n",
       "0  位移大小是5米，路程是11米      5"
      ]
     },
     "execution_count": 14,
     "metadata": {},
     "output_type": "execute_result"
    }
   ],
   "source": [
    "counts = CoT_SC_Counts(samples['FINAL_ANSWER'])\n",
    "counts"
   ]
  },
  {
   "cell_type": "code",
   "execution_count": null,
   "id": "f95aae02-0a34-4097-9c4a-f3ee927e7810",
   "metadata": {},
   "outputs": [],
   "source": []
  },
  {
   "cell_type": "markdown",
   "id": "968ff627-c7bc-4c82-93f2-59c271a27ace",
   "metadata": {},
   "source": [
    "在CNN网络中，经过核为 $ 3 \\times 3$ ，步长为 $ 2 $ 的卷积层，ReLU激活函数层，BN层，以及一个步长为 $ 2 $，核为 $ 2 \\times 2 $ 的池化层后，再经过一个 $ 3 \\times 3$ ，步长为 $ 1 $ 的卷积层，此时的感受野是?"
   ]
  },
  {
   "cell_type": "markdown",
   "id": "9075cf37-c018-4044-a8e0-54f35c77ba45",
   "metadata": {},
   "source": [
    "感受野计算：$$ RF _{n-1} = RF _{n} \\times S _{n-1} + K _{n-1} $$\n",
    "根据 $ RF _{n} = 1 $ ，从最后一层倒推：\n",
    "> $ RF _{n} = 1 $ \\\n",
    "> $ RF _{n-1} = (1-1) \\times 1 + 3 = 3 $ \\\n",
    "> $ RF _{n-2} = (3-1) \\times 2 + 2 = 6 $ \\\n",
    "> $ RF _{n-3} = (6-1) \\times 2 + 3 = 13 $\n"
   ]
  },
  {
   "cell_type": "code",
   "execution_count": 18,
   "id": "48c528bf-b551-4be1-89f2-8a349def830b",
   "metadata": {},
   "outputs": [
    {
     "data": {
      "text/html": [
       "<div>\n",
       "<style scoped>\n",
       "    .dataframe tbody tr th:only-of-type {\n",
       "        vertical-align: middle;\n",
       "    }\n",
       "\n",
       "    .dataframe tbody tr th {\n",
       "        vertical-align: top;\n",
       "    }\n",
       "\n",
       "    .dataframe thead th {\n",
       "        text-align: right;\n",
       "    }\n",
       "</style>\n",
       "<table border=\"1\" class=\"dataframe\">\n",
       "  <thead>\n",
       "    <tr style=\"text-align: right;\">\n",
       "      <th></th>\n",
       "      <th>FINAL_ANSWER</th>\n",
       "      <th>CONTENT</th>\n",
       "    </tr>\n",
       "  </thead>\n",
       "  <tbody>\n",
       "    <tr>\n",
       "      <th>0</th>\n",
       "      <td>$7 \\times 7$</td>\n",
       "      <td>思考过程:\\n首先，我们需要理解感受野(Receptive Field)的概念，它表示的是在...</td>\n",
       "    </tr>\n",
       "    <tr>\n",
       "      <th>1</th>\n",
       "      <td>8</td>\n",
       "      <td>思考过程: \\n为了计算这个问题的感受野，我们需要根据卷积神经网络（CNN）中各层对感受野的...</td>\n",
       "    </tr>\n",
       "    <tr>\n",
       "      <th>2</th>\n",
       "      <td>13</td>\n",
       "      <td>思考过程: \\n首先，我们需要理解感受野的概念，即输入图像中能影响卷积层输出的区域的大小。感...</td>\n",
       "    </tr>\n",
       "    <tr>\n",
       "      <th>3</th>\n",
       "      <td>8</td>\n",
       "      <td>思考过程: \\n首先,对于CNN网络中的感受野，其实指的是输入图像上的区域大小，该区域的所有...</td>\n",
       "    </tr>\n",
       "    <tr>\n",
       "      <th>4</th>\n",
       "      <td>9</td>\n",
       "      <td>思考过程:\\n1. 首先，要理解感受野的概念。感受野（Receptive Field）是卷积...</td>\n",
       "    </tr>\n",
       "  </tbody>\n",
       "</table>\n",
       "</div>"
      ],
      "text/plain": [
       "   FINAL_ANSWER                                            CONTENT\n",
       "0  $7 \\times 7$  思考过程:\\n首先，我们需要理解感受野(Receptive Field)的概念，它表示的是在...\n",
       "1             8  思考过程: \\n为了计算这个问题的感受野，我们需要根据卷积神经网络（CNN）中各层对感受野的...\n",
       "2            13  思考过程: \\n首先，我们需要理解感受野的概念，即输入图像中能影响卷积层输出的区域的大小。感...\n",
       "3             8  思考过程: \\n首先,对于CNN网络中的感受野，其实指的是输入图像上的区域大小，该区域的所有...\n",
       "4             9  思考过程:\\n1. 首先，要理解感受野的概念。感受野（Receptive Field）是卷积..."
      ]
     },
     "execution_count": 18,
     "metadata": {},
     "output_type": "execute_result"
    }
   ],
   "source": [
    "q = '''在CNN网络中，经过核为 $ 3 \\times 3$ ，步长为 $ 2 $ 的卷积层，ReLU激活函数层，BN层，以及一个步长为 $ 2 $，核为 $ 2 \\times 2 $ 的池化层后，再经过一个 $ 3 \\times 3$ ，步长为 $ 1 $ 的卷积层，此时的感受野是?'''\n",
    "\n",
    "samples = CoT_SC_Sampling(q, 5, model=lxw.gpt4_turbo_0125)\n",
    "samples"
   ]
  },
  {
   "cell_type": "code",
   "execution_count": 19,
   "id": "c245dcf6-5577-448b-9da7-8fa4b18bbdfa",
   "metadata": {},
   "outputs": [
    {
     "data": {
      "text/html": [
       "<div>\n",
       "<style scoped>\n",
       "    .dataframe tbody tr th:only-of-type {\n",
       "        vertical-align: middle;\n",
       "    }\n",
       "\n",
       "    .dataframe tbody tr th {\n",
       "        vertical-align: top;\n",
       "    }\n",
       "\n",
       "    .dataframe thead th {\n",
       "        text-align: right;\n",
       "    }\n",
       "</style>\n",
       "<table border=\"1\" class=\"dataframe\">\n",
       "  <thead>\n",
       "    <tr style=\"text-align: right;\">\n",
       "      <th></th>\n",
       "      <th>ANSWER</th>\n",
       "      <th>TIMES</th>\n",
       "    </tr>\n",
       "  </thead>\n",
       "  <tbody>\n",
       "    <tr>\n",
       "      <th>1</th>\n",
       "      <td>8</td>\n",
       "      <td>2</td>\n",
       "    </tr>\n",
       "    <tr>\n",
       "      <th>0</th>\n",
       "      <td>$7 \\times 7$</td>\n",
       "      <td>1</td>\n",
       "    </tr>\n",
       "    <tr>\n",
       "      <th>2</th>\n",
       "      <td>13</td>\n",
       "      <td>1</td>\n",
       "    </tr>\n",
       "    <tr>\n",
       "      <th>3</th>\n",
       "      <td>9</td>\n",
       "      <td>1</td>\n",
       "    </tr>\n",
       "  </tbody>\n",
       "</table>\n",
       "</div>"
      ],
      "text/plain": [
       "         ANSWER  TIMES\n",
       "1             8      2\n",
       "0  $7 \\times 7$      1\n",
       "2            13      1\n",
       "3             9      1"
      ]
     },
     "execution_count": 19,
     "metadata": {},
     "output_type": "execute_result"
    }
   ],
   "source": [
    "counts = CoT_SC_Counts(samples['FINAL_ANSWER'])\n",
    "counts"
   ]
  },
  {
   "cell_type": "code",
   "execution_count": null,
   "id": "c476bbdc-0b6d-48d5-80bc-302117fa4bf4",
   "metadata": {},
   "outputs": [],
   "source": []
  },
  {
   "cell_type": "code",
   "execution_count": null,
   "id": "623810d1-2a0d-4713-aff2-22e2087ebd23",
   "metadata": {},
   "outputs": [],
   "source": []
  },
  {
   "cell_type": "code",
   "execution_count": null,
   "id": "fb4c2306-afc0-42ca-9b7d-bdc6b7742ccb",
   "metadata": {},
   "outputs": [],
   "source": []
  },
  {
   "cell_type": "code",
   "execution_count": null,
   "id": "045c7563-6b1a-4152-ae30-b140db3462a8",
   "metadata": {},
   "outputs": [],
   "source": []
  }
 ],
 "metadata": {
  "kernelspec": {
   "display_name": "Python 3 (ipykernel)",
   "language": "python",
   "name": "python3"
  },
  "language_info": {
   "codemirror_mode": {
    "name": "ipython",
    "version": 3
   },
   "file_extension": ".py",
   "mimetype": "text/x-python",
   "name": "python",
   "nbconvert_exporter": "python",
   "pygments_lexer": "ipython3",
   "version": "3.11.5"
  }
 },
 "nbformat": 4,
 "nbformat_minor": 5
}
