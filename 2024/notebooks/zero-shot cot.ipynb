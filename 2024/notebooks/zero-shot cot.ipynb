{
 "cells": [
  {
   "cell_type": "code",
   "execution_count": 2,
   "id": "5fea0769-008b-4ea2-ad4a-271e6bba6d7a",
   "metadata": {},
   "outputs": [],
   "source": [
    "import lxw"
   ]
  },
  {
   "cell_type": "markdown",
   "id": "ea21a094-51c5-4929-90b9-611803b09be6",
   "metadata": {},
   "source": [
    "### 1. Let's think step by step"
   ]
  },
  {
   "cell_type": "code",
   "execution_count": 3,
   "id": "67394c96-6927-4f16-84a8-f8405d8df0ef",
   "metadata": {},
   "outputs": [
    {
     "name": "stdout",
     "output_type": "stream",
     "text": [
      "--------1--------\n",
      "\n",
      "To determine the displacement and the total distance traveled by the person, we consider each segment of the trip separately and then combine them.\n",
      "\n",
      "**Step 1: Eastward Movement**\n",
      "The person moves 2 meters to the east.\n",
      "\n",
      "**Step 2: Westward Movement**\n",
      "Then, the person moves 6 meters to the west.\n",
      "\n",
      "Since these first two movements are along the same line (east-west direction) but in opposite directions, we can combine them to find the net movement along that line. The net movement to the west is 6 meters - 2 meters = 4 meters west.\n",
      "\n",
      "**Step 3: Southward Movement**\n",
      "Finally, the person moves 3 meters to the south.\n",
      "\n",
      "Now let's analyze the results:\n",
      "\n",
      "**Displacement**\n",
      "The displacement is a vector quantity that considers both magnitude and direction. It is defined as the straight-line distance from the starting point to the final position, along with the direction.\n",
      "\n",
      "To find the magnitude of the displacement vector, we can use the Pythagorean theorem, as the east-west movement and southward movement are perpendicular to each other. The displacement forms the hypotenuse of a right-angled triangle, with the net westward movement and the southward movement forming the two legs.\n",
      "\n",
      "Using the Pythagorean theorem:\n",
      "\\( Displacement (d) = \\sqrt{(westward movement)^2 + (southward movement)^2} \\)\n",
      "\\( d = \\sqrt{(4 m)^2 + (3 m)^2} \\)\n",
      "\\( d = \\sqrt{16 m^2 + 9 m^2} \\)\n",
      "\\( d = \\sqrt{25 m^2} \\)\n",
      "\\( d = 5 m \\)\n",
      "\n",
      "As for the direction, we can calculate the angle θ using trigonometry, specifically the tangent function, where θ is the angle between the westward displacement vector and the southward displacement vector:\n",
      "\\( tan(θ) = \\frac{southward movement}{westward movement} \\)\n",
      "\\( θ = tan^{-1}(\\frac{3 m}{4 m}) \\)\n",
      "\\( θ \\approx tan^{-1}(0.75) \\)\n",
      "\n",
      "Calculating this value:\n",
      "\\( θ \\approx 36.87° \\)\n",
      "\n",
      "Thus, the displacement vector's direction can be described as 36.87° south of west or simply put, southwest.\n",
      "\n",
      "**Total Distance Traveled**\n",
      "The total distance traveled is the sum of all individual segment lengths, regardless of the direction.\n",
      "\n",
      "So, the total distance is the sum of the eastward movement, the westward movement, and the southward movement:\n",
      "\\( Total distance = 2 m + 6 m + 3 m \\)\n",
      "\\( Total distance = 11 m \\)\n",
      "\n",
      "In conclusion, the magnitude of the displacement is 5 meters to the southwest, and the total distance traveled is 11 meters.\n",
      "\n",
      "\n"
     ]
    }
   ],
   "source": [
    "client = lxw.new_client()\n",
    "\n",
    "messages = [\n",
    "    {\n",
    "        \"role\": \"user\",\n",
    "        \"content\": \"\"\"\n",
    "某人先向东走2m，接着向西走6m，最后向南走3m，则他在这段运动中的位移的大小和路程分别是：\n",
    "Let's think step by step. \n",
    "\"\"\"\n",
    "    }\n",
    "]\n",
    "\n",
    "response = client.chat.completions.create(\n",
    "    model = lxw.gpt4_turbo,\n",
    "    messages = messages,\n",
    "    n=1\n",
    ")\n",
    "\n",
    "lxw.print_response(response)"
   ]
  },
  {
   "cell_type": "code",
   "execution_count": 4,
   "id": "fe6c7c86-bf62-47c8-8dbb-f43c2c38b47f",
   "metadata": {},
   "outputs": [
    {
     "name": "stdout",
     "output_type": "stream",
     "text": [
      "--------1--------\n",
      "\n",
      "当分析一个人的位移和路程时，我们区分这两个概念：路程是他所走的总距离，而位移是从初始点到终点的直线距离，并且有方向。\n",
      "\n",
      "1. 向东走2米后，某人开始时的位置发生了向东的变化。\n",
      "2. 然后向西走6米，即会从当前位置向反方向走过他之前走过的2米，并且再继续朝相反方向走4米。\n",
      "3. 最后，他向南走了3米。\n",
      "\n",
      "路程：路程是他所走的总距离，我们只考虑距离的大小，不考虑方向。所以，路程是南北方向和东西方向距离之和。\n",
      "- 向东走了2米\n",
      "- 向西走了6米\n",
      "- 向南走了3米\n",
      "\n",
      "所以，他的路程是 2 + 6 + 3 = 11 米。\n",
      "\n",
      "位移：位移是从初始点到终点的最短直线距离。它是一个向量，具有大小和方向。\n",
      "- 他先向东走2米，然后向西走6米，他在东西方向上的净位移为 -4 米（6米向西 - 2米向东），负号表示最终他在西方相对于起点。\n",
      "- 然后，向南走了3米，这不会影响东西方向上的位移，但在南北方向上产生了一个新的位移。\n",
      "\n",
      "因此，他的最终位移是一个向量，从东向西是4米，在南北方向是3米。我们可以使用勾股定理来计算这个向量的大小（位移的绝对大小）：\n",
      "\n",
      "位移大小 = √(东西方向位移² + 南北方向位移²)\n",
      "           = √((-4)² + 3²)\n",
      "           = √(16 + 9)\n",
      "           = √25\n",
      "           = 5 米\n",
      "\n",
      "所以他在这段运动中的位移大小是 5 米。方向上，位移向量指向西南。\n",
      "\n",
      "\n"
     ]
    }
   ],
   "source": [
    "client = lxw.new_client()\n",
    "\n",
    "messages = [\n",
    "    {\n",
    "        \"role\": \"user\",\n",
    "        \"content\": \"\"\"\n",
    "某人先向东走2m，接着向西走6m，最后向南走3m，则他在这段运动中的位移的大小和路程分别是：\n",
    "让我们一步一步思考. \n",
    "\"\"\"\n",
    "    }\n",
    "]\n",
    "\n",
    "response = client.chat.completions.create(\n",
    "    model = lxw.gpt4_turbo,\n",
    "    messages = messages,\n",
    "    n=1\n",
    ")\n",
    "\n",
    "lxw.print_response(response)"
   ]
  },
  {
   "cell_type": "code",
   "execution_count": null,
   "id": "ae2307d4-69ba-49ce-ad0c-72838d9df31b",
   "metadata": {},
   "outputs": [],
   "source": []
  }
 ],
 "metadata": {
  "kernelspec": {
   "display_name": "Python 3 (ipykernel)",
   "language": "python",
   "name": "python3"
  },
  "language_info": {
   "codemirror_mode": {
    "name": "ipython",
    "version": 3
   },
   "file_extension": ".py",
   "mimetype": "text/x-python",
   "name": "python",
   "nbconvert_exporter": "python",
   "pygments_lexer": "ipython3",
   "version": "3.11.5"
  }
 },
 "nbformat": 4,
 "nbformat_minor": 5
}
