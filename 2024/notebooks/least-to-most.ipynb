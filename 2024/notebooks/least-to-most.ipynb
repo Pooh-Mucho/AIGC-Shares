{
 "cells": [
  {
   "cell_type": "code",
   "execution_count": 2,
   "id": "26e86779-331f-46f7-8fac-65d4bc12be7b",
   "metadata": {},
   "outputs": [],
   "source": [
    "import lxw\n",
    "import pandas as pd\n",
    "import re"
   ]
  },
  {
   "cell_type": "markdown",
   "id": "d87c0c4f-5cbe-40ca-a02e-6af1e6612420",
   "metadata": {},
   "source": [
    "# 1. 客户退货服务"
   ]
  },
  {
   "cell_type": "markdown",
   "id": "6744573f-5866-4d6f-b205-ea71134f9dc0",
   "metadata": {},
   "source": [
    "## 1.1 问题背景"
   ]
  },
  {
   "cell_type": "markdown",
   "id": "183b8b01-d472-4f88-a60a-a6ba00204c3e",
   "metadata": {},
   "source": [
    "你是一名负责友好回应客户询问的客户服务代理。根据以下信息回答客户的问题，不要编造任何关于折扣政策的信息。\\\n",
    "1、退货允许在30天内进行。 // RAG 召回\\\n",
    "2、今天的日期是3月29日。// prompt engineering 或 function 返回\\\n",
    "3、目前所有T恤都有50%的折扣。// RAG 召回 或 function 返回\\\n",
    "4、目前店铺的T恤价格范围是18元到100元。// RAG 召回 或 function 返回"
   ]
  },
  {
   "cell_type": "markdown",
   "id": "b5c160a4-de2d-4c2a-b870-3ae7572cd9bc",
   "metadata": {},
   "source": [
    "我刚刚在3月1日购买了一件你们 Arnold 系列的T恤。当时它有折扣，所以我买了一件原价30元，打了6折的T恤。我看到你们现在有新的折扣是50%。我想知道是否可以退回那件T恤，并且有足够的退款购买你们的两件T恤。"
   ]
  },
  {
   "cell_type": "code",
   "execution_count": null,
   "id": "ecbfd1a1-fc2a-4727-9ab4-8f8f694cc749",
   "metadata": {},
   "outputs": [],
   "source": []
  },
  {
   "cell_type": "markdown",
   "id": "f5386666-a897-44b4-86de-594660c9d02b",
   "metadata": {},
   "source": [
    "## 1.2 直接Prompt（IO）"
   ]
  },
  {
   "cell_type": "code",
   "execution_count": 11,
   "id": "23f6c006-3285-402e-95f7-72c95e23670d",
   "metadata": {},
   "outputs": [],
   "source": [
    "def Direct_IO(question):\n",
    "    system_prompt = '''\n",
    "# Profile\n",
    "你是一名负责友好回应客户询问的客户服务代理。根据 Knowldege 回答客户的问题。\n",
    "\n",
    "# Knowledge\n",
    "1. 退货允许在30天内进行。\n",
    "2. 今天的日期是3月29日。\n",
    "3. 目前所有T恤都有50%的折扣。\n",
    "4. 目前店铺的T恤价格范围是18元到100元。\n",
    "\n",
    "# Constraint\n",
    "1. 你用中文进行回复。\n",
    "2. 禁止编造任何关于折扣政策的信息。\n",
    "'''\n",
    "    messages = [\n",
    "        {\n",
    "            'role': 'system',\n",
    "            'content': system_prompt\n",
    "        },\n",
    "        {\n",
    "            \"role\": \"user\",\n",
    "            \"content\": question\n",
    "        }\n",
    "    ]\n",
    "\n",
    "    client = lxw.new_client(model = lxw.gpt4_turbo_1106)\n",
    "\n",
    "    response = client.chat.completions.create(\n",
    "        model = lxw.gpt4_turbo_1106,\n",
    "        messages = messages\n",
    "    )\n",
    "    return response.choices[0].message.content"
   ]
  },
  {
   "cell_type": "code",
   "execution_count": 16,
   "id": "c0af6d64-9cb4-43e3-9223-1b257016b6db",
   "metadata": {},
   "outputs": [],
   "source": [
    "q = '''我刚刚在3月1日购买了一件你们 Arnold 系列的T恤。当时它有折扣，所以我买了一件原价30元，打了6折的T恤。我看到你们现在有新的折扣是50%。我想知道是否可以退回那件T恤，并且有足够的退款购买你们的两件T恤。'''"
   ]
  },
  {
   "cell_type": "code",
   "execution_count": 10,
   "id": "bba998b1-66b0-45d2-9381-e5fd2c9cc797",
   "metadata": {},
   "outputs": [
    {
     "name": "stdout",
     "output_type": "stream",
     "text": [
      "尊敬的顾客，很感谢您的咨询。关于您的问题，由于今天是3月29日，您在3月1日购买的Arnold系列T恤购买之日起已超过了我们的30天退货政策的允许期限。因此，您将无法退回那件T恤。\n",
      "\n",
      "不过，您可以利用我们当前的促销活动，所有T恤都有50%的折扣。根据店铺T恤的价格范围，现在购买T恤的价格会在9元到50元之间。如果您有兴趣购买新的T恤，请您根据您希望购买的款式和价格，应用现有的折扣来计算可能的购买方案。\n",
      "\n",
      "如果您还有其他问题或需要进一步的帮助，请随时联系我们。谢谢！\n"
     ]
    }
   ],
   "source": [
    "answer = Direct_IO(q)\n",
    "print(answer)"
   ]
  },
  {
   "cell_type": "code",
   "execution_count": null,
   "id": "76b095c7-0798-4654-80ab-00a514fd38b3",
   "metadata": {},
   "outputs": [],
   "source": []
  },
  {
   "cell_type": "markdown",
   "id": "31f9801f-ea29-4cfd-a110-aa41714a1e65",
   "metadata": {},
   "source": [
    "## 1.3 Least to Most Prompting"
   ]
  },
  {
   "cell_type": "code",
   "execution_count": 12,
   "id": "25cd3d3f-0db7-4d25-9de7-599ccf686804",
   "metadata": {},
   "outputs": [],
   "source": [
    "def Decomposition(question):\n",
    "    system_prompt = '''\n",
    "# Profile\n",
    "你是一名负责友好回应客户询问的客户服务代理。根据 Knowldege，分析在回答客户询问之前，必须解决哪些子问题。\n",
    "\n",
    "# Knowledge\n",
    "1. 退货允许在30天内进行。\n",
    "2. 今天的日期是3月29日。\n",
    "3. 目前所有T恤都有50%的折扣。\n",
    "4. 目前店铺的T恤价格范围是18元到100元。\n",
    "\n",
    "# Constraint\n",
    "1. 你用中文进行回复。\n",
    "2. 禁止编造任何关于折扣政策的信息。\n",
    "\n",
    "# Workflow\n",
    "1. 客户输入要询问的问题\n",
    "2. 你输出在回答客户询问之前，必须解决哪些子问题的子问题列表。\n",
    "'''\n",
    "    messages = [\n",
    "        {\n",
    "            'role': 'system',\n",
    "            'content': system_prompt\n",
    "        },\n",
    "        {\n",
    "            \"role\": \"user\",\n",
    "            \"content\": question\n",
    "        }\n",
    "    ]\n",
    "\n",
    "    client = lxw.new_client(model = lxw.gpt4_turbo_1106)\n",
    "\n",
    "    response = client.chat.completions.create(\n",
    "        model = lxw.gpt4_turbo_1106,\n",
    "        messages = messages\n",
    "    )\n",
    "    return response.choices[0].message.content"
   ]
  },
  {
   "cell_type": "code",
   "execution_count": 21,
   "id": "21d308b4-bd82-4d16-ac54-f0ac5146b4db",
   "metadata": {},
   "outputs": [],
   "source": [
    "def Solve_Subproblems(question, subproblems):\n",
    "    system_prompt = '''\n",
    "# Profile\n",
    "你是一名负责友好回应客户询问的客户服务代理。根据 Knowldege，按照 SUBPROBLEMS 规定的子问题列表，一步一步的解决客户询问。\n",
    "\n",
    "# Knowledge\n",
    "1. 退货允许在30天内进行。\n",
    "2. 今天的日期是3月29日。\n",
    "3. 目前所有T恤都有50%的折扣。\n",
    "4. 目前店铺的T恤价格范围是18元到100元。\n",
    "\n",
    "# Constraint\n",
    "1. 你用中文进行回复。\n",
    "2. 你必须一步一步的按照 SUBPROBLEMS 的顺序解决问题。\n",
    "3. 禁止编造任何关于折扣政策的信息。\n",
    "\n",
    "# Workflow\n",
    "1. 用户输入 SUBPROBLEMS 以及要询问的问题\n",
    "2. 你输出解决过程和最后回复\n",
    "'''\n",
    "    messages = [\n",
    "        {\n",
    "            'role': 'system',\n",
    "            'content': system_prompt\n",
    "        },\n",
    "        {\n",
    "            \"role\": \"user\",\n",
    "            \"content\": 'SUBPROBLEMS:\\r\\n' + subproblems + '\\r\\nINQUIRY:\\r\\n' + question\n",
    "        }\n",
    "    ]\n",
    "\n",
    "    client = lxw.new_client(model = lxw.gpt4_turbo_1106)\n",
    "\n",
    "    response = client.chat.completions.create(\n",
    "        model = lxw.gpt4_turbo_1106,\n",
    "        messages = messages\n",
    "    )\n",
    "    return response.choices[0].message.content"
   ]
  },
  {
   "cell_type": "code",
   "execution_count": 27,
   "id": "13173872-0007-4a32-9553-83c90e2a0f74",
   "metadata": {},
   "outputs": [],
   "source": [
    "def Solve_Problem(question, analysis_conclusion):\n",
    "    system_prompt = '''\n",
    "# Profile\n",
    "你是一名负责友好回应客户询问的电话客户服务代理。根据资深客服代表（Senior Customer Service Manager）对客户问题的分析结论，回复客户问题。\n",
    "\n",
    "# Workflow\n",
    "1. 用户输入客户问题（Customer Inquiry）以及资深客服代表（Senior Customer Service Manager）的分析结论。\n",
    "2. 你输出最后对客户的回复。要尽量礼貌的保持与客户良好的关系，并与客户产生进一步的互动。\n",
    "\n",
    "# Constraint\n",
    "1. 你用中文进行回复。\n",
    "'''\n",
    "    messages = [\n",
    "        {\n",
    "            'role': 'system',\n",
    "            'content': system_prompt\n",
    "        },\n",
    "        {\n",
    "            \"role\": \"user\",\n",
    "            \"content\": \n",
    "                'Customer Inquiry:\\r\\n' + question + \n",
    "                '\\r\\nSenior Analysis Conclusion of Customer Service Manager:\\r\\n' + analysis_conclusion\n",
    "        }\n",
    "    ]\n",
    "\n",
    "    client = lxw.new_client(model = lxw.gpt4_turbo_1106)\n",
    "\n",
    "    response = client.chat.completions.create(\n",
    "        model = lxw.gpt4_turbo_1106,\n",
    "        messages = messages\n",
    "    )\n",
    "    return response.choices[0].message.content"
   ]
  },
  {
   "cell_type": "code",
   "execution_count": null,
   "id": "e010b997-726d-483f-98c1-5b8c51b3d12c",
   "metadata": {},
   "outputs": [],
   "source": []
  },
  {
   "cell_type": "code",
   "execution_count": 17,
   "id": "3a89aeee-1e63-41dc-bbcc-a1c75788c7de",
   "metadata": {},
   "outputs": [],
   "source": [
    "q = '''我刚刚在3月1日购买了一件你们 Arnold 系列的T恤。当时它有折扣，所以我买了一件原价30元，打了6折的T恤。我看到你们现在有新的折扣是50%。我想知道是否可以退回那件T恤，并且有足够的退款购买你们的两件T恤。'''"
   ]
  },
  {
   "cell_type": "code",
   "execution_count": 18,
   "id": "bbc559c4-e8c0-4b47-8e67-78488cf8dfd8",
   "metadata": {},
   "outputs": [
    {
     "name": "stdout",
     "output_type": "stream",
     "text": [
      "在回答您的问题之前，我们需要解决以下子问题：\n",
      "\n",
      "1. 顾客购买T恤的日期是否在退货允许的30天内。\n",
      "2. 当前T恤的实际折扣价格计算，基于店铺目前T恤的价格范围和50%的折扣政策。\n",
      "3. 根据顾客所提供的原价和折扣信息，计算顾客购买T恤时的实际支付金额。\n",
      "4. 确定顾客在退货后可用于购买新T恤的预期退款金额。\n",
      "5. 根据目前的折扣情况，计算顾客能否用退款金额购买两件T恤。\n"
     ]
    }
   ],
   "source": [
    "decomposed = Decomposition(q)\n",
    "print(decomposed)"
   ]
  },
  {
   "cell_type": "code",
   "execution_count": 22,
   "id": "813b9ce0-568b-42cf-af97-3db1eadb635b",
   "metadata": {},
   "outputs": [
    {
     "name": "stdout",
     "output_type": "stream",
     "text": [
      "**解决过程:**\n",
      "\n",
      "1. **顾客购买T恤的日期是否在退货允许的30天内。**\n",
      "   顾客购买T恤的日期是3月1日，今天是3月29日。3月29日距离3月1日不到30天，因此购买日期仍在退货允许的30天内。\n",
      "\n",
      "2. **当前T恤的实际折扣价格计算，基于店铺目前T恤的价格范围和50%的折扣政策。**\n",
      "   店铺T恤的原价范围是18元到100元。根据50%的折扣政策，折扣后的价格范围为：\n",
      "   - 最低价格: 18元 * 50% = 9元\n",
      "   - 最高价格: 100元 * 50% = 50元\n",
      "   因此，现在T恤的实际折扣价格在9元到50元之间。\n",
      "\n",
      "3. **根据顾客所提供的原价和折扣信息，计算顾客购买T恤时的实际支付金额。**\n",
      "   顾客提供了原价为30元，并且购买时享受的是6折优惠。\n",
      "   实际支付金额为：30元 * 60% = 18元。\n",
      "\n",
      "4. **确定顾客在退货后可用于购买新T恤的预期退款金额。**\n",
      "   如果顾客退货，按照购买时的实际支付金额进行退款，则退款金额应为18元。\n",
      "\n",
      "5. **根据目前的折扣情况，计算顾客能否用退款金额购买两件T恤。**\n",
      "   目前T恤的实际折扣价格最低为9元，因此使用退款金额18元是可以购买两件最低价的T恤的。如果顾客想购买价格更高的T恤，则可能不够支付两件的费用。\n",
      "\n",
      "**回复:**\n",
      "您好，您在3月1日购买的T恤可以退货，因为还在30天退货期内。您购买时支付的金额为18元。依照我们现在的折扣活动，T恤的价格在9元到50元之间。因此，您退还原先购买的T恤后得到的18元退款，是可以用来购买两件最低价9元的T恤的。如果您选择价格更高的T恤，退款可能不足以支付两件T恤的费用。希望以上信息对您有帮助！\n"
     ]
    }
   ],
   "source": [
    "answer = Solve_Subproblems(q, decomposed)\n",
    "print(answer)"
   ]
  },
  {
   "cell_type": "code",
   "execution_count": 29,
   "id": "9d783089-cab2-4d2a-a5ef-d914e56f5b8e",
   "metadata": {},
   "outputs": [
    {
     "name": "stdout",
     "output_type": "stream",
     "text": [
      "亲爱的顾客，\n",
      "\n",
      "感谢您联系我们！根据您的说明，您于3月1日购买了我们Arnold系列的T恤并享受了6折优惠，因此实际支付了18元。我很高兴通知您，今天是3月29日，您的购买日期仍在我们30天的退货期限内，可执行退货程序。\n",
      "\n",
      "就您的问题，退还商品后，您的退款金额将是18元。目前店铺的所有T恤享受50%的折扣，价格在9元到50元之间。因此，您将能够用18元的退款购买两件定价在9元的T恤。如果您选择的是更高价位的T恤，那么18元可能不足以覆盖两件T恤的费用。\n",
      "\n",
      "如果您希望继续进行退货并重新购买，或者有任何其他问题，请告知我们，我们很乐意为您提供更进一步的帮助。\n",
      "\n",
      "祝购物愉快！\n",
      "\n",
      "顾客服务团队\n"
     ]
    }
   ],
   "source": [
    "print(Solve_Problem(q, answer))"
   ]
  },
  {
   "cell_type": "code",
   "execution_count": null,
   "id": "6ea1bc66-110f-4cba-a604-e5be79e71c69",
   "metadata": {},
   "outputs": [],
   "source": []
  },
  {
   "cell_type": "markdown",
   "id": "1ce130aa-85d9-4d73-a846-90c03f52111e",
   "metadata": {},
   "source": [
    "# 2. 数据分析任务"
   ]
  },
  {
   "cell_type": "code",
   "execution_count": 37,
   "id": "00e9f9e5-aaf5-4487-aaec-fe1874d2dcf7",
   "metadata": {},
   "outputs": [],
   "source": [
    "def DataDecomposition(question):\n",
    "    system_prompt = '''\n",
    "# Profile\n",
    "你是一名数据分析师。分析在解决数据分析任务之前，必须解决哪些子任务。\n",
    "\n",
    "# Constraint\n",
    "1. 你用中文进行回复。\n",
    "2. 子任务拆解必须到最细颗粒度。\n",
    "\n",
    "# Workflow\n",
    "1. 用户输入数据分析任务\n",
    "2. 你扩展这个任务，是这个任务描述更为精确合理以及结构化\n",
    "3. 你输出在解决这个任务之前，必须解决哪些子任务的子任务列表。\n",
    "\n",
    "# Example 1\n",
    "分析任务：哪个班这次语文考试考的最好？\n",
    "扩展任务：获取最近一次考试中，语文科目平均成绩最高的班级\n",
    "子任务列表：\n",
    "1. 获取所有的班级列表\n",
    "2. 获取最近一次语文考试的Id\n",
    "3. 按照最近一次语文考试的Id查询每个班级的平均成绩\n",
    "4. 对班级按照平均成绩进行排序\n",
    "5. 输出平均成绩最高的班级\n",
    "'''\n",
    "    messages = [\n",
    "        {\n",
    "            'role': 'system',\n",
    "            'content': system_prompt\n",
    "        },\n",
    "        {\n",
    "            \"role\": \"user\",\n",
    "            \"content\": question\n",
    "        }\n",
    "    ]\n",
    "\n",
    "    client = lxw.new_client(model = lxw.gpt4_turbo_1106)\n",
    "\n",
    "    response = client.chat.completions.create(\n",
    "        model = lxw.gpt4_turbo_1106,\n",
    "        messages = messages\n",
    "    )\n",
    "    return response.choices[0].message.content"
   ]
  },
  {
   "cell_type": "code",
   "execution_count": 39,
   "id": "dcc784c6-45cc-4357-81ff-33cb69086da1",
   "metadata": {},
   "outputs": [
    {
     "name": "stdout",
     "output_type": "stream",
     "text": [
      "扩展任务：根据C1航道本月与去年同月的数据，计算哪个城市的销售额同比增长幅度最大\n",
      "\n",
      "子任务列表：\n",
      "1. 确定分析涉及的时间范围，即本月及去年同月的具体日期\n",
      "2. 获取C1航道在确定时间范围内的销售数据\n",
      "3. 筛选出有关城市的销售数据\n",
      "4. 计算每个城市在本月的销售总额\n",
      "5. 计算每个城市在去年同月的销售总额\n",
      "6. 对每个城市进行销售额同比增长率的计算（本月销售额 - 去年同月销售额）/ 去年同月销售额 * 100%\n",
      "7. 将城市按同比增长率进行排序\n",
      "8. 选择出同比提升最多的城市\n",
      "9. 根据需要进行数据可视化展示，便于理解和报告分析结果\n"
     ]
    }
   ],
   "source": [
    "print(DataDecomposition('C1航道哪个城市的销售额本月同比提升的最多？'))"
   ]
  },
  {
   "cell_type": "code",
   "execution_count": null,
   "id": "df921c44-bdf9-4f86-a748-4c1f405c7f05",
   "metadata": {},
   "outputs": [],
   "source": []
  }
 ],
 "metadata": {
  "kernelspec": {
   "display_name": "Python 3 (ipykernel)",
   "language": "python",
   "name": "python3"
  },
  "language_info": {
   "codemirror_mode": {
    "name": "ipython",
    "version": 3
   },
   "file_extension": ".py",
   "mimetype": "text/x-python",
   "name": "python",
   "nbconvert_exporter": "python",
   "pygments_lexer": "ipython3",
   "version": "3.11.5"
  }
 },
 "nbformat": 4,
 "nbformat_minor": 5
}
