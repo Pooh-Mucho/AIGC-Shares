{
 "cells": [
  {
   "cell_type": "code",
   "execution_count": 1,
   "id": "5ae87d21-5646-4717-ac91-789d5bb0a7c1",
   "metadata": {},
   "outputs": [],
   "source": [
    "from lxw import gpt4_tokenizer\n",
    "import numpy as np\n",
    "import pandas as pd"
   ]
  },
  {
   "cell_type": "code",
   "execution_count": 2,
   "id": "2097acbe-89aa-4337-93e4-8f7567ce73bf",
   "metadata": {},
   "outputs": [],
   "source": [
    "encoder = tiktoken.encoding_for_model(\"gpt-4\")"
   ]
  },
  {
   "cell_type": "markdown",
   "id": "0770d634-d76b-4298-92be-c2834c52a0a1",
   "metadata": {},
   "source": [
    "# 1. 简单示例"
   ]
  },
  {
   "cell_type": "code",
   "execution_count": 8,
   "id": "95cf7fb3-eabd-4b3c-be0e-5bbb6f47ec14",
   "metadata": {},
   "outputs": [
    {
     "data": {
      "text/html": [
       "<div>\n",
       "<style scoped>\n",
       "    .dataframe tbody tr th:only-of-type {\n",
       "        vertical-align: middle;\n",
       "    }\n",
       "\n",
       "    .dataframe tbody tr th {\n",
       "        vertical-align: top;\n",
       "    }\n",
       "\n",
       "    .dataframe thead th {\n",
       "        text-align: right;\n",
       "    }\n",
       "</style>\n",
       "<table border=\"1\" class=\"dataframe\">\n",
       "  <thead>\n",
       "    <tr style=\"text-align: right;\">\n",
       "      <th></th>\n",
       "      <th>项</th>\n",
       "      <th>值</th>\n",
       "    </tr>\n",
       "  </thead>\n",
       "  <tbody>\n",
       "    <tr>\n",
       "      <th>0</th>\n",
       "      <td>内容</td>\n",
       "      <td>我打开了VSCode，开始编写 hello world</td>\n",
       "    </tr>\n",
       "    <tr>\n",
       "      <th>1</th>\n",
       "      <td>BPE</td>\n",
       "      <td>[37046, 76537, 30867, 35287, 27142, 2123, 3922...</td>\n",
       "    </tr>\n",
       "    <tr>\n",
       "      <th>2</th>\n",
       "      <td>长度</td>\n",
       "      <td>27</td>\n",
       "    </tr>\n",
       "    <tr>\n",
       "      <th>3</th>\n",
       "      <td>BPE长度</td>\n",
       "      <td>12</td>\n",
       "    </tr>\n",
       "  </tbody>\n",
       "</table>\n",
       "</div>"
      ],
      "text/plain": [
       "       项                                                  值\n",
       "0     内容                        我打开了VSCode，开始编写 hello world\n",
       "1    BPE  [37046, 76537, 30867, 35287, 27142, 2123, 3922...\n",
       "2     长度                                                 27\n",
       "3  BPE长度                                                 12"
      ]
     },
     "execution_count": 8,
     "metadata": {},
     "output_type": "execute_result"
    }
   ],
   "source": [
    "s = \"我打开了VSCode，开始编写 hello world\"\n",
    "bpe = gpt4_tokenizer.encode(s)\n",
    "\n",
    "data = np.array([\n",
    "    ['内容', s],\n",
    "    ['BPE', str(bpe)],\n",
    "    ['长度', len(s)],\n",
    "    ['BPE长度', len(bpe)]\n",
    "])\n",
    "\n",
    "df = pd.DataFrame(data, columns=['项', '值'])\n",
    "df"
   ]
  },
  {
   "cell_type": "markdown",
   "id": "edf4ae73-39bc-4daf-8f96-a526103567bd",
   "metadata": {},
   "source": [
    "# 2. 相同长度中文，BPE长度不同"
   ]
  },
  {
   "cell_type": "code",
   "execution_count": 55,
   "id": "7ac26539-7aa8-4b86-9721-6f9728cdbc4f",
   "metadata": {},
   "outputs": [
    {
     "data": {
      "text/html": [
       "<div>\n",
       "<style scoped>\n",
       "    .dataframe tbody tr th:only-of-type {\n",
       "        vertical-align: middle;\n",
       "    }\n",
       "\n",
       "    .dataframe tbody tr th {\n",
       "        vertical-align: top;\n",
       "    }\n",
       "\n",
       "    .dataframe thead th {\n",
       "        text-align: right;\n",
       "    }\n",
       "</style>\n",
       "<table border=\"1\" class=\"dataframe\">\n",
       "  <thead>\n",
       "    <tr style=\"text-align: right;\">\n",
       "      <th></th>\n",
       "      <th>文本</th>\n",
       "      <th>长度</th>\n",
       "    </tr>\n",
       "  </thead>\n",
       "  <tbody>\n",
       "    <tr>\n",
       "      <th>0</th>\n",
       "      <td>姓名</td>\n",
       "      <td>1</td>\n",
       "    </tr>\n",
       "    <tr>\n",
       "      <th>1</th>\n",
       "      <td>手机</td>\n",
       "      <td>1</td>\n",
       "    </tr>\n",
       "    <tr>\n",
       "      <th>2</th>\n",
       "      <td>鼠标</td>\n",
       "      <td>4</td>\n",
       "    </tr>\n",
       "    <tr>\n",
       "      <th>3</th>\n",
       "      <td>编译</td>\n",
       "      <td>3</td>\n",
       "    </tr>\n",
       "  </tbody>\n",
       "</table>\n",
       "</div>"
      ],
      "text/plain": [
       "   文本 长度\n",
       "0  姓名  1\n",
       "1  手机  1\n",
       "2  鼠标  4\n",
       "3  编译  3"
      ]
     },
     "execution_count": 55,
     "metadata": {},
     "output_type": "execute_result"
    }
   ],
   "source": [
    "data = np.array([\n",
    "    ['姓名', 0],\n",
    "    ['手机', 0],\n",
    "    ['鼠标', 0],\n",
    "    ['编译', 0]\n",
    "])\n",
    "\n",
    "data[:,1] = [len(gpt4_tokenizer.encode(s)) for s in data[:,0]]\n",
    "\n",
    "pd.DataFrame(data, columns=['文本', '长度'])\n",
    "    "
   ]
  },
  {
   "cell_type": "markdown",
   "id": "7093ebba-8044-4f2f-a136-e002ba187cc8",
   "metadata": {},
   "source": [
    "# 3. 不常用字，BPE长度较长"
   ]
  },
  {
   "cell_type": "code",
   "execution_count": 53,
   "id": "902bb601-f0da-4b06-99be-246c7f040209",
   "metadata": {},
   "outputs": [
    {
     "data": {
      "text/html": [
       "<div>\n",
       "<style scoped>\n",
       "    .dataframe tbody tr th:only-of-type {\n",
       "        vertical-align: middle;\n",
       "    }\n",
       "\n",
       "    .dataframe tbody tr th {\n",
       "        vertical-align: top;\n",
       "    }\n",
       "\n",
       "    .dataframe thead th {\n",
       "        text-align: right;\n",
       "    }\n",
       "</style>\n",
       "<table border=\"1\" class=\"dataframe\">\n",
       "  <thead>\n",
       "    <tr style=\"text-align: right;\">\n",
       "      <th></th>\n",
       "      <th>字符</th>\n",
       "      <th>BPE 长度</th>\n",
       "    </tr>\n",
       "  </thead>\n",
       "  <tbody>\n",
       "    <tr>\n",
       "      <th>0</th>\n",
       "      <td>一</td>\n",
       "      <td>1</td>\n",
       "    </tr>\n",
       "    <tr>\n",
       "      <th>1</th>\n",
       "      <td>帜</td>\n",
       "      <td>2</td>\n",
       "    </tr>\n",
       "    <tr>\n",
       "      <th>2</th>\n",
       "      <td>巯</td>\n",
       "      <td>2</td>\n",
       "    </tr>\n",
       "    <tr>\n",
       "      <th>3</th>\n",
       "      <td>峡</td>\n",
       "      <td>3</td>\n",
       "    </tr>\n",
       "    <tr>\n",
       "      <th>4</th>\n",
       "      <td>峦</td>\n",
       "      <td>3</td>\n",
       "    </tr>\n",
       "    <tr>\n",
       "      <th>5</th>\n",
       "      <td>峔</td>\n",
       "      <td>3</td>\n",
       "    </tr>\n",
       "    <tr>\n",
       "      <th>6</th>\n",
       "      <td>峓</td>\n",
       "      <td>3</td>\n",
       "    </tr>\n",
       "    <tr>\n",
       "      <th>7</th>\n",
       "      <td>㕛</td>\n",
       "      <td>3</td>\n",
       "    </tr>\n",
       "  </tbody>\n",
       "</table>\n",
       "</div>"
      ],
      "text/plain": [
       "  字符 BPE 长度\n",
       "0  一      1\n",
       "1  帜      2\n",
       "2  巯      2\n",
       "3  峡      3\n",
       "4  峦      3\n",
       "5  峔      3\n",
       "6  峓      3\n",
       "7  㕛      3"
      ]
     },
     "execution_count": 53,
     "metadata": {},
     "output_type": "execute_result"
    }
   ],
   "source": [
    "data = np.array([\n",
    "    ['一', 0],\n",
    "    ['帜', 0],\n",
    "    ['巯', 0],\n",
    "    ['峡', 0],\n",
    "    ['峦', 0],\n",
    "    ['峔', 0],\n",
    "    ['峓', 0],\n",
    "    ['㕛', 0],\n",
    "])\n",
    "\n",
    "data[:,1] = [len(gpt4_tokenizer.encode(s)) for s in data[:,0]]\n",
    "\n",
    "pd.DataFrame(data, columns=['字符', 'BPE 长度'])\n"
   ]
  },
  {
   "cell_type": "code",
   "execution_count": null,
   "id": "7dd5445b-e094-4565-b8f3-eda9113f82ca",
   "metadata": {},
   "outputs": [],
   "source": []
  }
 ],
 "metadata": {
  "kernelspec": {
   "display_name": "Python 3 (ipykernel)",
   "language": "python",
   "name": "python3"
  },
  "language_info": {
   "codemirror_mode": {
    "name": "ipython",
    "version": 3
   },
   "file_extension": ".py",
   "mimetype": "text/x-python",
   "name": "python",
   "nbconvert_exporter": "python",
   "pygments_lexer": "ipython3",
   "version": "3.11.5"
  }
 },
 "nbformat": 4,
 "nbformat_minor": 5
}
