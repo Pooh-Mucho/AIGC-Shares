{
 "cells": [
  {
   "cell_type": "code",
   "execution_count": 14,
   "id": "f1db7345-01a7-4c8b-aaeb-bd1170709668",
   "metadata": {},
   "outputs": [
    {
     "data": {
      "text/plain": [
       "'\\x00,\\x01,\\x02,\\x03,\\x04,\\x05,\\x06,\\x07,\\x08,\\t,\\n,\\x0b,\\x0c,\\r,\\x0e,\\x0f,\\x10,\\x11,\\x12,\\x13,\\x14,\\x15,\\x16,\\x17,\\x18,\\x19,\\x1a,\\x1b,\\x1c,\\x1d,\\x1e,\\x1f, ,!,\",#,$,%,&,\\',(,),*,+,,,-,.,/,0,1,2,3,4,5,6,7,8,9,:,;,<,=,>,?,@,A,B,C,D,E,F,G,H,I,J,K,L,M,N,O,P,Q,R,S,T,U,V,W,X,Y,Z,[,\\\\,],^,_,`,A,B,C,D,E,F,G,H,I,J,K,L,M,N,O,P,Q,R,S,T,U,V,W,X,Y,Z,{,|,},~,\\x7f'"
      ]
     },
     "execution_count": 14,
     "metadata": {},
     "output_type": "execute_result"
    }
   ],
   "source": [
    "chars = [chr(x) for x in range(0x80)]\n",
    "upper_chars = [x.upper() for x in chars]\n",
    "upper_ords = [ord(x) for x in upper_chars]\n",
    "','.join(upper_chars)"
   ]
  },
  {
   "cell_type": "code",
   "execution_count": null,
   "id": "df48970a-69e8-4b69-8aca-bf7fe8d4398d",
   "metadata": {},
   "outputs": [],
   "source": []
  }
 ],
 "metadata": {
  "kernelspec": {
   "display_name": "Python 3 (ipykernel)",
   "language": "python",
   "name": "python3"
  },
  "language_info": {
   "codemirror_mode": {
    "name": "ipython",
    "version": 3
   },
   "file_extension": ".py",
   "mimetype": "text/x-python",
   "name": "python",
   "nbconvert_exporter": "python",
   "pygments_lexer": "ipython3",
   "version": "3.11.5"
  }
 },
 "nbformat": 4,
 "nbformat_minor": 5
}
