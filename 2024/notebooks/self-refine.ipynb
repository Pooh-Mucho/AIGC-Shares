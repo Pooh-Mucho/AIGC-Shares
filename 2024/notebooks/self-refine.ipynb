{
 "cells": [
  {
   "cell_type": "code",
   "execution_count": 1,
   "id": "4a6c4215-e344-4a23-8688-405b18425058",
   "metadata": {},
   "outputs": [],
   "source": [
    "import lxw\n",
    "import pandas as pd\n",
    "import re"
   ]
  },
  {
   "cell_type": "markdown",
   "id": "c7e5bd4c-5601-4819-99b0-f096970efe88",
   "metadata": {},
   "source": [
    "## 1. 代码编写"
   ]
  },
  {
   "cell_type": "code",
   "execution_count": 62,
   "id": "cb08e1f0-7050-4826-ac07-23e3886a5031",
   "metadata": {},
   "outputs": [],
   "source": [
    "def Generate_Java_Code(task, model = ''):\n",
    "    system_prompt = '''\n",
    "# Profile\n",
    "You are a Java Engineer responsible for writing Java code.\n",
    "\n",
    "# Workflow\n",
    "1. Users input the description of the task.\n",
    "2. You generate the Java code.\n",
    "\n",
    "# Constraint\n",
    "Your output should be generated clean Java code, without any other content.\n",
    "\n",
    "# Output\n",
    "Your generated Java code.\n",
    "'''\n",
    "\n",
    "    messages = [\n",
    "        {\n",
    "            'role': 'system',\n",
    "            'content': system_prompt\n",
    "        },\n",
    "        {\n",
    "            \"role\": \"user\",\n",
    "            \"content\": task\n",
    "        }\n",
    "    ]\n",
    "\n",
    "    if not model:\n",
    "        model = lxw.gpt4_turbo\n",
    "        \n",
    "    client = lxw.new_client(model = model)\n",
    "\n",
    "    response = client.chat.completions.create(\n",
    "        model = model,\n",
    "        messages = messages\n",
    "    )\n",
    "    return response.choices[0].message.content"
   ]
  },
  {
   "cell_type": "code",
   "execution_count": 59,
   "id": "1b7e84d2-0fbb-405c-a607-4102e39bbb02",
   "metadata": {},
   "outputs": [],
   "source": [
    "def Review_Java_Code(task, code, model = ''):\n",
    "    system_prompt = '''\n",
    "# Profile\n",
    "You are a Java expert responsible for reviewing Java code to ensure its correctness, robustness, performance, security, and readability.\n",
    "\n",
    "# Workflow\n",
    "1. Users input coding tasks and the written code.\n",
    "2. You carefully understand the the user's scenarios and task requirements and devise a plan to review the code, considering potential problems that may arise during the coding process\n",
    "3. You carry out the plan and review the code step by step.\n",
    "4. You summarize and organize the feedback from the code review.\n",
    "5. If the code is good and has no issues, you reply '评审通过没有问题' at the [Summary] section.\n",
    "\n",
    "# Constraint\n",
    "Your output language should be Chinese.\n",
    "\n",
    "# Output\n",
    "Your process of understanding, thinking, and analysis.\n",
    "[总结]\n",
    "#1 <<Your first comment>>\n",
    "#2 <<Your second comment>>\n",
    "...\n",
    "'''\n",
    "    messages = [\n",
    "        {\n",
    "            'role': 'system',\n",
    "            'content': system_prompt\n",
    "        },\n",
    "        {\n",
    "            \"role\": \"user\",\n",
    "            \"content\": '#Task\\r\\n' + task + '\\r\\nCode:\\r\\n' + code\n",
    "        }\n",
    "    ]\n",
    "    if not model:\n",
    "        model = lxw.gpt4_turbo\n",
    "        \n",
    "    client = lxw.new_client(model = model)\n",
    "\n",
    "    response = client.chat.completions.create(\n",
    "        model = model,\n",
    "        messages = messages\n",
    "    )\n",
    "    content = response.choices[0].message.content\n",
    "    index = content.find('[总结]')\n",
    "    if index >= 0:\n",
    "        return content[index + len('[总结]'):]\n",
    "    return content\n",
    "    "
   ]
  },
  {
   "cell_type": "code",
   "execution_count": 27,
   "id": "36413f89-a34c-428e-af3f-b82e4afa02de",
   "metadata": {},
   "outputs": [],
   "source": [
    "def Refine_Java_Code(task, code, comments, model = ''):\n",
    "    system_prompt = '''\n",
    "# Profile\n",
    "You are a Java expert responsible refine Java code.\n",
    "\n",
    "# Workflow\n",
    "1. Users input the original task requirements, code written according to the requirements, and the code review comments from the code review board.\n",
    "2. You refine and revise the code based on the review suggestions.\n",
    "\n",
    "# Output\n",
    "Your refined Java code and comments, without any other content.\n",
    "'''\n",
    "    messages = [\n",
    "        {\n",
    "            'role': 'system',\n",
    "            'content': system_prompt\n",
    "        },\n",
    "        {\n",
    "            \"role\": \"user\",\n",
    "            \"content\": '#Task\\r\\n' + task + '\\r\\nCode:\\r\\n' + code + '\\r\\n Code Review Comments:\\r\\n' + comments\n",
    "        }\n",
    "    ]\n",
    "    if not model:\n",
    "        model = lxw.gpt4_turbo\n",
    "        \n",
    "    client = lxw.new_client(model = model)\n",
    "\n",
    "    response = client.chat.completions.create(\n",
    "        model = model,\n",
    "        messages = messages\n",
    "    )\n",
    "    return response.choices[0].message.content"
   ]
  },
  {
   "cell_type": "markdown",
   "id": "94f62df6-a63e-4c3f-93e3-cf3deaf43f31",
   "metadata": {},
   "source": [
    "#### 1.1 利率计算"
   ]
  },
  {
   "cell_type": "markdown",
   "id": "e1e89e79-072b-4028-a984-520254873293",
   "metadata": {},
   "source": [
    "你是一名Java开发人员。你负责编写代码完成每日根据利率结算利息任务。函数的声明如下：<br/>\n",
    "public static long[] calculateInterest(long[] accountBalances, BigDecimal dailyInterestRate) <br/>\n",
    "输入：<br/>\n",
    "accountBalances：账户余额，精确到分。<br/>\n",
    "dailyInterestRate：当日利率，精确到12位小数。<br/>\n",
    "输出：计算好的利息。\n",
    "\n",
    "\n"
   ]
  },
  {
   "cell_type": "code",
   "execution_count": 63,
   "id": "83e24b44-43e0-4c11-8a13-f894f5360a95",
   "metadata": {},
   "outputs": [],
   "source": [
    "task = '''\n",
    "根据账户的余额与日利率结算利息。函数的声明如下：\n",
    "public static long[] calculateInterest(long[] accountBalances, double dailyInterestRate)\n",
    "输入：\n",
    "accountBalances：账户余额，精确到分。\n",
    "dailyInterestRate：当日利率，精确到12位小数。\n",
    "输出：计算好的利息。\n",
    "'''"
   ]
  },
  {
   "cell_type": "code",
   "execution_count": 64,
   "id": "1a785c58-0dc5-42e9-af78-83701f5ad1c0",
   "metadata": {},
   "outputs": [
    {
     "name": "stdout",
     "output_type": "stream",
     "text": [
      "```java\n",
      "public static long[] calculateInterest(long[] accountBalances, double dailyInterestRate) {\n",
      "    long[] interests = new long[accountBalances.length];\n",
      "    for (int i = 0; i < accountBalances.length; i++) {\n",
      "        double interest = accountBalances[i] * dailyInterestRate;\n",
      "        interests[i] = Math.round(interest);\n",
      "    }\n",
      "    return interests;\n",
      "}\n",
      "```\n"
     ]
    }
   ],
   "source": [
    "code = Generate_Java_Code(task, model = lxw.gpt4_turbo_1106)\n",
    "print(code)"
   ]
  },
  {
   "cell_type": "code",
   "execution_count": 65,
   "id": "87028e24-a503-4b58-9680-4ef084fe264d",
   "metadata": {},
   "outputs": [
    {
     "name": "stdout",
     "output_type": "stream",
     "text": [
      "\n",
      "#1 代码逻辑正确，可以正确计算出每个账户的计息结果。\n",
      "#2 考虑到金融类应用对精度的严苛要求，建议使用`BigDecimal`进行利息计算，以避免潜在的精度损失问题。\n",
      "#3 增加边界条件及异常输入的检查，提高代码的健壮性和稳定性。\n"
     ]
    }
   ],
   "source": [
    "feedback = Review_Java_Code(task, code, model = lxw.gpt4_turbo_0125)\n",
    "print(feedback)"
   ]
  },
  {
   "cell_type": "code",
   "execution_count": 75,
   "id": "3704d239-1d98-4ad6-89e9-0777eb4cb38f",
   "metadata": {},
   "outputs": [
    {
     "name": "stdout",
     "output_type": "stream",
     "text": [
      "```java\n",
      "import java.math.BigDecimal;\n",
      "import java.math.RoundingMode;\n",
      "\n",
      "public static long[] calculateInterest(long[] accountBalances, double dailyInterestRate) {\n",
      "    long[] interests = new long[accountBalances.length];\n",
      "\n",
      "    // 转换日利率为BigDecimal以确保精确计算\n",
      "    BigDecimal rate = BigDecimal.valueOf(dailyInterestRate);\n",
      "\n",
      "    for (int i = 0; i < accountBalances.length; i++) {\n",
      "        // 只对正余额账户计算利息\n",
      "        if (accountBalances[i] > 0) {\n",
      "            // 将账户余额从“分”转换为“元”（即除以100）\n",
      "            BigDecimal balanceInYuan = BigDecimal.valueOf(accountBalances[i]).divide(BigDecimal.valueOf(100));\n",
      "            // 计算利息\n",
      "            BigDecimal interest = balanceInYuan.multiply(rate).setScale(0, RoundingMode.HALF_UP);\n",
      "            // 回转为“分”并存储结果\n",
      "            interests[i] = interest.longValue() * 100;\n",
      "        } else {\n",
      "            // 负余额或零余额账户不计算利息\n",
      "            interests[i] = 0;\n",
      "        }\n",
      "    }\n",
      "    return interests;\n",
      "}\n",
      "```\n"
     ]
    }
   ],
   "source": [
    "refined_code = Refine_Java_Code(task, code, feedback, model = lxw.gpt4_turbo_0125)\n",
    "print(refined_code)"
   ]
  },
  {
   "cell_type": "code",
   "execution_count": 76,
   "id": "c077ed7c-ee74-4da7-85ce-402f3834fba9",
   "metadata": {},
   "outputs": [
    {
     "name": "stdout",
     "output_type": "stream",
     "text": [
      "\n",
      "#1 **精度处理注意事项**：代码使用了`BigDecimal`以确保金融计算的精度，这是非常适当的。然而，在将利息从元转回分时，通过`interest.longValue() * 100`的方式可能存在精度问题。正确的做法应该是先乘以100再使用`setScale`确保无小数部分，然后再转换成`long`类型，这样可以避免潜在的四舍五入错误。\n",
      "\n",
      "#2 **利率转换逻辑的简化**：在计算利息时，建议将日利率直接应用于账户余额（已以分为单位），避免了将余额从分转换为元，计算后再从元转回分的过程。这样做可以简化逻辑，并可能提高性能。\n",
      "\n",
      "#3 **异常处理**：方法的声明和当前实现中没有处理任何关于输入参数的异常情况，例如`null`值输入、`dailyInterestRate`不合理（负值或过高的值）等。建议添加对这些潜在问题的检测和处理逻辑，来提高代码的健壮性。\n",
      "\n",
      "#4 **代码注释和可读性**：代码中的注释清晰地说明了各个步骤的目的，这对维护者理解代码逻辑很有帮助。不过，在一些关键变量转换处理上，考虑增加更详细的说明，以便让读者能够快速理解代码中的转换逻辑。\n",
      "\n",
      "#5 **性能考量**：在处理大量账户余额数据时，应当注意循环内部的性能。目前的实现中，每次循环都会创建新的`BigDecimal`对象来计算利息，这对内存和处理速度都可能构成负担。若账户余额数量庞大，可以考虑对代码进行优化，以减少资源消耗。\n",
      "\n",
      "总体而言，代码实现了基本功能，但在精度控制、异常处理和性能优化上还有改进空间。通过对上述建议进行调整，可以使代码更健壮、更高效，同时也提高了代码的安全性和可读性。\n"
     ]
    }
   ],
   "source": [
    "feedback = Review_Java_Code(task, refined_code, model = lxw.gpt4_turbo_0125)\n",
    "print(feedback)"
   ]
  },
  {
   "cell_type": "code",
   "execution_count": 78,
   "id": "da057309-8f43-41ef-8a7c-6b2eab2ca0a3",
   "metadata": {},
   "outputs": [
    {
     "name": "stdout",
     "output_type": "stream",
     "text": [
      "```java\n",
      "import java.math.BigDecimal;\n",
      "\n",
      "public static long[] calculateInterest(long[] accountBalances, double dailyInterestRate) {\n",
      "    // Check for null input and invalid dailyInterestRate\n",
      "    if (accountBalances == null || dailyInterestRate < 0) {\n",
      "        throw new IllegalArgumentException(\"Invalid input\");\n",
      "    }\n",
      "\n",
      "    long[] interests = new long[accountBalances.length];\n",
      "    BigDecimal rate = BigDecimal.valueOf(dailyInterestRate);\n",
      "\n",
      "    for (int i = 0; i < accountBalances.length; i++) {\n",
      "        // Convert account balance to BigDecimal for precision\n",
      "        BigDecimal balance = BigDecimal.valueOf(accountBalances[i]);\n",
      "        // Calculate interest in BigDecimal then convert it to long (detailed precision handling)\n",
      "        BigDecimal interest = balance.multiply(rate).setScale(0, BigDecimal.ROUND_HALF_UP);\n",
      "        interests[i] = interest.longValue();\n",
      "    }\n",
      "    return interests;\n",
      "}\n",
      "```\n"
     ]
    }
   ],
   "source": [
    "refined_code = Refine_Java_Code(task, code, feedback, model = lxw.gpt4_turbo_0125)\n",
    "print(refined_code)"
   ]
  },
  {
   "cell_type": "code",
   "execution_count": 84,
   "id": "d0c8fecb-b2c3-4706-9a71-a5f96ccfb210",
   "metadata": {},
   "outputs": [
    {
     "name": "stdout",
     "output_type": "stream",
     "text": [
      "\n",
      "#1 使用BigDecimal对货币计算进行精确处理，避免了精度丢失的问题。\n",
      "#2 需要考虑对负利率的处理，这取决于具体业务场景。\n",
      "#3 异常处理中，应包含更多的错误细节，以便调用者定位问题。\n",
      "#4 在性能敏感的应用中，要注意使用BigDecimal可能带来的性能影响。\n"
     ]
    }
   ],
   "source": [
    "feedback = Review_Java_Code(task, refined_code, model = lxw.gpt4_turbo_0125)\n",
    "print(feedback)"
   ]
  },
  {
   "cell_type": "code",
   "execution_count": 85,
   "id": "ee4ca1f9-5de7-4684-8c49-3a2cead68ad6",
   "metadata": {},
   "outputs": [
    {
     "name": "stdout",
     "output_type": "stream",
     "text": [
      "```java\n",
      "import java.math.BigDecimal;\n",
      "import java.math.RoundingMode;\n",
      "\n",
      "public static long[] calculateInterest(long[] accountBalances, double dailyInterestRate) {\n",
      "    // Check for null input and verify dailyInterestRate is within expected range\n",
      "    if (accountBalances == null) {\n",
      "        throw new IllegalArgumentException(\"Account balances must not be null.\");\n",
      "    }\n",
      "    if (dailyInterestRate < -1) { // Assuming -100% is the minimum possible daily interest rate\n",
      "        throw new IllegalArgumentException(\"Daily interest rate cannot be less than -100%.\");\n",
      "    }\n",
      "\n",
      "    long[] interests = new long[accountBalances.length];\n",
      "    BigDecimal rate = BigDecimal.valueOf(dailyInterestRate);\n",
      "\n",
      "    for (int i = 0; i < accountBalances.length; i++) {\n",
      "        // Handling negative balance with precision\n",
      "        BigDecimal balance = new BigDecimal(accountBalances[i]);\n",
      "\n",
      "        // Calculate interest precisely. Use HALF_UP for rounding mode to mimic traditional rounding.\n",
      "        BigDecimal interest = balance.multiply(rate).setScale(0, RoundingMode.HALF_UP);\n",
      "\n",
      "        interests[i] = interest.longValue();\n",
      "    }\n",
      "    \n",
      "    // Important note on performance: For applications where performance is a critical concern,\n",
      "    // consider the implications of using BigDecimal. In such cases, profiling and optimization\n",
      "    // may be necessary, possibly including alternative approaches to handling precision.\n",
      "    \n",
      "    return interests;\n",
      "}\n",
      "```\n"
     ]
    }
   ],
   "source": [
    "refined_code = Refine_Java_Code(task, refined_code, feedback, model = lxw.gpt4_turbo_0125)\n",
    "print(refined_code)"
   ]
  },
  {
   "cell_type": "code",
   "execution_count": 87,
   "id": "50dc82c1-1f1a-403f-9035-3e6b498e511b",
   "metadata": {},
   "outputs": [
    {
     "name": "stdout",
     "output_type": "stream",
     "text": [
      "\n",
      "#1 此段代码在保证精度的同时，很好地处理了输入验证，使用 `BigDecimal` 来进行金额和利率的计算，这对于金融相关软件是非常重要的。\n",
      "#2 代码考虑了负余额的情况，这是合理的，因为在某些金融系统中，账户可能会有透支。\n",
      "#3 使用 `BigDecimal.setScale(0, RoundingMode.HALF_UP)` 来进行四舍五入至整数部分是适当的，它遵循了传统的四舍五入规则。\n",
      "#4 检查日利率小于-1的逻辑是合理的，防止了异常数据对计算结果产生影响。\n",
      "#5 注释中提到了关于性能的重要提示，这是必要的，因为 `BigDecimal` 的使用可能对性能有较大影响。在性能敏感的应用中，可能需要进一步的性能优化措施。\n",
      "#6 代码风格清晰，有利于阅读理解，同时也包括了适当且有用的注释。\n",
      "\n",
      "综上所述，这段代码是高质量的，根据当前提供的需求和代码样例，没有明显的缺陷或需要改进的地方。代码的设计和实现都考虑得非常周到。\n"
     ]
    }
   ],
   "source": [
    "feedback = Review_Java_Code(task, refined_code, model = lxw.gpt4_turbo_0125)\n",
    "print(feedback)"
   ]
  },
  {
   "cell_type": "markdown",
   "id": "7c951e04-654c-441f-92dc-bc678f2f581f",
   "metadata": {},
   "source": [
    "### 1.2 中位数计算"
   ]
  },
  {
   "cell_type": "markdown",
   "id": "fe32c195-49b8-4aa0-b6ac-359148d1030b",
   "metadata": {},
   "source": [
    "选自LeetCode（困难）题目。<br>\n",
    "\n",
    "给定两个大小分别为 m 和 n 的正序（从小到大）数组 nums1 和 nums2。请你找出并返回这两个正序数组的 中位数 。 \\\n",
    "算法的时间复杂度应该为 O(log (m+n)) 。\n",
    "\n",
    "示例 1： \\\n",
    "输入：nums1 = \\[1, 3\\], nums2 = \\[2\\] \\\n",
    "输出：2\n",
    "\n",
    "方法声明如下： \\\n",
    "class Solution { \\\n",
    "    public double findMedianSortedArrays(int[] nums1, int[] nums2) { \\\n",
    "    } \\\n",
    "}\n"
   ]
  },
  {
   "cell_type": "code",
   "execution_count": 88,
   "id": "a6d480e3-be57-49b0-8045-b81fb91c4c22",
   "metadata": {},
   "outputs": [],
   "source": [
    "task = '''\n",
    "给定两个大小分别为 m 和 n 的正序（从小到大）数组 nums1 和 nums2。请你找出并返回这两个正序数组的 中位数 。\n",
    "算法的时间复杂度应该为 O(log (m+n)) 。\n",
    "\n",
    "示例 1：\n",
    "输入：nums1 = [1, 3], nums2 = [2]\n",
    "输出：2\n",
    "\n",
    "方法声明如下：\n",
    "class Solution {\n",
    "    public double findMedianSortedArrays(int[] nums1, int[] nums2) {\n",
    "    } \n",
    "}\n",
    "'''"
   ]
  },
  {
   "cell_type": "code",
   "execution_count": 89,
   "id": "c1a3ab83-62d5-45ed-8bdf-cfb8ce023416",
   "metadata": {},
   "outputs": [
    {
     "name": "stdout",
     "output_type": "stream",
     "text": [
      "```java\n",
      "class Solution {\n",
      "    public double findMedianSortedArrays(int[] nums1, int[] nums2) {\n",
      "        if (nums1.length > nums2.length) {\n",
      "            return findMedianSortedArrays(nums2, nums1);\n",
      "        }\n",
      "        \n",
      "        int x = nums1.length;\n",
      "        int y = nums2.length;\n",
      "        int low = 0;\n",
      "        int high = x;\n",
      "        \n",
      "        while (low <= high) {\n",
      "            int partitionX = (low + high) / 2;\n",
      "            int partitionY = (x + y + 1) / 2 - partitionX;\n",
      "\n",
      "            int maxLeftX = (partitionX == 0) ? Integer.MIN_VALUE : nums1[partitionX - 1];\n",
      "            int minRightX = (partitionX == x) ? Integer.MAX_VALUE : nums1[partitionX];\n",
      "\n",
      "            int maxLeftY = (partitionY == 0) ? Integer.MIN_VALUE : nums2[partitionY - 1];\n",
      "            int minRightY = (partitionY == y) ? Integer.MAX_VALUE : nums2[partitionY];\n",
      "\n",
      "            if (maxLeftX <= minRightY && maxLeftY <= minRightX) {\n",
      "                if ((x + y) % 2 == 0) {\n",
      "                    return ((double)Math.max(maxLeftX, maxLeftY) + Math.min(minRightX, minRightY))/2;\n",
      "                } else {\n",
      "                    return (double)Math.max(maxLeftX, maxLeftY);\n",
      "                }\n",
      "            } else if (maxLeftX > minRightY) {\n",
      "                high = partitionX - 1;\n",
      "            } else {\n",
      "                low = partitionX + 1;\n",
      "            }\n",
      "        }\n",
      "\n",
      "        throw new IllegalArgumentException();\n",
      "    }\n",
      "}\n",
      "```\n"
     ]
    }
   ],
   "source": [
    "code = Generate_Java_Code(task, model = lxw.gpt4_turbo_0125)\n",
    "feedback = Review_Java_Code(task, code, model = lxw.gpt4_turbo_0125)\n",
    "N = 1\n",
    "while N < 10 and feedback.find('评审通过') < 0:\n",
    "    code = Refine_Java_Code(task, code, feedback, model = lxw.gpt4_turbo_0125)\n",
    "    feedback = Review_Java_Code(task, code, model = lxw.gpt4_turbo_0125)\n",
    "    N += 1\n",
    "\n",
    "print(code)"
   ]
  },
  {
   "cell_type": "markdown",
   "id": "305958b7-ebc2-4f8c-8b6d-fe11918e6090",
   "metadata": {},
   "source": [
    "![](./images/self-refine-1.png)"
   ]
  },
  {
   "cell_type": "code",
   "execution_count": null,
   "id": "6dcce972-f466-4c38-a2b0-f1092419c9fe",
   "metadata": {},
   "outputs": [],
   "source": []
  },
  {
   "cell_type": "markdown",
   "id": "31704f05-6d92-450c-a6b9-40d2a894c31b",
   "metadata": {},
   "source": [
    "## 2. 通用模板"
   ]
  },
  {
   "cell_type": "code",
   "execution_count": 5,
   "id": "d6de6cb0-cbaa-45df-9ee7-cd1ba88f544e",
   "metadata": {},
   "outputs": [],
   "source": [
    "def Generate_Generic(task, model = ''):\n",
    "    system_prompt = '''\n",
    "# Workflow\n",
    "1. Users input the description of the task.\n",
    "2. You generate the response.\n",
    "\n",
    "# Constraint\n",
    "Your output language should be Chinese.\n",
    "'''\n",
    "\n",
    "    messages = [\n",
    "        {\n",
    "            'role': 'system',\n",
    "            'content': system_prompt\n",
    "        },\n",
    "        {\n",
    "            \"role\": \"user\",\n",
    "            \"content\": task\n",
    "        }\n",
    "    ]\n",
    "\n",
    "    if not model:\n",
    "        model = lxw.gpt4_turbo\n",
    "        \n",
    "    client = lxw.new_client(model = model)\n",
    "\n",
    "    response = client.chat.completions.create(\n",
    "        model = model,\n",
    "        messages = messages\n",
    "    )\n",
    "    return response.choices[0].message.content"
   ]
  },
  {
   "cell_type": "code",
   "execution_count": 9,
   "id": "f2f1d97e-97c7-447f-9c4e-31f39436f54f",
   "metadata": {},
   "outputs": [],
   "source": [
    "def Review_Generic(task, result, model = ''):\n",
    "    system_prompt = '''\n",
    "# Profile\n",
    "You are a reviewer.\n",
    "\n",
    "# Workflow\n",
    "1. Users input task and result.\n",
    "2. You carefully understand the the user's scenarios and task requirements and review the result step by step.\n",
    "3. You summarize and organize the feedback.\n",
    "4. If the result is good enough, you reply '评审通过没有问题'.\n",
    "\n",
    "# Constraint\n",
    "Your output language should be Chinese.\n",
    "'''\n",
    "    messages = [\n",
    "        {\n",
    "            'role': 'system',\n",
    "            'content': system_prompt\n",
    "        },\n",
    "        {\n",
    "            \"role\": \"user\",\n",
    "            \"content\": '<Task>\\r\\n' + task + '</Task>\\r\\n' + '<Result>\\r\\n' + result + '</Result>'\n",
    "        }\n",
    "    ]\n",
    "    if not model:\n",
    "        model = lxw.gpt4_turbo\n",
    "        \n",
    "    client = lxw.new_client(model = model)\n",
    "\n",
    "    response = client.chat.completions.create(\n",
    "        model = model,\n",
    "        messages = messages\n",
    "    )\n",
    "    content = response.choices[0].message.content\n",
    "    return content"
   ]
  },
  {
   "cell_type": "code",
   "execution_count": 10,
   "id": "9c09dfa8-3a7f-45a5-8d50-87813599dc99",
   "metadata": {},
   "outputs": [],
   "source": [
    "def Refine_Generic(task, result, feedback, model = ''):\n",
    "    system_prompt = '''\n",
    "# Profile\n",
    "You are a refiner.\n",
    "\n",
    "# Workflow\n",
    "1. Users input the original task requirements, result to the requirements, and the review suggestions.\n",
    "2. You refine and revise the result based on the review suggestions.\n",
    "'''\n",
    "    messages = [\n",
    "        {\n",
    "            'role': 'system',\n",
    "            'content': system_prompt\n",
    "        },\n",
    "        {\n",
    "            \"role\": \"user\",\n",
    "            \"content\": \n",
    "                '<Task>\\r\\n' + task + '</Task>\\r\\n' + \n",
    "                '<Result>\\r\\n' + result + '</Result>\\r\\n' + \n",
    "                '<Review-Suggestions>\\r\\n' + feedback + '</Review-Suggestions>'\n",
    "        }\n",
    "    ]\n",
    "    if not model:\n",
    "        model = lxw.gpt4_turbo\n",
    "        \n",
    "    client = lxw.new_client(model = model)\n",
    "\n",
    "    response = client.chat.completions.create(\n",
    "        model = model,\n",
    "        messages = messages\n",
    "    )\n",
    "    return response.choices[0].message.content"
   ]
  },
  {
   "cell_type": "markdown",
   "id": "2e2f6509-4837-41bf-a935-8e450f192568",
   "metadata": {},
   "source": [
    "### 2.1 内容总结（1）"
   ]
  },
  {
   "cell_type": "code",
   "execution_count": 96,
   "id": "4b967738-7378-4b46-9bd6-b03dbbd49445",
   "metadata": {},
   "outputs": [],
   "source": [
    "task = '''在200字以内，总结一下水浒传的关键内容'''\n"
   ]
  },
  {
   "cell_type": "code",
   "execution_count": 97,
   "id": "1ad58330-b7a3-476d-b0ce-f2f40ad658aa",
   "metadata": {},
   "outputs": [
    {
     "name": "stdout",
     "output_type": "stream",
     "text": [
      "《水浒传》是中国古代四大名著之一，作者是施耐庵，与罗贯中的《三国演义》、吴承恩的《西游记》、曹雪芹的《红楼梦》并称。这部小说通过对宋江、吴用等108位梁山好汉的叙述，展现了他们反抗封建官僚、贪官污吏的斗争。故事背景设定在北宋末年，以官逼民反、义士聚义等为线索，刻画了一个个栩栩如生、个性鲜明的人物形象，并且充分展现了当时社会的矛盾和冲突。全书中描写了很多激动人心的战斗场景，并通过梁山英雄们的故事，表达了人民对于正义、自由、平等的渴望和追求，以及对现实社会不公的批判。《水浒传》贯穿着深刻的社会意义，同时文笔细腻，情节丰富多变，是中国文学史上的一颗璀璨明珠。\n"
     ]
    }
   ],
   "source": [
    "result = Generate_Generic(task, model = lxw.gpt4_turbo_1106)\n",
    "print(result)"
   ]
  },
  {
   "cell_type": "code",
   "execution_count": 99,
   "id": "7898b8c3-de7e-4e46-8e10-4c5ff6553e03",
   "metadata": {},
   "outputs": [
    {
     "name": "stdout",
     "output_type": "stream",
     "text": [
      "总体评价：\n",
      "审查结果显示，上述总结有效地概述了《水浒传》的关键内容，涵盖了主要故事背景、主题和社会价值。文字流畅、信息准确，并妥当地将这部史诗般的作品浓缩成简短的概述。\n",
      "\n",
      "具体反馈：\n",
      "1. 作者提及：正确地指出《水浒传》的作者是施耐庵，并将其与其他三大名著进行了比较，体现出《水浒传》在中国文化中的重要地位。\n",
      "2. 主要人物与主题：汇总中提到宋江、吴用等108位梁山好汉，以及他们对抗封建社会不公的斗争，体现了小说主要的内容要旨。\n",
      "3. 故事背景与情节：正确指出故事发生在北宋末年，以反映民间矛盾和冲突，并点出了官逼民反和聚义抗争这些核心情节。\n",
      "4. 社会意义：该总结强调了小说的社会意义，即反映民众对正义、自由、平等的渴求，以及对现存社会不公的批判。\n",
      "5. 文学价值：提到了《水浒传》的文学特征，如细腻的文笔和丰富多变的情节，体现出对作品艺术成就的认可。\n",
      "\n",
      "改进建议：\n",
      "- 虽然该总结内容涵盖周全，但没有提及作品中著名的一些章节或者情节，比如“智取生辰纲”、“宋江投靠朝廷”等，这些对于体现小说特色同样重要。考虑到字数限制，可以在不影响其他要点的前提下适当提及。\n",
      "- 尽管无需过多赘述，但若能简要提及作品中的文学手法，例如对比、象征等，也有助于增加评述的深度。\n",
      "\n",
      "综上所述，该总结准确且条理清晰，对《水浒传》的理解适当。稍加润色和丰富，可使其更为完善。\n"
     ]
    }
   ],
   "source": [
    "feedback = Review_Generic(task, result, model = lxw.gpt4_turbo_1106)\n",
    "print(feedback)"
   ]
  },
  {
   "cell_type": "code",
   "execution_count": 102,
   "id": "399d969b-8f59-4243-9b2b-cc80339856ef",
   "metadata": {},
   "outputs": [
    {
     "name": "stdout",
     "output_type": "stream",
     "text": [
      "《水浒传》是中国古代四大名著之一，由施耐庵所著。它通过宋江、吴用等108位反抗封建压迫的梁山好汉的故事，展示了他们对抗官僚、贪官的不屈斗争。设于北宋末年，这部小说以官逼民反和士人聚义作为主要线索，描绘了丰富的人物性格并反映了深刻的社会矛盾。它包括许多激动人心的情节如“智取生辰纲”，还有宋江投靠朝廷等转折点，展现了人民对公正、自由、平等的追求和对不正之风的强烈批判。《水浒传》不仅社会意义深远，其精妙的文笔和运用对比、象征等文学手法也使其成为中国文学的瑰宝。\n"
     ]
    }
   ],
   "source": [
    "refined_result = Refine_Generic(task, result, feedback, model = lxw.gpt4_turbo_1106)\n",
    "print(refined_result)"
   ]
  },
  {
   "cell_type": "markdown",
   "id": "850ee5ba-8a1b-4677-a449-c60660590dd7",
   "metadata": {},
   "source": [
    "### 2.2 内容总结（2）"
   ]
  },
  {
   "cell_type": "code",
   "execution_count": 14,
   "id": "094aad01-a769-4ff6-a81f-50667b2889d6",
   "metadata": {},
   "outputs": [
    {
     "name": "stdout",
     "output_type": "stream",
     "text": [
      "<Result>\n",
      "《西游记》是一部幻想世界的杰作，讲述了唐僧师徒四人西天取经的艰难历程。他们跨越重重难关，抗击各种妖魔鬼怪，展示了坚韧不拔的毅力和对佛法的虔诚追求。孙悟空的机智勇敢、猪八戒的憨厚可爱、沙僧的忠诚稳重，以及唐僧的慈悲为怀，共同绘制了一幅生动活泼、充满想象的壮丽画卷。这部作品不仅仅是一场奇幻的冒险，更是一次关于忠诚、勇气、智慧与修行的深刻探索。它引领我们穿越神话的迷雾，探求人性的光芒，体验精神的升华。每一个故事都是一场心灵的触动，每一个情节都饱含哲理。《西游记》是中华文化的瑰宝，它邀请每一个渴望冒险、寻求真知的读者，一起踏上这条通往西天的神奇旅程。</Result>\n"
     ]
    }
   ],
   "source": [
    "task = '''在200字以内，总结一下《西游记》的关键内容。要富有文学性与艺术性，能够让人引发阅读《西游记》的愿望。'''\n",
    "\n",
    "result = Generate_Generic(task, model = lxw.gpt4_turbo_0125)\n",
    "feedback = Review_Generic(task, result, model = lxw.gpt4_turbo_0125)\n",
    "N = 0\n",
    "while N < 3 and feedback.find('评审通过') >= 0:\n",
    "    result = Refine_Generic(task, result, feedback, model = lxw.gpt4_turbo_0125)\n",
    "    N += 1\n",
    "print(result)"
   ]
  },
  {
   "cell_type": "markdown",
   "id": "e05cfd77-c9ae-48a2-ab76-4d748334966f",
   "metadata": {},
   "source": [
    "### 2.3 翻译任务"
   ]
  },
  {
   "cell_type": "code",
   "execution_count": 20,
   "id": "f0906eac-b06f-4e52-b8b9-68c205764182",
   "metadata": {},
   "outputs": [],
   "source": [
    "task = '''\n",
    "将以下内容翻译并润色为中文。要求符合中文表达习惯，使用简单的词汇，优雅通顺。\n",
    "Spending lots of time thinking about different possible future scenarios and their probabilities might be captivating, but I suggest an absolutely different approach — to try to build your prototype yourself. First, it’s rather challenging and fun. Second, it will help us to look at our work in a more structured way. Third, it will give us an opportunity to try in practice one of the most cutting-edge approaches — LLM agents.\n",
    "'''"
   ]
  },
  {
   "cell_type": "code",
   "execution_count": 22,
   "id": "145ca7b9-c19e-45ea-a541-6e73669b1634",
   "metadata": {},
   "outputs": [
    {
     "name": "stdout",
     "output_type": "stream",
     "text": [
      "花费大量时间沉思各种可能的未来情境和它们的可能性或许很有吸引力，但我建议一种完全不同的方法 —— 亲手试着构建你的原型。首先，这种做法不仅充满挑战，也极富趣味。其次，它能帮我们以更加有序的方式来审视我们的工作。第三，它为我们提供了一个机会，让我们能够实践一种最尖端的方法 —— LLM 代理。\n"
     ]
    }
   ],
   "source": [
    "result = Generate_Generic(task, model = lxw.gpt4_turbo_0125)\n",
    "feedback = Review_Generic(task, result, model = lxw.gpt4_turbo_0125)\n",
    "N = 0\n",
    "while N < 5 and feedback.find('评审通过') >= 0:\n",
    "    result = Refine_Generic(task, result, feedback, model = lxw.gpt4_turbo_0125)\n",
    "    N += 1\n",
    "print(result)"
   ]
  },
  {
   "cell_type": "code",
   "execution_count": null,
   "id": "101b2efa-3408-4a90-9cc1-9300a8de7c78",
   "metadata": {},
   "outputs": [],
   "source": []
  },
  {
   "cell_type": "code",
   "execution_count": null,
   "id": "c0dbc65e-65ea-4a72-8bae-e2ef7f701fd4",
   "metadata": {},
   "outputs": [],
   "source": []
  }
 ],
 "metadata": {
  "kernelspec": {
   "display_name": "Python 3 (ipykernel)",
   "language": "python",
   "name": "python3"
  },
  "language_info": {
   "codemirror_mode": {
    "name": "ipython",
    "version": 3
   },
   "file_extension": ".py",
   "mimetype": "text/x-python",
   "name": "python",
   "nbconvert_exporter": "python",
   "pygments_lexer": "ipython3",
   "version": "3.11.5"
  }
 },
 "nbformat": 4,
 "nbformat_minor": 5
}
